{
 "cells": [
  {
   "cell_type": "code",
   "execution_count": 3,
   "id": "8f4c0baa-1ceb-418a-bedb-55f139b6bb19",
   "metadata": {},
   "outputs": [],
   "source": [
    "from sklearn.datasets import load_diabetes\n",
    "from sklearn.linear_model import LinearRegression , Ridge , Lasso , ElasticNet\n",
    "from sklearn.model_selection import train_test_split\n",
    "from sklearn.metrics import r2_score"
   ]
  },
  {
   "cell_type": "code",
   "execution_count": 4,
   "id": "2abdd249-34f2-4279-b830-ac1153740c9e",
   "metadata": {},
   "outputs": [],
   "source": [
    "X,y = load_diabetes(return_X_y=True)"
   ]
  },
  {
   "cell_type": "code",
   "execution_count": 6,
   "id": "b2f3778f-be01-4b7f-9af1-a89ee8a68385",
   "metadata": {},
   "outputs": [],
   "source": [
    "X_train , X_test , y_train ,y_test =train_test_split(X,y,\n",
    "                                                     test_size=0.2,\n",
    "                                                     random_state=2)"
   ]
  },
  {
   "cell_type": "code",
   "execution_count": 7,
   "id": "fae10c0a-9bff-4333-824b-33147b94663d",
   "metadata": {},
   "outputs": [
    {
     "data": {
      "text/plain": [
       "0.4399338661568968"
      ]
     },
     "execution_count": 7,
     "metadata": {},
     "output_type": "execute_result"
    }
   ],
   "source": [
    "# Linear Regression\n",
    "lr = LinearRegression()\n",
    "lr = lr.fit(X_train ,y_train)\n",
    "y_pred = lr.predict(X_test)\n",
    "r2_score(y_test , y_pred)"
   ]
  },
  {
   "cell_type": "code",
   "execution_count": 8,
   "id": "b912fedd-8308-4139-8679-f9b736bcc5b8",
   "metadata": {},
   "outputs": [
    {
     "data": {
      "text/plain": [
       "0.45199494197195456"
      ]
     },
     "execution_count": 8,
     "metadata": {},
     "output_type": "execute_result"
    }
   ],
   "source": [
    "#Ridge\n",
    "R = Ridge(alpha=0.1)\n",
    "R = R.fit(X_train,y_train)\n",
    "y_pred  = R.predict(X_test)\n",
    "r2_score(y_test, y_pred)"
   ]
  },
  {
   "cell_type": "code",
   "execution_count": 18,
   "id": "88718a11-eecf-4907-a5db-3725b9c316ac",
   "metadata": {},
   "outputs": [
    {
     "data": {
      "text/plain": [
       "0.4411466494387548"
      ]
     },
     "execution_count": 18,
     "metadata": {},
     "output_type": "execute_result"
    }
   ],
   "source": [
    "#Lasso\n",
    "L = Lasso(alpha=0.005)\n",
    "L = L.fit(X_train , y_train)\n",
    "y_pred = L.predict(X_test)\n",
    "r2_score(y_test,y_pred)"
   ]
  },
  {
   "cell_type": "code",
   "execution_count": 19,
   "id": "ede5681b-fa86-4534-86a9-73b1245be924",
   "metadata": {},
   "outputs": [
    {
     "data": {
      "text/plain": [
       "0.4531474541554822"
      ]
     },
     "execution_count": 19,
     "metadata": {},
     "output_type": "execute_result"
    }
   ],
   "source": [
    "#ElasticNet\n",
    "en = ElasticNet(alpha=0.005 , l1_ratio = 0.9)\n",
    "en = en.fit(X_train ,y_train)\n",
    "y_pred = en.predict(X_test)\n",
    "r2_score(y_test , y_pred)"
   ]
  },
  {
   "cell_type": "code",
   "execution_count": null,
   "id": "e0704ab2-2b44-4aaf-acd0-e0be58366d02",
   "metadata": {},
   "outputs": [],
   "source": []
  }
 ],
 "metadata": {
  "kernelspec": {
   "display_name": "Python [conda env:base] *",
   "language": "python",
   "name": "conda-base-py"
  },
  "language_info": {
   "codemirror_mode": {
    "name": "ipython",
    "version": 3
   },
   "file_extension": ".py",
   "mimetype": "text/x-python",
   "name": "python",
   "nbconvert_exporter": "python",
   "pygments_lexer": "ipython3",
   "version": "3.12.7"
  }
 },
 "nbformat": 4,
 "nbformat_minor": 5
}
