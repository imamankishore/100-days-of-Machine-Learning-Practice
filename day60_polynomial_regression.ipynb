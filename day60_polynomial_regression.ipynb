{
 "cells": [
  {
   "cell_type": "code",
   "execution_count": 1,
   "id": "258f6d71-98fd-481a-b39a-3246afa2c0bb",
   "metadata": {},
   "outputs": [],
   "source": [
    "import numpy as np\n",
    "import pandas as pd\n",
    "\n",
    "from sklearn.model_selection import train_test_split\n",
    "from sklearn.linear_model import LinearRegression ,SGDRegressor\n",
    "from sklearn.preprocessing import PolynomialFeatures , StandardScaler\n",
    "from sklearn.metrics import r2_score\n",
    "from sklearn.pipeline import Pipeline "
   ]
  },
  {
   "cell_type": "code",
   "execution_count": 2,
   "id": "a179dfb8-5958-479d-815c-2fcf7500e1d3",
   "metadata": {},
   "outputs": [],
   "source": [
    "X = 6*np.random.rand(200,1) - 3\n",
    "y = 0.8 *X**2 +0.9 + np.random.randn(200,1)\n",
    "\n",
    "# y = 0.8 X to the power2 + 0.9x +2"
   ]
  },
  {
   "cell_type": "code",
   "execution_count": 111,
   "id": "2f6887f9-0a4d-40d7-9eb8-dbc857773379",
   "metadata": {},
   "outputs": [
    {
     "data": {
      "text/plain": [
       "array([[-1.39672645],\n",
       "       [ 1.19884132],\n",
       "       [ 2.13349022],\n",
       "       [-2.28974844],\n",
       "       [-2.44578944],\n",
       "       [ 0.5723809 ],\n",
       "       [-0.40939433],\n",
       "       [-0.90186835],\n",
       "       [ 1.86487031],\n",
       "       [ 0.84259699],\n",
       "       [ 2.97852006],\n",
       "       [-1.73041801],\n",
       "       [ 1.54376688],\n",
       "       [ 0.72771868],\n",
       "       [ 2.81944865],\n",
       "       [ 0.15003245],\n",
       "       [-1.93257538],\n",
       "       [ 0.880911  ],\n",
       "       [ 0.55777647],\n",
       "       [-0.81481077],\n",
       "       [-0.79641493],\n",
       "       [ 1.53364106],\n",
       "       [-2.17560649],\n",
       "       [-1.5692545 ],\n",
       "       [ 1.58728675],\n",
       "       [ 2.68121258],\n",
       "       [-2.13178076],\n",
       "       [-1.48877392],\n",
       "       [-1.2416487 ],\n",
       "       [-0.39306862],\n",
       "       [ 2.86250839],\n",
       "       [ 1.62021313],\n",
       "       [ 0.11183688],\n",
       "       [-2.98187313],\n",
       "       [-2.69935401],\n",
       "       [ 1.61296048],\n",
       "       [-2.64308305],\n",
       "       [ 1.52253233],\n",
       "       [-1.17292758],\n",
       "       [ 2.69471432],\n",
       "       [ 2.46870677],\n",
       "       [-1.55289954],\n",
       "       [ 1.24132582],\n",
       "       [ 1.71173059],\n",
       "       [ 0.28912654],\n",
       "       [ 2.28856545],\n",
       "       [-1.03258228],\n",
       "       [ 0.93731897],\n",
       "       [ 1.0429234 ],\n",
       "       [-0.68919743],\n",
       "       [-1.6838291 ],\n",
       "       [ 2.31516713],\n",
       "       [ 1.41984877],\n",
       "       [ 1.68772038],\n",
       "       [ 0.46574857],\n",
       "       [-0.56465908],\n",
       "       [ 2.92216766],\n",
       "       [ 2.01997397],\n",
       "       [-2.70945206],\n",
       "       [-0.84515905],\n",
       "       [-2.17101011],\n",
       "       [ 1.60847934],\n",
       "       [-1.6157512 ],\n",
       "       [-0.91794612],\n",
       "       [ 2.57333864],\n",
       "       [-2.7893423 ],\n",
       "       [ 2.59264735],\n",
       "       [-1.97980412],\n",
       "       [-2.1396407 ],\n",
       "       [-2.72551677],\n",
       "       [ 0.04154176],\n",
       "       [ 0.77468006],\n",
       "       [ 0.82015872],\n",
       "       [ 2.61777617],\n",
       "       [-0.39534302],\n",
       "       [ 0.52046605],\n",
       "       [-0.88832731],\n",
       "       [-1.56203761],\n",
       "       [-2.49177252],\n",
       "       [ 2.40516694],\n",
       "       [-0.82086996],\n",
       "       [-1.85208836],\n",
       "       [ 2.5916799 ],\n",
       "       [-1.4053582 ],\n",
       "       [-2.91373019],\n",
       "       [-2.05246667],\n",
       "       [-0.64246001],\n",
       "       [-0.96881566],\n",
       "       [ 2.36907986],\n",
       "       [ 2.11106091],\n",
       "       [ 2.54441571],\n",
       "       [ 0.1078411 ],\n",
       "       [-1.67265667],\n",
       "       [-2.89916601],\n",
       "       [-2.62176081],\n",
       "       [-0.09234017],\n",
       "       [ 0.03251023],\n",
       "       [-2.33300405],\n",
       "       [ 1.92138891],\n",
       "       [ 2.86761061],\n",
       "       [ 1.93402448],\n",
       "       [ 2.15025452],\n",
       "       [-0.68358889],\n",
       "       [-2.73421989],\n",
       "       [ 0.19630923],\n",
       "       [-2.22700718],\n",
       "       [ 1.82444634],\n",
       "       [-1.96755212],\n",
       "       [-2.38142275],\n",
       "       [ 0.83423835],\n",
       "       [ 0.3018674 ],\n",
       "       [-0.64675645],\n",
       "       [ 0.66522294],\n",
       "       [ 1.98301472],\n",
       "       [-1.20942924],\n",
       "       [ 1.79558677],\n",
       "       [-0.43091352],\n",
       "       [-1.96340968],\n",
       "       [ 2.73545921],\n",
       "       [ 0.10642536],\n",
       "       [ 0.22505665],\n",
       "       [ 1.92072005],\n",
       "       [-1.97966574],\n",
       "       [-0.15525472],\n",
       "       [ 0.02191912],\n",
       "       [ 0.16597535],\n",
       "       [-1.2877195 ],\n",
       "       [-1.34065797],\n",
       "       [ 1.15356527],\n",
       "       [-0.71638898],\n",
       "       [ 2.39445109],\n",
       "       [-2.20281563],\n",
       "       [ 0.09493724],\n",
       "       [-0.6271699 ],\n",
       "       [ 2.88626403],\n",
       "       [-1.51132161],\n",
       "       [-2.19892532],\n",
       "       [ 1.10690507],\n",
       "       [-1.93667279],\n",
       "       [-0.09195993],\n",
       "       [ 2.93960077],\n",
       "       [-1.02083035],\n",
       "       [ 1.76493347],\n",
       "       [-1.4073892 ],\n",
       "       [ 0.21106165],\n",
       "       [-1.44521426],\n",
       "       [-2.97113406],\n",
       "       [-0.03168018],\n",
       "       [-0.58986856],\n",
       "       [-0.13873313],\n",
       "       [ 1.42257909],\n",
       "       [ 0.69104118],\n",
       "       [-0.53925495],\n",
       "       [-2.70596901],\n",
       "       [-2.74259365],\n",
       "       [-2.27732601],\n",
       "       [-2.57506835],\n",
       "       [ 1.25483313],\n",
       "       [ 2.66760286],\n",
       "       [ 1.78285522],\n",
       "       [ 1.28266794],\n",
       "       [-0.09109442],\n",
       "       [-1.52976805],\n",
       "       [ 0.18432505],\n",
       "       [ 0.75481105],\n",
       "       [ 1.33670961],\n",
       "       [ 1.0903192 ],\n",
       "       [ 0.75652439],\n",
       "       [ 1.23543442],\n",
       "       [-2.31033895],\n",
       "       [-0.21603761],\n",
       "       [-0.42749487],\n",
       "       [-2.9295617 ],\n",
       "       [-0.81208048],\n",
       "       [-2.42433706],\n",
       "       [ 2.68341462],\n",
       "       [-1.63294303],\n",
       "       [ 1.34098216],\n",
       "       [-1.00643334],\n",
       "       [-2.89823223],\n",
       "       [ 0.97732317],\n",
       "       [-1.32060807],\n",
       "       [ 1.83387682],\n",
       "       [-1.3845558 ],\n",
       "       [-1.45177148],\n",
       "       [ 0.68312807],\n",
       "       [ 1.17273036],\n",
       "       [-1.18437382],\n",
       "       [ 2.18841148],\n",
       "       [-1.95215294],\n",
       "       [ 2.06285378],\n",
       "       [ 2.66225257],\n",
       "       [ 0.9879301 ],\n",
       "       [-0.02668624],\n",
       "       [ 0.48150419],\n",
       "       [-2.7154994 ],\n",
       "       [-2.63383639],\n",
       "       [-2.77049699],\n",
       "       [-2.55952418],\n",
       "       [ 1.58102326]])"
      ]
     },
     "execution_count": 111,
     "metadata": {},
     "output_type": "execute_result"
    }
   ],
   "source": [
    "X"
   ]
  },
  {
   "cell_type": "code",
   "execution_count": 3,
   "id": "1e1c7649-b42d-4491-ad02-a40fc27cdc57",
   "metadata": {},
   "outputs": [],
   "source": [
    "import matplotlib.pyplot as plt"
   ]
  },
  {
   "cell_type": "code",
   "execution_count": 4,
   "id": "3446a5b4-26c0-4503-b64c-a6f2bca04f5a",
   "metadata": {},
   "outputs": [
    {
     "data": {
      "image/png": "[encoded data removed]",
      "text/plain": [
       "<Figure size 640x480 with 1 Axes>"
      ]
     },
     "metadata": {},
     "output_type": "display_data"
    }
   ],
   "source": [
    "plt.plot(X,y,'b.')\n",
    "plt.xlabel(\"X\")\n",
    "plt.ylabel(\"y\")\n",
    "plt.show()"
   ]
  },
  {
   "cell_type": "code",
   "execution_count": 5,
   "id": "41f778cb-182e-4587-ae5f-2f897e9fd436",
   "metadata": {},
   "outputs": [
    {
     "data": {
      "text/plain": [
       "(200, 1)"
      ]
     },
     "execution_count": 5,
     "metadata": {},
     "output_type": "execute_result"
    }
   ],
   "source": [
    "X.shape"
   ]
  },
  {
   "cell_type": "code",
   "execution_count": 6,
   "id": "18380919-818a-4ee3-a48e-1e4fde9b85fb",
   "metadata": {},
   "outputs": [],
   "source": [
    "X_train , X_test , y_train , y_test = train_test_split(X,y,\n",
    "                                                      test_size=0.2,\n",
    "                                                      random_state=2)"
   ]
  },
  {
   "cell_type": "code",
   "execution_count": 7,
   "id": "0e09e64c-3c97-49a5-91a9-22e8e062d1e6",
   "metadata": {},
   "outputs": [],
   "source": [
    "lr = LinearRegression()"
   ]
  },
  {
   "cell_type": "code",
   "execution_count": 8,
   "id": "d5bbb2a9-0b9f-408f-ac8d-df8ed7ed95be",
   "metadata": {},
   "outputs": [],
   "source": [
    "lr = lr.fit(X_train , y_train)"
   ]
  },
  {
   "cell_type": "code",
   "execution_count": 9,
   "id": "9e591794-b7dc-4df0-b196-c829cfe67d29",
   "metadata": {},
   "outputs": [],
   "source": [
    "y_pred = lr.predict(X_test)"
   ]
  },
  {
   "cell_type": "code",
   "execution_count": 10,
   "id": "2ebd9248-e045-4469-9a00-36ff8d4a4ea4",
   "metadata": {},
   "outputs": [
    {
     "data": {
      "text/plain": [
       "-0.13919393650226097"
      ]
     },
     "execution_count": 10,
     "metadata": {},
     "output_type": "execute_result"
    }
   ],
   "source": [
    "r2_score(y_test,y_pred)"
   ]
  },
  {
   "cell_type": "code",
   "execution_count": 11,
   "id": "04054106-32b7-40f4-8ca8-3ef580ec699b",
   "metadata": {},
   "outputs": [
    {
     "data": {
      "image/png": "[encoded data removed]",
      "text/plain": [
       "<Figure size 640x480 with 1 Axes>"
      ]
     },
     "metadata": {},
     "output_type": "display_data"
    }
   ],
   "source": [
    "plt.plot(X_train , lr.predict(X_train) ,color='red')\n",
    "plt.plot(X,y,'b.')\n",
    "plt.xlabel(\"X\")\n",
    "plt.ylabel(\"y\")\n",
    "plt.show()"
   ]
  },
  {
   "cell_type": "code",
   "execution_count": 89,
   "id": "e0db1935-94d7-4162-bfb4-2acb7d6b1a95",
   "metadata": {},
   "outputs": [],
   "source": [
    "#applying ploynomial features\n",
    "#degree =2\n",
    "\n",
    "poly = PolynomialFeatures(degree=2)\n",
    "\n",
    "X_train_trans = poly.fit_transform(X_train)\n",
    "X_test_trans = poly.transform(X_test)"
   ]
  },
  {
   "cell_type": "code",
   "execution_count": 90,
   "id": "e30772ff-219c-4d67-ac40-b2491f4c3168",
   "metadata": {},
   "outputs": [
    {
     "name": "stdout",
     "output_type": "stream",
     "text": [
      "[1.10690507]\n",
      "[1.         1.10690507 1.22523884]\n"
     ]
    }
   ],
   "source": [
    "print(X_train[0])\n",
    "print(X_train_trans[0])"
   ]
  },
  {
   "cell_type": "code",
   "execution_count": 91,
   "id": "2b70cf44-a04a-491f-b9cd-15a6ff83a6e7",
   "metadata": {},
   "outputs": [],
   "source": [
    "#include bias parameter"
   ]
  },
  {
   "cell_type": "code",
   "execution_count": 92,
   "id": "448d5078-7c32-4855-ad8e-cc815ce7fb00",
   "metadata": {},
   "outputs": [],
   "source": [
    "lr = LinearRegression()"
   ]
  },
  {
   "cell_type": "code",
   "execution_count": 93,
   "id": "7230a2da-72a6-45e8-a629-f648ec40c3c0",
   "metadata": {},
   "outputs": [],
   "source": [
    "lr = lr.fit(X_train_trans ,y_train)"
   ]
  },
  {
   "cell_type": "code",
   "execution_count": 94,
   "id": "1f037bde-27f5-432b-8798-850ea8267239",
   "metadata": {},
   "outputs": [],
   "source": [
    "y_pred = lr.predict(X_test_trans)"
   ]
  },
  {
   "cell_type": "code",
   "execution_count": 95,
   "id": "dac6211c-5591-4da2-a068-13646f37e795",
   "metadata": {},
   "outputs": [
    {
     "data": {
      "text/plain": [
       "0.7641087082017435"
      ]
     },
     "execution_count": 95,
     "metadata": {},
     "output_type": "execute_result"
    }
   ],
   "source": [
    "r2_score(y_test,y_pred)"
   ]
  },
  {
   "cell_type": "code",
   "execution_count": 96,
   "id": "c12ee00b-804e-425e-9f11-84b14b002325",
   "metadata": {},
   "outputs": [
    {
     "data": {
      "text/plain": [
       "array([[0.        , 0.03283708, 0.80652039]])"
      ]
     },
     "execution_count": 96,
     "metadata": {},
     "output_type": "execute_result"
    }
   ],
   "source": [
    "lr.coef_"
   ]
  },
  {
   "cell_type": "code",
   "execution_count": 97,
   "id": "a482651a-3d67-4061-9978-3667ea88aa5d",
   "metadata": {},
   "outputs": [
    {
     "data": {
      "text/plain": [
       "array([0.70642878])"
      ]
     },
     "execution_count": 97,
     "metadata": {},
     "output_type": "execute_result"
    }
   ],
   "source": [
    "lr.intercept_"
   ]
  },
  {
   "cell_type": "code",
   "execution_count": 98,
   "id": "f3e46249-b307-4aef-acb1-25984ac4bffa",
   "metadata": {},
   "outputs": [],
   "source": [
    "X_new = np.linspace(-3,3,200).reshape(200,1)\n",
    "X_new_poly = poly.transform(X_new)\n",
    "y_new = lr.predict(X_new_poly)"
   ]
  },
  {
   "cell_type": "code",
   "execution_count": 99,
   "id": "93e6b827-942b-40c4-a162-562437b7a0bf",
   "metadata": {},
   "outputs": [
    {
     "data": {
      "text/plain": [
       "(200, 1)"
      ]
     },
     "execution_count": 99,
     "metadata": {},
     "output_type": "execute_result"
    }
   ],
   "source": [
    "y_new.shape"
   ]
  },
  {
   "cell_type": "code",
   "execution_count": 100,
   "id": "a0bd0e76-413f-4b1c-8b49-590cf14fe609",
   "metadata": {},
   "outputs": [
    {
     "data": {
      "image/png": "[encoded data removed]",
      "text/plain": [
       "<Figure size 640x480 with 1 Axes>"
      ]
     },
     "metadata": {},
     "output_type": "display_data"
    }
   ],
   "source": [
    "plt.plot(X_new , y_new ,color='red' , linewidth='2' , label = 'Prediction')\n",
    "plt.plot(X_train ,y_train,'b.' , label = 'Training Points')\n",
    "plt.plot(X_test , y_test , 'g.' , label='Testing Point')\n",
    "plt.xlabel(\"X\")\n",
    "plt.ylabel(\"y\")\n",
    "plt.legend()\n",
    "plt.show()"
   ]
  },
  {
   "cell_type": "code",
   "execution_count": 109,
   "id": "b33add49-a441-41ac-b629-66b2a4acddf2",
   "metadata": {},
   "outputs": [],
   "source": [
    "# 3D Polynomial Regression\n",
    "\n",
    "x = 7 * np.random.rand(100,1) - 2.8\n",
    "y = 7 * np.random.rand(100,1) - 2.8\n",
    "\n",
    "z = x**2 + y**2 + 0.2*x + 0.2*y +0.1*x*y + 2 + np.random.randn(100,1)"
   ]
  },
  {
   "cell_type": "code",
   "execution_count": 110,
   "id": "9d0c95ae-e9be-4251-af94-913c80a9d871",
   "metadata": {},
   "outputs": [
    {
     "data": {
      "application/vnd.plotly.v1+json": {
       "config": {
        "plotlyServerURL": "https://plot.ly"
       },
       "data": [
        {
         "hovertemplate": "x=%{x}<br>y=%{y}<br>z=%{z}<extra></extra>",
         "legendgroup": "",
         "marker": {
          "color": "#636efa",
          "size": 5,
          "symbol": "circle"
         },
         "mode": "markers",
         "name": "",
         "scene": "scene",
         "showlegend": false,
         "type": "scatter3d",
         "x": [
          1.7759838478524799,
          -0.6643070644523568,
          -0.8943889404629672,
          -1.3244650159014386,
          -1.1982345875692322,
          0.40512970814047433,
          -0.5901012638862797,
          -1.1128306916021415,
          -0.8826561077218846,
          -0.8930202128537306,
          2.575581994345862,
          3.3108451229572173,
          1.5725542364772291,
          2.7131021545822174,
          3.825796355559138,
          -0.5950398360102227,
          0.14441655944650345,
          1.8088987126498912,
          3.4437509195864946,
          -2.414736652841502,
          1.3052701565711367,
          0.3278908792619215,
          1.566295285939213,
          2.1566778287154857,
          2.240367882287539,
          -1.1698534842039932,
          2.9313065631734867,
          -0.7075804810369384,
          -2.7810812379847683,
          0.23657436140349386,
          -0.6975537027034395,
          -1.0756536151428147,
          -0.25993805142913873,
          3.875257652756458,
          -1.7233592973043237,
          -0.1713029556914627,
          -0.8227895262014795,
          1.1459802268526462,
          3.4869992411390145,
          3.6210923416664746,
          -1.5580909255230369,
          -0.24659506388480645,
          1.6525786530758326,
          2.5069994896461028,
          3.24224901769655,
          -1.7784840859473494,
          3.992375753057946,
          -0.06062488085611539,
          -2.497464598252084,
          0.133910551783202,
          1.0873014352545827,
          -2.663891760851049,
          -1.3136216764929025,
          -0.04990198646727917,
          1.7949321750564406,
          -1.2614677412132145,
          3.037168808863389,
          3.7912159915952452,
          -0.1648223163757323,
          0.19280755373494562,
          -1.8590552762646366,
          -1.0527124760720794,
          0.3227245448454843,
          2.26748288103572,
          -2.3191745124326526,
          -0.43884898969731356,
          2.296042304408134,
          2.7390850878976725,
          1.1944186547676479,
          3.1436717997556505,
          -0.5612784860271729,
          -0.8995987139012822,
          2.7611944873027783,
          1.1741412978667443,
          -2.023498963605344,
          -2.4802285212159734,
          -0.4158736471280764,
          -1.2187628368210797,
          3.9318823898862147,
          0.5002974831704199,
          -2.4296186157574273,
          2.2589715344694854,
          1.3703994988274726,
          0.11022221356419504,
          1.5596372306276614,
          3.486211171213518,
          0.202833211930721,
          2.304821751923555,
          -2.467945190713505,
          1.6763380328075295,
          -1.7310192121755634,
          -0.5450642737824518,
          2.48121499004324,
          2.493197007257926,
          2.9647617073498633,
          2.8666906760344517,
          -0.5228319265370724,
          2.253161094276127,
          2.6365525956515112,
          -2.4339762529265108
         ],
         "y": [
          0.0011903276545517372,
          4.041124319040626,
          2.9931685038091507,
          -1.1604722668447354,
          1.7067546739820054,
          -0.19419623154499943,
          0.34581350402831923,
          3.008101891621803,
          0.5455198728677368,
          2.3063382314610674,
          4.190331411751092,
          -0.17741330672497524,
          -0.95660756386089,
          -1.9870896739075308,
          0.5096140714037065,
          0.1570908301184346,
          -0.21004608151676152,
          -0.8089916452139732,
          -1.8682919724650962,
          2.047684589443252,
          4.155024798431035,
          0.6374997131713567,
          0.09185414370085887,
          -0.7441617090414265,
          -0.029768180379406317,
          -0.5948102753116595,
          3.956558705495212,
          -2.490601577529289,
          -1.0942985356686594,
          3.828501996102384,
          -0.9617762029934114,
          1.2426078985463578,
          2.9137694016060705,
          1.2437892176177145,
          -2.6789749623446872,
          2.074544946073936,
          4.029953574148798,
          3.7960738911448555,
          -2.6823604963656087,
          -2.407131898703912,
          3.294662345552088,
          -1.446462848203781,
          -1.4771040889409028,
          3.9157788551902417,
          2.9745618681127315,
          -1.7667153851200696,
          0.6172243783346536,
          1.3832699816281755,
          -1.0281981248267416,
          0.7985266353736367,
          -0.9444861085942748,
          2.5025693395480095,
          3.353100351004068,
          -0.49414410200901404,
          0.14594053635764803,
          0.7340259712743724,
          -0.6469660370349577,
          -0.28110099623807017,
          -1.597623993452715,
          -0.5702485393536865,
          -1.6143063462602372,
          0.9519137030919111,
          -1.3119716716748973,
          2.4103874564798904,
          1.8013880075935305,
          2.6694064356416884,
          4.005794937991742,
          -1.4307927708533938,
          4.014109089997649,
          0.6429420398506709,
          -1.05837633633086,
          -2.0872151793963525,
          -2.1062687270264258,
          3.825090424150998,
          3.1550213325781726,
          0.23886040110619078,
          2.090816216994015,
          3.259494145301842,
          2.099715356570349,
          3.8045961821928866,
          4.0921419895288755,
          1.6628491817534368,
          -0.0070147035865213425,
          -1.6694644608688014,
          2.055644324621891,
          0.2039567724260678,
          2.9106277397430915,
          2.179301760019925,
          -1.2311244844161537,
          -0.3053319040045066,
          0.29328401310629015,
          -0.6181886870389741,
          0.5472532621777892,
          -1.9522381285492978,
          0.5792201801180332,
          -1.969628214659358,
          0.8931834817256776,
          -0.09313157230293223,
          1.7242825057520266,
          -0.7205277973173523
         ],
         "z": [
          5.717251792581864,
          19.400423866610666,
          12.212891330859847,
          7.17022014721168,
          5.901083161519973,
          2.194541626562697,
          2.581934527367179,
          11.593601196839654,
          2.0945962916070777,
          9.233240322151614,
          28.919723258327668,
          13.691349824910159,
          7.518199460210649,
          12.76495327012748,
          15.822611709819132,
          1.1284450778485935,
          2.9845397591072214,
          4.695022699636496,
          16.836530011898514,
          10.559566817378947,
          22.230811849959323,
          2.3548105770110346,
          5.53032165537476,
          5.720132355402473,
          7.054056029287075,
          3.334267789874726,
          29.59845779146631,
          7.534807267088996,
          12.219885627871923,
          17.686250259017424,
          2.010211772745796,
          4.0947628098944815,
          12.837214889543446,
          17.65505139747013,
          11.614514556511677,
          8.017604012039717,
          18.302674128735262,
          19.37877170706709,
          22.209257325204117,
          19.759896893145037,
          15.674944063218527,
          3.3850704774395375,
          5.847460978168039,
          24.523797511989823,
          22.866358613362447,
          6.659288551077487,
          19.73988516417921,
          3.7687087425360075,
          7.31365261814317,
          4.177684528675654,
          4.553442265003619,
          15.764654587558406,
          14.561138764092606,
          3.052222084339814,
          5.455443326481783,
          2.0253510172945264,
          11.116843692800373,
          16.235326653196033,
          5.683352224515344,
          1.6230333400414867,
          7.3827743517101405,
          2.2887295159699317,
          4.372890688100612,
          14.158005006099671,
          9.458667493155644,
          9.483891844837629,
          25.45732522390841,
          11.42419917946045,
          21.025125939211776,
          12.666764244985867,
          3.037222003762817,
          6.420064939538927,
          14.87527497668556,
          19.586621061422285,
          15.553804547254373,
          6.729546093423986,
          6.0763115635726805,
          16.193926738446837,
          23.4158551479496,
          18.44556495871694,
          24.470348124630842,
          9.82078160476554,
          3.2739627622745413,
          4.895600776656105,
          9.867694243696596,
          13.739966974217303,
          12.689356188712166,
          13.152230402011467,
          9.294805712495577,
          5.757516813566844,
          5.026856060119637,
          2.2030622710344323,
          8.697671220075595,
          11.972523254330076,
          11.307264661142211,
          14.474899918405427,
          1.2330513214556025,
          9.593087671415331,
          12.297301643648906,
          6.7532971933176364
         ]
        }
       ],
       "layout": {
        "legend": {
         "tracegroupgap": 0
        },
        "margin": {
         "t": 60
        },
        "scene": {
         "domain": {
          "x": [
           0,
           1
          ],
          "y": [
           0,
           1
          ]
         },
         "xaxis": {
          "title": {
           "text": "x"
          }
         },
         "yaxis": {
          "title": {
           "text": "y"
          }
         },
         "zaxis": {
          "title": {
           "text": "z"
          }
         }
        },
        "template": {
         "data": {
          "bar": [
           {
            "error_x": {
             "color": "#2a3f5f"
            },
            "error_y": {
             "color": "#2a3f5f"
            },
            "marker": {
             "line": {
              "color": "#E5ECF6",
              "width": 0.5
             },
             "pattern": {
              "fillmode": "overlay",
              "size": 10,
              "solidity": 0.2
             }
            },
            "type": "bar"
           }
          ],
          "barpolar": [
           {
            "marker": {
             "line": {
              "color": "#E5ECF6",
              "width": 0.5
             },
             "pattern": {
              "fillmode": "overlay",
              "size": 10,
              "solidity": 0.2
             }
            },
            "type": "barpolar"
           }
          ],
          "carpet": [
           {
            "aaxis": {
             "endlinecolor": "#2a3f5f",
             "gridcolor": "white",
             "linecolor": "white",
             "minorgridcolor": "white",
             "startlinecolor": "#2a3f5f"
            },
            "baxis": {
             "endlinecolor": "#2a3f5f",
             "gridcolor": "white",
             "linecolor": "white",
             "minorgridcolor": "white",
             "startlinecolor": "#2a3f5f"
            },
            "type": "carpet"
           }
          ],
          "choropleth": [
           {
            "colorbar": {
             "outlinewidth": 0,
             "ticks": ""
            },
            "type": "choropleth"
           }
          ],
          "contour": [
           {
            "colorbar": {
             "outlinewidth": 0,
             "ticks": ""
            },
            "colorscale": [
             [
              0,
              "#0d0887"
             ],
             [
              0.1111111111111111,
              "#46039f"
             ],
             [
              0.2222222222222222,
              "#7201a8"
             ],
             [
              0.3333333333333333,
              "#9c179e"
             ],
             [
              0.4444444444444444,
              "#bd3786"
             ],
             [
              0.5555555555555556,
              "#d8576b"
             ],
             [
              0.6666666666666666,
              "#ed7953"
             ],
             [
              0.7777777777777778,
              "#fb9f3a"
             ],
             [
              0.8888888888888888,
              "#fdca26"
             ],
             [
              1,
              "#f0f921"
             ]
            ],
            "type": "contour"
           }
          ],
          "contourcarpet": [
           {
            "colorbar": {
             "outlinewidth": 0,
             "ticks": ""
            },
            "type": "contourcarpet"
           }
          ],
          "heatmap": [
           {
            "colorbar": {
             "outlinewidth": 0,
             "ticks": ""
            },
            "colorscale": [
             [
              0,
              "#0d0887"
             ],
             [
              0.1111111111111111,
              "#46039f"
             ],
             [
              0.2222222222222222,
              "#7201a8"
             ],
             [
              0.3333333333333333,
              "#9c179e"
             ],
             [
              0.4444444444444444,
              "#bd3786"
             ],
             [
              0.5555555555555556,
              "#d8576b"
             ],
             [
              0.6666666666666666,
              "#ed7953"
             ],
             [
              0.7777777777777778,
              "#fb9f3a"
             ],
             [
              0.8888888888888888,
              "#fdca26"
             ],
             [
              1,
              "#f0f921"
             ]
            ],
            "type": "heatmap"
           }
          ],
          "heatmapgl": [
           {
            "colorbar": {
             "outlinewidth": 0,
             "ticks": ""
            },
            "colorscale": [
             [
              0,
              "#0d0887"
             ],
             [
              0.1111111111111111,
              "#46039f"
             ],
             [
              0.2222222222222222,
              "#7201a8"
             ],
             [
              0.3333333333333333,
              "#9c179e"
             ],
             [
              0.4444444444444444,
              "#bd3786"
             ],
             [
              0.5555555555555556,
              "#d8576b"
             ],
             [
              0.6666666666666666,
              "#ed7953"
             ],
             [
              0.7777777777777778,
              "#fb9f3a"
             ],
             [
              0.8888888888888888,
              "#fdca26"
             ],
             [
              1,
              "#f0f921"
             ]
            ],
            "type": "heatmapgl"
           }
          ],
          "histogram": [
           {
            "marker": {
             "pattern": {
              "fillmode": "overlay",
              "size": 10,
              "solidity": 0.2
             }
            },
            "type": "histogram"
           }
          ],
          "histogram2d": [
           {
            "colorbar": {
             "outlinewidth": 0,
             "ticks": ""
            },
            "colorscale": [
             [
              0,
              "#0d0887"
             ],
             [
              0.1111111111111111,
              "#46039f"
             ],
             [
              0.2222222222222222,
              "#7201a8"
             ],
             [
              0.3333333333333333,
              "#9c179e"
             ],
             [
              0.4444444444444444,
              "#bd3786"
             ],
             [
              0.5555555555555556,
              "#d8576b"
             ],
             [
              0.6666666666666666,
              "#ed7953"
             ],
             [
              0.7777777777777778,
              "#fb9f3a"
             ],
             [
              0.8888888888888888,
              "#fdca26"
             ],
             [
              1,
              "#f0f921"
             ]
            ],
            "type": "histogram2d"
           }
          ],
          "histogram2dcontour": [
           {
            "colorbar": {
             "outlinewidth": 0,
             "ticks": ""
            },
            "colorscale": [
             [
              0,
              "#0d0887"
             ],
             [
              0.1111111111111111,
              "#46039f"
             ],
             [
              0.2222222222222222,
              "#7201a8"
             ],
             [
              0.3333333333333333,
              "#9c179e"
             ],
             [
              0.4444444444444444,
              "#bd3786"
             ],
             [
              0.5555555555555556,
              "#d8576b"
             ],
             [
              0.6666666666666666,
              "#ed7953"
             ],
             [
              0.7777777777777778,
              "#fb9f3a"
             ],
             [
              0.8888888888888888,
              "#fdca26"
             ],
             [
              1,
              "#f0f921"
             ]
            ],
            "type": "histogram2dcontour"
           }
          ],
          "mesh3d": [
           {
            "colorbar": {
             "outlinewidth": 0,
             "ticks": ""
            },
            "type": "mesh3d"
           }
          ],
          "parcoords": [
           {
            "line": {
             "colorbar": {
              "outlinewidth": 0,
              "ticks": ""
             }
            },
            "type": "parcoords"
           }
          ],
          "pie": [
           {
            "automargin": true,
            "type": "pie"
           }
          ],
          "scatter": [
           {
            "fillpattern": {
             "fillmode": "overlay",
             "size": 10,
             "solidity": 0.2
            },
            "type": "scatter"
           }
          ],
          "scatter3d": [
           {
            "line": {
             "colorbar": {
              "outlinewidth": 0,
              "ticks": ""
             }
            },
            "marker": {
             "colorbar": {
              "outlinewidth": 0,
              "ticks": ""
             }
            },
            "type": "scatter3d"
           }
          ],
          "scattercarpet": [
           {
            "marker": {
             "colorbar": {
              "outlinewidth": 0,
              "ticks": ""
             }
            },
            "type": "scattercarpet"
           }
          ],
          "scattergeo": [
           {
            "marker": {
             "colorbar": {
              "outlinewidth": 0,
              "ticks": ""
             }
            },
            "type": "scattergeo"
           }
          ],
          "scattergl": [
           {
            "marker": {
             "colorbar": {
              "outlinewidth": 0,
              "ticks": ""
             }
            },
            "type": "scattergl"
           }
          ],
          "scattermapbox": [
           {
            "marker": {
             "colorbar": {
              "outlinewidth": 0,
              "ticks": ""
             }
            },
            "type": "scattermapbox"
           }
          ],
          "scatterpolar": [
           {
            "marker": {
             "colorbar": {
              "outlinewidth": 0,
              "ticks": ""
             }
            },
            "type": "scatterpolar"
           }
          ],
          "scatterpolargl": [
           {
            "marker": {
             "colorbar": {
              "outlinewidth": 0,
              "ticks": ""
             }
            },
            "type": "scatterpolargl"
           }
          ],
          "scatterternary": [
           {
            "marker": {
             "colorbar": {
              "outlinewidth": 0,
              "ticks": ""
             }
            },
            "type": "scatterternary"
           }
          ],
          "surface": [
           {
            "colorbar": {
             "outlinewidth": 0,
             "ticks": ""
            },
            "colorscale": [
             [
              0,
              "#0d0887"
             ],
             [
              0.1111111111111111,
              "#46039f"
             ],
             [
              0.2222222222222222,
              "#7201a8"
             ],
             [
              0.3333333333333333,
              "#9c179e"
             ],
             [
              0.4444444444444444,
              "#bd3786"
             ],
             [
              0.5555555555555556,
              "#d8576b"
             ],
             [
              0.6666666666666666,
              "#ed7953"
             ],
             [
              0.7777777777777778,
              "#fb9f3a"
             ],
             [
              0.8888888888888888,
              "#fdca26"
             ],
             [
              1,
              "#f0f921"
             ]
            ],
            "type": "surface"
           }
          ],
          "table": [
           {
            "cells": {
             "fill": {
              "color": "#EBF0F8"
             },
             "line": {
              "color": "white"
             }
            },
            "header": {
             "fill": {
              "color": "#C8D4E3"
             },
             "line": {
              "color": "white"
             }
            },
            "type": "table"
           }
          ]
         },
         "layout": {
          "annotationdefaults": {
           "arrowcolor": "#2a3f5f",
           "arrowhead": 0,
           "arrowwidth": 1
          },
          "autotypenumbers": "strict",
          "coloraxis": {
           "colorbar": {
            "outlinewidth": 0,
            "ticks": ""
           }
          },
          "colorscale": {
           "diverging": [
            [
             0,
             "#8e0152"
            ],
            [
             0.1,
             "#c51b7d"
            ],
            [
             0.2,
             "#de77ae"
            ],
            [
             0.3,
             "#f1b6da"
            ],
            [
             0.4,
             "#fde0ef"
            ],
            [
             0.5,
             "#f7f7f7"
            ],
            [
             0.6,
             "#e6f5d0"
            ],
            [
             0.7,
             "#b8e186"
            ],
            [
             0.8,
             "#7fbc41"
            ],
            [
             0.9,
             "#4d9221"
            ],
            [
             1,
             "#276419"
            ]
           ],
           "sequential": [
            [
             0,
             "#0d0887"
            ],
            [
             0.1111111111111111,
             "#46039f"
            ],
            [
             0.2222222222222222,
             "#7201a8"
            ],
            [
             0.3333333333333333,
             "#9c179e"
            ],
            [
             0.4444444444444444,
             "#bd3786"
            ],
            [
             0.5555555555555556,
             "#d8576b"
            ],
            [
             0.6666666666666666,
             "#ed7953"
            ],
            [
             0.7777777777777778,
             "#fb9f3a"
            ],
            [
             0.8888888888888888,
             "#fdca26"
            ],
            [
             1,
             "#f0f921"
            ]
           ],
           "sequentialminus": [
            [
             0,
             "#0d0887"
            ],
            [
             0.1111111111111111,
             "#46039f"
            ],
            [
             0.2222222222222222,
             "#7201a8"
            ],
            [
             0.3333333333333333,
             "#9c179e"
            ],
            [
             0.4444444444444444,
             "#bd3786"
            ],
            [
             0.5555555555555556,
             "#d8576b"
            ],
            [
             0.6666666666666666,
             "#ed7953"
            ],
            [
             0.7777777777777778,
             "#fb9f3a"
            ],
            [
             0.8888888888888888,
             "#fdca26"
            ],
            [
             1,
             "#f0f921"
            ]
           ]
          },
          "colorway": [
           "#636efa",
           "#EF553B",
           "#00cc96",
           "#ab63fa",
           "#FFA15A",
           "#19d3f3",
           "#FF6692",
           "#B6E880",
           "#FF97FF",
           "#FECB52"
          ],
          "font": {
           "color": "#2a3f5f"
          },
          "geo": {
           "bgcolor": "white",
           "lakecolor": "white",
           "landcolor": "#E5ECF6",
           "showlakes": true,
           "showland": true,
           "subunitcolor": "white"
          },
          "hoverlabel": {
           "align": "left"
          },
          "hovermode": "closest",
          "mapbox": {
           "style": "light"
          },
          "paper_bgcolor": "white",
          "plot_bgcolor": "#E5ECF6",
          "polar": {
           "angularaxis": {
            "gridcolor": "white",
            "linecolor": "white",
            "ticks": ""
           },
           "bgcolor": "#E5ECF6",
           "radialaxis": {
            "gridcolor": "white",
            "linecolor": "white",
            "ticks": ""
           }
          },
          "scene": {
           "xaxis": {
            "backgroundcolor": "#E5ECF6",
            "gridcolor": "white",
            "gridwidth": 2,
            "linecolor": "white",
            "showbackground": true,
            "ticks": "",
            "zerolinecolor": "white"
           },
           "yaxis": {
            "backgroundcolor": "#E5ECF6",
            "gridcolor": "white",
            "gridwidth": 2,
            "linecolor": "white",
            "showbackground": true,
            "ticks": "",
            "zerolinecolor": "white"
           },
           "zaxis": {
            "backgroundcolor": "#E5ECF6",
            "gridcolor": "white",
            "gridwidth": 2,
            "linecolor": "white",
            "showbackground": true,
            "ticks": "",
            "zerolinecolor": "white"
           }
          },
          "shapedefaults": {
           "line": {
            "color": "#2a3f5f"
           }
          },
          "ternary": {
           "aaxis": {
            "gridcolor": "white",
            "linecolor": "white",
            "ticks": ""
           },
           "baxis": {
            "gridcolor": "white",
            "linecolor": "white",
            "ticks": ""
           },
           "bgcolor": "#E5ECF6",
           "caxis": {
            "gridcolor": "white",
            "linecolor": "white",
            "ticks": ""
           }
          },
          "title": {
           "x": 0.05
          },
          "xaxis": {
           "automargin": true,
           "gridcolor": "white",
           "linecolor": "white",
           "ticks": "",
           "title": {
            "standoff": 15
           },
           "zerolinecolor": "white",
           "zerolinewidth": 2
          },
          "yaxis": {
           "automargin": true,
           "gridcolor": "white",
           "linecolor": "white",
           "ticks": "",
           "title": {
            "standoff": 15
           },
           "zerolinecolor": "white",
           "zerolinewidth": 2
          }
         }
        }
       }
      },
      "image/png": "[encoded data removed]",
      "text/html": [
       "<div>                            <div id=\"699ecada-1aed-4c04-bdd9-9fc9b61da116\" class=\"plotly-graph-div\" style=\"height:525px; width:100%;\"></div>            <script type=\"text/javascript\">                require([\"plotly\"], function(Plotly) {                    window.PLOTLYENV=window.PLOTLYENV || {};                                    if (document.getElementById(\"699ecada-1aed-4c04-bdd9-9fc9b61da116\")) {                    Plotly.newPlot(                        \"699ecada-1aed-4c04-bdd9-9fc9b61da116\",                        [{\"hovertemplate\":\"x=%{x}\\u003cbr\\u003ey=%{y}\\u003cbr\\u003ez=%{z}\\u003cextra\\u003e\\u003c\\u002fextra\\u003e\",\"legendgroup\":\"\",\"marker\":{\"color\":\"#636efa\",\"symbol\":\"circle\",\"size\":5},\"mode\":\"markers\",\"name\":\"\",\"scene\":\"scene\",\"showlegend\":false,\"x\":[1.7759838478524799,-0.6643070644523568,-0.8943889404629672,-1.3244650159014386,-1.1982345875692322,0.40512970814047433,-0.5901012638862797,-1.1128306916021415,-0.8826561077218846,-0.8930202128537306,2.575581994345862,3.3108451229572173,1.5725542364772291,2.7131021545822174,3.825796355559138,-0.5950398360102227,0.14441655944650345,1.8088987126498912,3.4437509195864946,-2.414736652841502,1.3052701565711367,0.3278908792619215,1.566295285939213,2.1566778287154857,2.240367882287539,-1.1698534842039932,2.9313065631734867,-0.7075804810369384,-2.7810812379847683,0.23657436140349386,-0.6975537027034395,-1.0756536151428147,-0.25993805142913873,3.875257652756458,-1.7233592973043237,-0.1713029556914627,-0.8227895262014795,1.1459802268526462,3.4869992411390145,3.6210923416664746,-1.5580909255230369,-0.24659506388480645,1.6525786530758326,2.5069994896461028,3.24224901769655,-1.7784840859473494,3.992375753057946,-0.06062488085611539,-2.497464598252084,0.133910551783202,1.0873014352545827,-2.663891760851049,-1.3136216764929025,-0.04990198646727917,1.7949321750564406,-1.2614677412132145,3.037168808863389,3.7912159915952452,-0.1648223163757323,0.19280755373494562,-1.8590552762646366,-1.0527124760720794,0.3227245448454843,2.26748288103572,-2.3191745124326526,-0.43884898969731356,2.296042304408134,2.7390850878976725,1.1944186547676479,3.1436717997556505,-0.5612784860271729,-0.8995987139012822,2.7611944873027783,1.1741412978667443,-2.023498963605344,-2.4802285212159734,-0.4158736471280764,-1.2187628368210797,3.9318823898862147,0.5002974831704199,-2.4296186157574273,2.2589715344694854,1.3703994988274726,0.11022221356419504,1.5596372306276614,3.486211171213518,0.202833211930721,2.304821751923555,-2.467945190713505,1.6763380328075295,-1.7310192121755634,-0.5450642737824518,2.48121499004324,2.493197007257926,2.9647617073498633,2.8666906760344517,-0.5228319265370724,2.253161094276127,2.6365525956515112,-2.4339762529265108],\"y\":[0.0011903276545517372,4.041124319040626,2.9931685038091507,-1.1604722668447354,1.7067546739820054,-0.19419623154499943,0.34581350402831923,3.008101891621803,0.5455198728677368,2.3063382314610674,4.190331411751092,-0.17741330672497524,-0.95660756386089,-1.9870896739075308,0.5096140714037065,0.1570908301184346,-0.21004608151676152,-0.8089916452139732,-1.8682919724650962,2.047684589443252,4.155024798431035,0.6374997131713567,0.09185414370085887,-0.7441617090414265,-0.029768180379406317,-0.5948102753116595,3.956558705495212,-2.490601577529289,-1.0942985356686594,3.828501996102384,-0.9617762029934114,1.2426078985463578,2.9137694016060705,1.2437892176177145,-2.6789749623446872,2.074544946073936,4.029953574148798,3.7960738911448555,-2.6823604963656087,-2.407131898703912,3.294662345552088,-1.446462848203781,-1.4771040889409028,3.9157788551902417,2.9745618681127315,-1.7667153851200696,0.6172243783346536,1.3832699816281755,-1.0281981248267416,0.7985266353736367,-0.9444861085942748,2.5025693395480095,3.353100351004068,-0.49414410200901404,0.14594053635764803,0.7340259712743724,-0.6469660370349577,-0.28110099623807017,-1.597623993452715,-0.5702485393536865,-1.6143063462602372,0.9519137030919111,-1.3119716716748973,2.4103874564798904,1.8013880075935305,2.6694064356416884,4.005794937991742,-1.4307927708533938,4.014109089997649,0.6429420398506709,-1.05837633633086,-2.0872151793963525,-2.1062687270264258,3.825090424150998,3.1550213325781726,0.23886040110619078,2.090816216994015,3.259494145301842,2.099715356570349,3.8045961821928866,4.0921419895288755,1.6628491817534368,-0.0070147035865213425,-1.6694644608688014,2.055644324621891,0.2039567724260678,2.9106277397430915,2.179301760019925,-1.2311244844161537,-0.3053319040045066,0.29328401310629015,-0.6181886870389741,0.5472532621777892,-1.9522381285492978,0.5792201801180332,-1.969628214659358,0.8931834817256776,-0.09313157230293223,1.7242825057520266,-0.7205277973173523],\"z\":[5.717251792581864,19.400423866610666,12.212891330859847,7.17022014721168,5.901083161519973,2.194541626562697,2.581934527367179,11.593601196839654,2.0945962916070777,9.233240322151614,28.919723258327668,13.691349824910159,7.518199460210649,12.76495327012748,15.822611709819132,1.1284450778485935,2.9845397591072214,4.695022699636496,16.836530011898514,10.559566817378947,22.230811849959323,2.3548105770110346,5.53032165537476,5.720132355402473,7.054056029287075,3.334267789874726,29.59845779146631,7.534807267088996,12.219885627871923,17.686250259017424,2.010211772745796,4.0947628098944815,12.837214889543446,17.65505139747013,11.614514556511677,8.017604012039717,18.302674128735262,19.37877170706709,22.209257325204117,19.759896893145037,15.674944063218527,3.3850704774395375,5.847460978168039,24.523797511989823,22.866358613362447,6.659288551077487,19.73988516417921,3.7687087425360075,7.31365261814317,4.177684528675654,4.553442265003619,15.764654587558406,14.561138764092606,3.052222084339814,5.455443326481783,2.0253510172945264,11.116843692800373,16.235326653196033,5.683352224515344,1.6230333400414867,7.3827743517101405,2.2887295159699317,4.372890688100612,14.158005006099671,9.458667493155644,9.483891844837629,25.45732522390841,11.42419917946045,21.025125939211776,12.666764244985867,3.037222003762817,6.420064939538927,14.87527497668556,19.586621061422285,15.553804547254373,6.729546093423986,6.0763115635726805,16.193926738446837,23.4158551479496,18.44556495871694,24.470348124630842,9.82078160476554,3.2739627622745413,4.895600776656105,9.867694243696596,13.739966974217303,12.689356188712166,13.152230402011467,9.294805712495577,5.757516813566844,5.026856060119637,2.2030622710344323,8.697671220075595,11.972523254330076,11.307264661142211,14.474899918405427,1.2330513214556025,9.593087671415331,12.297301643648906,6.7532971933176364],\"type\":\"scatter3d\"}],                        {\"template\":{\"data\":{\"histogram2dcontour\":[{\"type\":\"histogram2dcontour\",\"colorbar\":{\"outlinewidth\":0,\"ticks\":\"\"},\"colorscale\":[[0.0,\"#0d0887\"],[0.1111111111111111,\"#46039f\"],[0.2222222222222222,\"#7201a8\"],[0.3333333333333333,\"#9c179e\"],[0.4444444444444444,\"#bd3786\"],[0.5555555555555556,\"#d8576b\"],[0.6666666666666666,\"#ed7953\"],[0.7777777777777778,\"#fb9f3a\"],[0.8888888888888888,\"#fdca26\"],[1.0,\"#f0f921\"]]}],\"choropleth\":[{\"type\":\"choropleth\",\"colorbar\":{\"outlinewidth\":0,\"ticks\":\"\"}}],\"histogram2d\":[{\"type\":\"histogram2d\",\"colorbar\":{\"outlinewidth\":0,\"ticks\":\"\"},\"colorscale\":[[0.0,\"#0d0887\"],[0.1111111111111111,\"#46039f\"],[0.2222222222222222,\"#7201a8\"],[0.3333333333333333,\"#9c179e\"],[0.4444444444444444,\"#bd3786\"],[0.5555555555555556,\"#d8576b\"],[0.6666666666666666,\"#ed7953\"],[0.7777777777777778,\"#fb9f3a\"],[0.8888888888888888,\"#fdca26\"],[1.0,\"#f0f921\"]]}],\"heatmap\":[{\"type\":\"heatmap\",\"colorbar\":{\"outlinewidth\":0,\"ticks\":\"\"},\"colorscale\":[[0.0,\"#0d0887\"],[0.1111111111111111,\"#46039f\"],[0.2222222222222222,\"#7201a8\"],[0.3333333333333333,\"#9c179e\"],[0.4444444444444444,\"#bd3786\"],[0.5555555555555556,\"#d8576b\"],[0.6666666666666666,\"#ed7953\"],[0.7777777777777778,\"#fb9f3a\"],[0.8888888888888888,\"#fdca26\"],[1.0,\"#f0f921\"]]}],\"heatmapgl\":[{\"type\":\"heatmapgl\",\"colorbar\":{\"outlinewidth\":0,\"ticks\":\"\"},\"colorscale\":[[0.0,\"#0d0887\"],[0.1111111111111111,\"#46039f\"],[0.2222222222222222,\"#7201a8\"],[0.3333333333333333,\"#9c179e\"],[0.4444444444444444,\"#bd3786\"],[0.5555555555555556,\"#d8576b\"],[0.6666666666666666,\"#ed7953\"],[0.7777777777777778,\"#fb9f3a\"],[0.8888888888888888,\"#fdca26\"],[1.0,\"#f0f921\"]]}],\"contourcarpet\":[{\"type\":\"contourcarpet\",\"colorbar\":{\"outlinewidth\":0,\"ticks\":\"\"}}],\"contour\":[{\"type\":\"contour\",\"colorbar\":{\"outlinewidth\":0,\"ticks\":\"\"},\"colorscale\":[[0.0,\"#0d0887\"],[0.1111111111111111,\"#46039f\"],[0.2222222222222222,\"#7201a8\"],[0.3333333333333333,\"#9c179e\"],[0.4444444444444444,\"#bd3786\"],[0.5555555555555556,\"#d8576b\"],[0.6666666666666666,\"#ed7953\"],[0.7777777777777778,\"#fb9f3a\"],[0.8888888888888888,\"#fdca26\"],[1.0,\"#f0f921\"]]}],\"surface\":[{\"type\":\"surface\",\"colorbar\":{\"outlinewidth\":0,\"ticks\":\"\"},\"colorscale\":[[0.0,\"#0d0887\"],[0.1111111111111111,\"#46039f\"],[0.2222222222222222,\"#7201a8\"],[0.3333333333333333,\"#9c179e\"],[0.4444444444444444,\"#bd3786\"],[0.5555555555555556,\"#d8576b\"],[0.6666666666666666,\"#ed7953\"],[0.7777777777777778,\"#fb9f3a\"],[0.8888888888888888,\"#fdca26\"],[1.0,\"#f0f921\"]]}],\"mesh3d\":[{\"type\":\"mesh3d\",\"colorbar\":{\"outlinewidth\":0,\"ticks\":\"\"}}],\"scatter\":[{\"fillpattern\":{\"fillmode\":\"overlay\",\"size\":10,\"solidity\":0.2},\"type\":\"scatter\"}],\"parcoords\":[{\"type\":\"parcoords\",\"line\":{\"colorbar\":{\"outlinewidth\":0,\"ticks\":\"\"}}}],\"scatterpolargl\":[{\"type\":\"scatterpolargl\",\"marker\":{\"colorbar\":{\"outlinewidth\":0,\"ticks\":\"\"}}}],\"bar\":[{\"error_x\":{\"color\":\"#2a3f5f\"},\"error_y\":{\"color\":\"#2a3f5f\"},\"marker\":{\"line\":{\"color\":\"#E5ECF6\",\"width\":0.5},\"pattern\":{\"fillmode\":\"overlay\",\"size\":10,\"solidity\":0.2}},\"type\":\"bar\"}],\"scattergeo\":[{\"type\":\"scattergeo\",\"marker\":{\"colorbar\":{\"outlinewidth\":0,\"ticks\":\"\"}}}],\"scatterpolar\":[{\"type\":\"scatterpolar\",\"marker\":{\"colorbar\":{\"outlinewidth\":0,\"ticks\":\"\"}}}],\"histogram\":[{\"marker\":{\"pattern\":{\"fillmode\":\"overlay\",\"size\":10,\"solidity\":0.2}},\"type\":\"histogram\"}],\"scattergl\":[{\"type\":\"scattergl\",\"marker\":{\"colorbar\":{\"outlinewidth\":0,\"ticks\":\"\"}}}],\"scatter3d\":[{\"type\":\"scatter3d\",\"line\":{\"colorbar\":{\"outlinewidth\":0,\"ticks\":\"\"}},\"marker\":{\"colorbar\":{\"outlinewidth\":0,\"ticks\":\"\"}}}],\"scattermapbox\":[{\"type\":\"scattermapbox\",\"marker\":{\"colorbar\":{\"outlinewidth\":0,\"ticks\":\"\"}}}],\"scatterternary\":[{\"type\":\"scatterternary\",\"marker\":{\"colorbar\":{\"outlinewidth\":0,\"ticks\":\"\"}}}],\"scattercarpet\":[{\"type\":\"scattercarpet\",\"marker\":{\"colorbar\":{\"outlinewidth\":0,\"ticks\":\"\"}}}],\"carpet\":[{\"aaxis\":{\"endlinecolor\":\"#2a3f5f\",\"gridcolor\":\"white\",\"linecolor\":\"white\",\"minorgridcolor\":\"white\",\"startlinecolor\":\"#2a3f5f\"},\"baxis\":{\"endlinecolor\":\"#2a3f5f\",\"gridcolor\":\"white\",\"linecolor\":\"white\",\"minorgridcolor\":\"white\",\"startlinecolor\":\"#2a3f5f\"},\"type\":\"carpet\"}],\"table\":[{\"cells\":{\"fill\":{\"color\":\"#EBF0F8\"},\"line\":{\"color\":\"white\"}},\"header\":{\"fill\":{\"color\":\"#C8D4E3\"},\"line\":{\"color\":\"white\"}},\"type\":\"table\"}],\"barpolar\":[{\"marker\":{\"line\":{\"color\":\"#E5ECF6\",\"width\":0.5},\"pattern\":{\"fillmode\":\"overlay\",\"size\":10,\"solidity\":0.2}},\"type\":\"barpolar\"}],\"pie\":[{\"automargin\":true,\"type\":\"pie\"}]},\"layout\":{\"autotypenumbers\":\"strict\",\"colorway\":[\"#636efa\",\"#EF553B\",\"#00cc96\",\"#ab63fa\",\"#FFA15A\",\"#19d3f3\",\"#FF6692\",\"#B6E880\",\"#FF97FF\",\"#FECB52\"],\"font\":{\"color\":\"#2a3f5f\"},\"hovermode\":\"closest\",\"hoverlabel\":{\"align\":\"left\"},\"paper_bgcolor\":\"white\",\"plot_bgcolor\":\"#E5ECF6\",\"polar\":{\"bgcolor\":\"#E5ECF6\",\"angularaxis\":{\"gridcolor\":\"white\",\"linecolor\":\"white\",\"ticks\":\"\"},\"radialaxis\":{\"gridcolor\":\"white\",\"linecolor\":\"white\",\"ticks\":\"\"}},\"ternary\":{\"bgcolor\":\"#E5ECF6\",\"aaxis\":{\"gridcolor\":\"white\",\"linecolor\":\"white\",\"ticks\":\"\"},\"baxis\":{\"gridcolor\":\"white\",\"linecolor\":\"white\",\"ticks\":\"\"},\"caxis\":{\"gridcolor\":\"white\",\"linecolor\":\"white\",\"ticks\":\"\"}},\"coloraxis\":{\"colorbar\":{\"outlinewidth\":0,\"ticks\":\"\"}},\"colorscale\":{\"sequential\":[[0.0,\"#0d0887\"],[0.1111111111111111,\"#46039f\"],[0.2222222222222222,\"#7201a8\"],[0.3333333333333333,\"#9c179e\"],[0.4444444444444444,\"#bd3786\"],[0.5555555555555556,\"#d8576b\"],[0.6666666666666666,\"#ed7953\"],[0.7777777777777778,\"#fb9f3a\"],[0.8888888888888888,\"#fdca26\"],[1.0,\"#f0f921\"]],\"sequentialminus\":[[0.0,\"#0d0887\"],[0.1111111111111111,\"#46039f\"],[0.2222222222222222,\"#7201a8\"],[0.3333333333333333,\"#9c179e\"],[0.4444444444444444,\"#bd3786\"],[0.5555555555555556,\"#d8576b\"],[0.6666666666666666,\"#ed7953\"],[0.7777777777777778,\"#fb9f3a\"],[0.8888888888888888,\"#fdca26\"],[1.0,\"#f0f921\"]],\"diverging\":[[0,\"#8e0152\"],[0.1,\"#c51b7d\"],[0.2,\"#de77ae\"],[0.3,\"#f1b6da\"],[0.4,\"#fde0ef\"],[0.5,\"#f7f7f7\"],[0.6,\"#e6f5d0\"],[0.7,\"#b8e186\"],[0.8,\"#7fbc41\"],[0.9,\"#4d9221\"],[1,\"#276419\"]]},\"xaxis\":{\"gridcolor\":\"white\",\"linecolor\":\"white\",\"ticks\":\"\",\"title\":{\"standoff\":15},\"zerolinecolor\":\"white\",\"automargin\":true,\"zerolinewidth\":2},\"yaxis\":{\"gridcolor\":\"white\",\"linecolor\":\"white\",\"ticks\":\"\",\"title\":{\"standoff\":15},\"zerolinecolor\":\"white\",\"automargin\":true,\"zerolinewidth\":2},\"scene\":{\"xaxis\":{\"backgroundcolor\":\"#E5ECF6\",\"gridcolor\":\"white\",\"linecolor\":\"white\",\"showbackground\":true,\"ticks\":\"\",\"zerolinecolor\":\"white\",\"gridwidth\":2},\"yaxis\":{\"backgroundcolor\":\"#E5ECF6\",\"gridcolor\":\"white\",\"linecolor\":\"white\",\"showbackground\":true,\"ticks\":\"\",\"zerolinecolor\":\"white\",\"gridwidth\":2},\"zaxis\":{\"backgroundcolor\":\"#E5ECF6\",\"gridcolor\":\"white\",\"linecolor\":\"white\",\"showbackground\":true,\"ticks\":\"\",\"zerolinecolor\":\"white\",\"gridwidth\":2}},\"shapedefaults\":{\"line\":{\"color\":\"#2a3f5f\"}},\"annotationdefaults\":{\"arrowcolor\":\"#2a3f5f\",\"arrowhead\":0,\"arrowwidth\":1},\"geo\":{\"bgcolor\":\"white\",\"landcolor\":\"#E5ECF6\",\"subunitcolor\":\"white\",\"showland\":true,\"showlakes\":true,\"lakecolor\":\"white\"},\"title\":{\"x\":0.05},\"mapbox\":{\"style\":\"light\"}}},\"scene\":{\"domain\":{\"x\":[0.0,1.0],\"y\":[0.0,1.0]},\"xaxis\":{\"title\":{\"text\":\"x\"}},\"yaxis\":{\"title\":{\"text\":\"y\"}},\"zaxis\":{\"title\":{\"text\":\"z\"}}},\"legend\":{\"tracegroupgap\":0},\"margin\":{\"t\":60}},                        {\"responsive\": true}                    ).then(function(){\n",
       "                            \n",
       "var gd = document.getElementById('699ecada-1aed-4c04-bdd9-9fc9b61da116');\n",
       "var x = new MutationObserver(function (mutations, observer) {{\n",
       "        var display = window.getComputedStyle(gd).display;\n",
       "        if (!display || display === 'none') {{\n",
       "            console.log([gd, 'removed!']);\n",
       "            Plotly.purge(gd);\n",
       "            observer.disconnect();\n",
       "        }}\n",
       "}});\n",
       "\n",
       "// Listen for the removal of the full notebook cells\n",
       "var notebookContainer = gd.closest('#notebook-container');\n",
       "if (notebookContainer) {{\n",
       "    x.observe(notebookContainer, {childList: true});\n",
       "}}\n",
       "\n",
       "// Listen for the clearing of the current output cell\n",
       "var outputEl = gd.closest('.output');\n",
       "if (outputEl) {{\n",
       "    x.observe(outputEl, {childList: true});\n",
       "}}\n",
       "\n",
       "                        })                };                });            </script>        </div>"
      ]
     },
     "metadata": {},
     "output_type": "display_data"
    }
   ],
   "source": [
    "import plotly.express as px\n",
    "\n",
    "\n",
    "fig = px.scatter_3d( x = x.ravel() , y= y.ravel() , z = z.ravel())\n",
    "fig.update_traces(marker=dict(size=5))\n",
    "fig.show()"
   ]
  },
  {
   "cell_type": "code",
   "execution_count": 117,
   "id": "af906696-7e4a-4a09-97ce-31dd01d252ec",
   "metadata": {},
   "outputs": [],
   "source": [
    "lr = LinearRegression()\n",
    "lr.fit(np.array([x,y]).reshape(100,2) , z)\n",
    "\n",
    "x_input = np.linspace(x.min() , x.max() , 10)\n",
    "y_input = np.linspace(y.min() , y.max() , 10)\n",
    "xGrid, yGrid = np.meshgrid(x_input , y_input)\n",
    "\n",
    "final = np.vstack(( xGrid.ravel().reshape(1,100) , yGrid.ravel().reshape(1,100))).T\n",
    "\n",
    "z_final = lr.predict(final).reshape(10,10)"
   ]
  },
  {
   "cell_type": "code",
   "execution_count": 118,
   "id": "109d6a71-e1ec-45a7-a796-78e036cff4e2",
   "metadata": {},
   "outputs": [
    {
     "data": {
      "application/vnd.plotly.v1+json": {
       "config": {
        "plotlyServerURL": "https://plot.ly"
       },
       "data": [
        {
         "hovertemplate": "x=%{x}<br>y=%{y}<br>z=%{z}<extra></extra>",
         "legendgroup": "",
         "marker": {
          "color": "#636efa",
          "symbol": "circle"
         },
         "mode": "markers",
         "name": "",
         "scene": "scene",
         "showlegend": false,
         "type": "scatter3d",
         "x": [
          1.7759838478524799,
          -0.6643070644523568,
          -0.8943889404629672,
          -1.3244650159014386,
          -1.1982345875692322,
          0.40512970814047433,
          -0.5901012638862797,
          -1.1128306916021415,
          -0.8826561077218846,
          -0.8930202128537306,
          2.575581994345862,
          3.3108451229572173,
          1.5725542364772291,
          2.7131021545822174,
          3.825796355559138,
          -0.5950398360102227,
          0.14441655944650345,
          1.8088987126498912,
          3.4437509195864946,
          -2.414736652841502,
          1.3052701565711367,
          0.3278908792619215,
          1.566295285939213,
          2.1566778287154857,
          2.240367882287539,
          -1.1698534842039932,
          2.9313065631734867,
          -0.7075804810369384,
          -2.7810812379847683,
          0.23657436140349386,
          -0.6975537027034395,
          -1.0756536151428147,
          -0.25993805142913873,
          3.875257652756458,
          -1.7233592973043237,
          -0.1713029556914627,
          -0.8227895262014795,
          1.1459802268526462,
          3.4869992411390145,
          3.6210923416664746,
          -1.5580909255230369,
          -0.24659506388480645,
          1.6525786530758326,
          2.5069994896461028,
          3.24224901769655,
          -1.7784840859473494,
          3.992375753057946,
          -0.06062488085611539,
          -2.497464598252084,
          0.133910551783202,
          1.0873014352545827,
          -2.663891760851049,
          -1.3136216764929025,
          -0.04990198646727917,
          1.7949321750564406,
          -1.2614677412132145,
          3.037168808863389,
          3.7912159915952452,
          -0.1648223163757323,
          0.19280755373494562,
          -1.8590552762646366,
          -1.0527124760720794,
          0.3227245448454843,
          2.26748288103572,
          -2.3191745124326526,
          -0.43884898969731356,
          2.296042304408134,
          2.7390850878976725,
          1.1944186547676479,
          3.1436717997556505,
          -0.5612784860271729,
          -0.8995987139012822,
          2.7611944873027783,
          1.1741412978667443,
          -2.023498963605344,
          -2.4802285212159734,
          -0.4158736471280764,
          -1.2187628368210797,
          3.9318823898862147,
          0.5002974831704199,
          -2.4296186157574273,
          2.2589715344694854,
          1.3703994988274726,
          0.11022221356419504,
          1.5596372306276614,
          3.486211171213518,
          0.202833211930721,
          2.304821751923555,
          -2.467945190713505,
          1.6763380328075295,
          -1.7310192121755634,
          -0.5450642737824518,
          2.48121499004324,
          2.493197007257926,
          2.9647617073498633,
          2.8666906760344517,
          -0.5228319265370724,
          2.253161094276127,
          2.6365525956515112,
          -2.4339762529265108
         ],
         "y": [
          0.0011903276545517372,
          4.041124319040626,
          2.9931685038091507,
          -1.1604722668447354,
          1.7067546739820054,
          -0.19419623154499943,
          0.34581350402831923,
          3.008101891621803,
          0.5455198728677368,
          2.3063382314610674,
          4.190331411751092,
          -0.17741330672497524,
          -0.95660756386089,
          -1.9870896739075308,
          0.5096140714037065,
          0.1570908301184346,
          -0.21004608151676152,
          -0.8089916452139732,
          -1.8682919724650962,
          2.047684589443252,
          4.155024798431035,
          0.6374997131713567,
          0.09185414370085887,
          -0.7441617090414265,
          -0.029768180379406317,
          -0.5948102753116595,
          3.956558705495212,
          -2.490601577529289,
          -1.0942985356686594,
          3.828501996102384,
          -0.9617762029934114,
          1.2426078985463578,
          2.9137694016060705,
          1.2437892176177145,
          -2.6789749623446872,
          2.074544946073936,
          4.029953574148798,
          3.7960738911448555,
          -2.6823604963656087,
          -2.407131898703912,
          3.294662345552088,
          -1.446462848203781,
          -1.4771040889409028,
          3.9157788551902417,
          2.9745618681127315,
          -1.7667153851200696,
          0.6172243783346536,
          1.3832699816281755,
          -1.0281981248267416,
          0.7985266353736367,
          -0.9444861085942748,
          2.5025693395480095,
          3.353100351004068,
          -0.49414410200901404,
          0.14594053635764803,
          0.7340259712743724,
          -0.6469660370349577,
          -0.28110099623807017,
          -1.597623993452715,
          -0.5702485393536865,
          -1.6143063462602372,
          0.9519137030919111,
          -1.3119716716748973,
          2.4103874564798904,
          1.8013880075935305,
          2.6694064356416884,
          4.005794937991742,
          -1.4307927708533938,
          4.014109089997649,
          0.6429420398506709,
          -1.05837633633086,
          -2.0872151793963525,
          -2.1062687270264258,
          3.825090424150998,
          3.1550213325781726,
          0.23886040110619078,
          2.090816216994015,
          3.259494145301842,
          2.099715356570349,
          3.8045961821928866,
          4.0921419895288755,
          1.6628491817534368,
          -0.0070147035865213425,
          -1.6694644608688014,
          2.055644324621891,
          0.2039567724260678,
          2.9106277397430915,
          2.179301760019925,
          -1.2311244844161537,
          -0.3053319040045066,
          0.29328401310629015,
          -0.6181886870389741,
          0.5472532621777892,
          -1.9522381285492978,
          0.5792201801180332,
          -1.969628214659358,
          0.8931834817256776,
          -0.09313157230293223,
          1.7242825057520266,
          -0.7205277973173523
         ],
         "z": [
          5.717251792581864,
          19.400423866610666,
          12.212891330859847,
          7.17022014721168,
          5.901083161519973,
          2.194541626562697,
          2.581934527367179,
          11.593601196839654,
          2.0945962916070777,
          9.233240322151614,
          28.919723258327668,
          13.691349824910159,
          7.518199460210649,
          12.76495327012748,
          15.822611709819132,
          1.1284450778485935,
          2.9845397591072214,
          4.695022699636496,
          16.836530011898514,
          10.559566817378947,
          22.230811849959323,
          2.3548105770110346,
          5.53032165537476,
          5.720132355402473,
          7.054056029287075,
          3.334267789874726,
          29.59845779146631,
          7.534807267088996,
          12.219885627871923,
          17.686250259017424,
          2.010211772745796,
          4.0947628098944815,
          12.837214889543446,
          17.65505139747013,
          11.614514556511677,
          8.017604012039717,
          18.302674128735262,
          19.37877170706709,
          22.209257325204117,
          19.759896893145037,
          15.674944063218527,
          3.3850704774395375,
          5.847460978168039,
          24.523797511989823,
          22.866358613362447,
          6.659288551077487,
          19.73988516417921,
          3.7687087425360075,
          7.31365261814317,
          4.177684528675654,
          4.553442265003619,
          15.764654587558406,
          14.561138764092606,
          3.052222084339814,
          5.455443326481783,
          2.0253510172945264,
          11.116843692800373,
          16.235326653196033,
          5.683352224515344,
          1.6230333400414867,
          7.3827743517101405,
          2.2887295159699317,
          4.372890688100612,
          14.158005006099671,
          9.458667493155644,
          9.483891844837629,
          25.45732522390841,
          11.42419917946045,
          21.025125939211776,
          12.666764244985867,
          3.037222003762817,
          6.420064939538927,
          14.87527497668556,
          19.586621061422285,
          15.553804547254373,
          6.729546093423986,
          6.0763115635726805,
          16.193926738446837,
          23.4158551479496,
          18.44556495871694,
          24.470348124630842,
          9.82078160476554,
          3.2739627622745413,
          4.895600776656105,
          9.867694243696596,
          13.739966974217303,
          12.689356188712166,
          13.152230402011467,
          9.294805712495577,
          5.757516813566844,
          5.026856060119637,
          2.2030622710344323,
          8.697671220075595,
          11.972523254330076,
          11.307264661142211,
          14.474899918405427,
          1.2330513214556025,
          9.593087671415331,
          12.297301643648906,
          6.7532971933176364
         ]
        },
        {
         "type": "surface",
         "x": [
          -2.7810812379847683,
          -2.028474905646689,
          -1.2758685733086095,
          -0.5232622409705301,
          0.2293440913675493,
          0.9819504237056287,
          1.734556756043708,
          2.487163088381788,
          3.239769420719867,
          3.992375753057946
         ],
         "y": [
          -2.6823604963656087,
          -1.9187280621304197,
          -1.1550956278952307,
          -0.3914631936600417,
          0.37216924057514733,
          1.1358016748103363,
          1.8994341090455253,
          2.663066543280714,
          3.4266989775159034,
          4.190331411751092
         ],
         "z": [
          [
           12.575577137533418,
           12.23252652062906,
           11.889475903724703,
           11.546425286820345,
           11.203374669915988,
           10.860324053011631,
           10.517273436107272,
           10.174222819202916,
           9.831172202298557,
           9.4881215853942
          ],
          [
           12.523646662113082,
           12.180596045208723,
           11.837545428304367,
           11.49449481140001,
           11.151444194495651,
           10.808393577591294,
           10.465342960686938,
           10.12229234378258,
           9.779241726878222,
           9.436191109973866
          ],
          [
           12.471716186692746,
           12.128665569788389,
           11.785614952884032,
           11.442564335979673,
           11.099513719075317,
           10.756463102170958,
           10.413412485266601,
           10.070361868362244,
           9.727311251457886,
           9.384260634553529
          ],
          [
           12.41978571127241,
           12.076735094368052,
           11.733684477463695,
           11.390633860559339,
           11.04758324365498,
           10.704532626750623,
           10.361482009846267,
           10.018431392941908,
           9.675380776037551,
           9.332330159133194
          ],
          [
           12.367855235852074,
           12.024804618947718,
           11.681754002043359,
           11.338703385139002,
           10.995652768234645,
           10.652602151330287,
           10.30955153442593,
           9.966500917521572,
           9.623450300617215,
           9.280399683712858
          ],
          [
           12.31592476043174,
           11.972874143527381,
           11.629823526623024,
           11.286772909718668,
           10.943722292814309,
           10.600671675909952,
           10.257621059005594,
           9.914570442101237,
           9.57151982519688,
           9.228469208292523
          ],
          [
           12.263994285011403,
           11.920943668107046,
           11.577893051202688,
           11.234842434298331,
           10.891791817393974,
           10.548741200489616,
           10.205690583585259,
           9.8626399666809,
           9.519589349776544,
           9.176538732872187
          ],
          [
           12.212063809591069,
           11.86901319268671,
           11.525962575782353,
           11.182911958877996,
           10.839861341973638,
           10.496810725069281,
           10.153760108164922,
           9.810709491260566,
           9.467658874356209,
           9.12460825745185
          ],
          [
           12.160133334170732,
           11.817082717266375,
           11.474032100362017,
           11.13098148345766,
           10.787930866553303,
           10.444880249648945,
           10.101829632744588,
           9.75877901584023,
           9.415728398935872,
           9.072677782031516
          ],
          [
           12.108202858750397,
           11.765152241846039,
           11.422101624941682,
           11.079051008037323,
           10.736000391132967,
           10.39294977422861,
           10.049899157324251,
           9.706848540419895,
           9.363797923515538,
           9.02074730661118
          ]
         ]
        }
       ],
       "layout": {
        "legend": {
         "tracegroupgap": 0
        },
        "margin": {
         "t": 60
        },
        "scene": {
         "domain": {
          "x": [
           0,
           1
          ],
          "y": [
           0,
           1
          ]
         },
         "xaxis": {
          "title": {
           "text": "x"
          }
         },
         "yaxis": {
          "title": {
           "text": "y"
          }
         },
         "zaxis": {
          "title": {
           "text": "z"
          }
         }
        },
        "template": {
         "data": {
          "bar": [
           {
            "error_x": {
             "color": "#2a3f5f"
            },
            "error_y": {
             "color": "#2a3f5f"
            },
            "marker": {
             "line": {
              "color": "#E5ECF6",
              "width": 0.5
             },
             "pattern": {
              "fillmode": "overlay",
              "size": 10,
              "solidity": 0.2
             }
            },
            "type": "bar"
           }
          ],
          "barpolar": [
           {
            "marker": {
             "line": {
              "color": "#E5ECF6",
              "width": 0.5
             },
             "pattern": {
              "fillmode": "overlay",
              "size": 10,
              "solidity": 0.2
             }
            },
            "type": "barpolar"
           }
          ],
          "carpet": [
           {
            "aaxis": {
             "endlinecolor": "#2a3f5f",
             "gridcolor": "white",
             "linecolor": "white",
             "minorgridcolor": "white",
             "startlinecolor": "#2a3f5f"
            },
            "baxis": {
             "endlinecolor": "#2a3f5f",
             "gridcolor": "white",
             "linecolor": "white",
             "minorgridcolor": "white",
             "startlinecolor": "#2a3f5f"
            },
            "type": "carpet"
           }
          ],
          "choropleth": [
           {
            "colorbar": {
             "outlinewidth": 0,
             "ticks": ""
            },
            "type": "choropleth"
           }
          ],
          "contour": [
           {
            "colorbar": {
             "outlinewidth": 0,
             "ticks": ""
            },
            "colorscale": [
             [
              0,
              "#0d0887"
             ],
             [
              0.1111111111111111,
              "#46039f"
             ],
             [
              0.2222222222222222,
              "#7201a8"
             ],
             [
              0.3333333333333333,
              "#9c179e"
             ],
             [
              0.4444444444444444,
              "#bd3786"
             ],
             [
              0.5555555555555556,
              "#d8576b"
             ],
             [
              0.6666666666666666,
              "#ed7953"
             ],
             [
              0.7777777777777778,
              "#fb9f3a"
             ],
             [
              0.8888888888888888,
              "#fdca26"
             ],
             [
              1,
              "#f0f921"
             ]
            ],
            "type": "contour"
           }
          ],
          "contourcarpet": [
           {
            "colorbar": {
             "outlinewidth": 0,
             "ticks": ""
            },
            "type": "contourcarpet"
           }
          ],
          "heatmap": [
           {
            "colorbar": {
             "outlinewidth": 0,
             "ticks": ""
            },
            "colorscale": [
             [
              0,
              "#0d0887"
             ],
             [
              0.1111111111111111,
              "#46039f"
             ],
             [
              0.2222222222222222,
              "#7201a8"
             ],
             [
              0.3333333333333333,
              "#9c179e"
             ],
             [
              0.4444444444444444,
              "#bd3786"
             ],
             [
              0.5555555555555556,
              "#d8576b"
             ],
             [
              0.6666666666666666,
              "#ed7953"
             ],
             [
              0.7777777777777778,
              "#fb9f3a"
             ],
             [
              0.8888888888888888,
              "#fdca26"
             ],
             [
              1,
              "#f0f921"
             ]
            ],
            "type": "heatmap"
           }
          ],
          "heatmapgl": [
           {
            "colorbar": {
             "outlinewidth": 0,
             "ticks": ""
            },
            "colorscale": [
             [
              0,
              "#0d0887"
             ],
             [
              0.1111111111111111,
              "#46039f"
             ],
             [
              0.2222222222222222,
              "#7201a8"
             ],
             [
              0.3333333333333333,
              "#9c179e"
             ],
             [
              0.4444444444444444,
              "#bd3786"
             ],
             [
              0.5555555555555556,
              "#d8576b"
             ],
             [
              0.6666666666666666,
              "#ed7953"
             ],
             [
              0.7777777777777778,
              "#fb9f3a"
             ],
             [
              0.8888888888888888,
              "#fdca26"
             ],
             [
              1,
              "#f0f921"
             ]
            ],
            "type": "heatmapgl"
           }
          ],
          "histogram": [
           {
            "marker": {
             "pattern": {
              "fillmode": "overlay",
              "size": 10,
              "solidity": 0.2
             }
            },
            "type": "histogram"
           }
          ],
          "histogram2d": [
           {
            "colorbar": {
             "outlinewidth": 0,
             "ticks": ""
            },
            "colorscale": [
             [
              0,
              "#0d0887"
             ],
             [
              0.1111111111111111,
              "#46039f"
             ],
             [
              0.2222222222222222,
              "#7201a8"
             ],
             [
              0.3333333333333333,
              "#9c179e"
             ],
             [
              0.4444444444444444,
              "#bd3786"
             ],
             [
              0.5555555555555556,
              "#d8576b"
             ],
             [
              0.6666666666666666,
              "#ed7953"
             ],
             [
              0.7777777777777778,
              "#fb9f3a"
             ],
             [
              0.8888888888888888,
              "#fdca26"
             ],
             [
              1,
              "#f0f921"
             ]
            ],
            "type": "histogram2d"
           }
          ],
          "histogram2dcontour": [
           {
            "colorbar": {
             "outlinewidth": 0,
             "ticks": ""
            },
            "colorscale": [
             [
              0,
              "#0d0887"
             ],
             [
              0.1111111111111111,
              "#46039f"
             ],
             [
              0.2222222222222222,
              "#7201a8"
             ],
             [
              0.3333333333333333,
              "#9c179e"
             ],
             [
              0.4444444444444444,
              "#bd3786"
             ],
             [
              0.5555555555555556,
              "#d8576b"
             ],
             [
              0.6666666666666666,
              "#ed7953"
             ],
             [
              0.7777777777777778,
              "#fb9f3a"
             ],
             [
              0.8888888888888888,
              "#fdca26"
             ],
             [
              1,
              "#f0f921"
             ]
            ],
            "type": "histogram2dcontour"
           }
          ],
          "mesh3d": [
           {
            "colorbar": {
             "outlinewidth": 0,
             "ticks": ""
            },
            "type": "mesh3d"
           }
          ],
          "parcoords": [
           {
            "line": {
             "colorbar": {
              "outlinewidth": 0,
              "ticks": ""
             }
            },
            "type": "parcoords"
           }
          ],
          "pie": [
           {
            "automargin": true,
            "type": "pie"
           }
          ],
          "scatter": [
           {
            "fillpattern": {
             "fillmode": "overlay",
             "size": 10,
             "solidity": 0.2
            },
            "type": "scatter"
           }
          ],
          "scatter3d": [
           {
            "line": {
             "colorbar": {
              "outlinewidth": 0,
              "ticks": ""
             }
            },
            "marker": {
             "colorbar": {
              "outlinewidth": 0,
              "ticks": ""
             }
            },
            "type": "scatter3d"
           }
          ],
          "scattercarpet": [
           {
            "marker": {
             "colorbar": {
              "outlinewidth": 0,
              "ticks": ""
             }
            },
            "type": "scattercarpet"
           }
          ],
          "scattergeo": [
           {
            "marker": {
             "colorbar": {
              "outlinewidth": 0,
              "ticks": ""
             }
            },
            "type": "scattergeo"
           }
          ],
          "scattergl": [
           {
            "marker": {
             "colorbar": {
              "outlinewidth": 0,
              "ticks": ""
             }
            },
            "type": "scattergl"
           }
          ],
          "scattermapbox": [
           {
            "marker": {
             "colorbar": {
              "outlinewidth": 0,
              "ticks": ""
             }
            },
            "type": "scattermapbox"
           }
          ],
          "scatterpolar": [
           {
            "marker": {
             "colorbar": {
              "outlinewidth": 0,
              "ticks": ""
             }
            },
            "type": "scatterpolar"
           }
          ],
          "scatterpolargl": [
           {
            "marker": {
             "colorbar": {
              "outlinewidth": 0,
              "ticks": ""
             }
            },
            "type": "scatterpolargl"
           }
          ],
          "scatterternary": [
           {
            "marker": {
             "colorbar": {
              "outlinewidth": 0,
              "ticks": ""
             }
            },
            "type": "scatterternary"
           }
          ],
          "surface": [
           {
            "colorbar": {
             "outlinewidth": 0,
             "ticks": ""
            },
            "colorscale": [
             [
              0,
              "#0d0887"
             ],
             [
              0.1111111111111111,
              "#46039f"
             ],
             [
              0.2222222222222222,
              "#7201a8"
             ],
             [
              0.3333333333333333,
              "#9c179e"
             ],
             [
              0.4444444444444444,
              "#bd3786"
             ],
             [
              0.5555555555555556,
              "#d8576b"
             ],
             [
              0.6666666666666666,
              "#ed7953"
             ],
             [
              0.7777777777777778,
              "#fb9f3a"
             ],
             [
              0.8888888888888888,
              "#fdca26"
             ],
             [
              1,
              "#f0f921"
             ]
            ],
            "type": "surface"
           }
          ],
          "table": [
           {
            "cells": {
             "fill": {
              "color": "#EBF0F8"
             },
             "line": {
              "color": "white"
             }
            },
            "header": {
             "fill": {
              "color": "#C8D4E3"
             },
             "line": {
              "color": "white"
             }
            },
            "type": "table"
           }
          ]
         },
         "layout": {
          "annotationdefaults": {
           "arrowcolor": "#2a3f5f",
           "arrowhead": 0,
           "arrowwidth": 1
          },
          "autotypenumbers": "strict",
          "coloraxis": {
           "colorbar": {
            "outlinewidth": 0,
            "ticks": ""
           }
          },
          "colorscale": {
           "diverging": [
            [
             0,
             "#8e0152"
            ],
            [
             0.1,
             "#c51b7d"
            ],
            [
             0.2,
             "#de77ae"
            ],
            [
             0.3,
             "#f1b6da"
            ],
            [
             0.4,
             "#fde0ef"
            ],
            [
             0.5,
             "#f7f7f7"
            ],
            [
             0.6,
             "#e6f5d0"
            ],
            [
             0.7,
             "#b8e186"
            ],
            [
             0.8,
             "#7fbc41"
            ],
            [
             0.9,
             "#4d9221"
            ],
            [
             1,
             "#276419"
            ]
           ],
           "sequential": [
            [
             0,
             "#0d0887"
            ],
            [
             0.1111111111111111,
             "#46039f"
            ],
            [
             0.2222222222222222,
             "#7201a8"
            ],
            [
             0.3333333333333333,
             "#9c179e"
            ],
            [
             0.4444444444444444,
             "#bd3786"
            ],
            [
             0.5555555555555556,
             "#d8576b"
            ],
            [
             0.6666666666666666,
             "#ed7953"
            ],
            [
             0.7777777777777778,
             "#fb9f3a"
            ],
            [
             0.8888888888888888,
             "#fdca26"
            ],
            [
             1,
             "#f0f921"
            ]
           ],
           "sequentialminus": [
            [
             0,
             "#0d0887"
            ],
            [
             0.1111111111111111,
             "#46039f"
            ],
            [
             0.2222222222222222,
             "#7201a8"
            ],
            [
             0.3333333333333333,
             "#9c179e"
            ],
            [
             0.4444444444444444,
             "#bd3786"
            ],
            [
             0.5555555555555556,
             "#d8576b"
            ],
            [
             0.6666666666666666,
             "#ed7953"
            ],
            [
             0.7777777777777778,
             "#fb9f3a"
            ],
            [
             0.8888888888888888,
             "#fdca26"
            ],
            [
             1,
             "#f0f921"
            ]
           ]
          },
          "colorway": [
           "#636efa",
           "#EF553B",
           "#00cc96",
           "#ab63fa",
           "#FFA15A",
           "#19d3f3",
           "#FF6692",
           "#B6E880",
           "#FF97FF",
           "#FECB52"
          ],
          "font": {
           "color": "#2a3f5f"
          },
          "geo": {
           "bgcolor": "white",
           "lakecolor": "white",
           "landcolor": "#E5ECF6",
           "showlakes": true,
           "showland": true,
           "subunitcolor": "white"
          },
          "hoverlabel": {
           "align": "left"
          },
          "hovermode": "closest",
          "mapbox": {
           "style": "light"
          },
          "paper_bgcolor": "white",
          "plot_bgcolor": "#E5ECF6",
          "polar": {
           "angularaxis": {
            "gridcolor": "white",
            "linecolor": "white",
            "ticks": ""
           },
           "bgcolor": "#E5ECF6",
           "radialaxis": {
            "gridcolor": "white",
            "linecolor": "white",
            "ticks": ""
           }
          },
          "scene": {
           "xaxis": {
            "backgroundcolor": "#E5ECF6",
            "gridcolor": "white",
            "gridwidth": 2,
            "linecolor": "white",
            "showbackground": true,
            "ticks": "",
            "zerolinecolor": "white"
           },
           "yaxis": {
            "backgroundcolor": "#E5ECF6",
            "gridcolor": "white",
            "gridwidth": 2,
            "linecolor": "white",
            "showbackground": true,
            "ticks": "",
            "zerolinecolor": "white"
           },
           "zaxis": {
            "backgroundcolor": "#E5ECF6",
            "gridcolor": "white",
            "gridwidth": 2,
            "linecolor": "white",
            "showbackground": true,
            "ticks": "",
            "zerolinecolor": "white"
           }
          },
          "shapedefaults": {
           "line": {
            "color": "#2a3f5f"
           }
          },
          "ternary": {
           "aaxis": {
            "gridcolor": "white",
            "linecolor": "white",
            "ticks": ""
           },
           "baxis": {
            "gridcolor": "white",
            "linecolor": "white",
            "ticks": ""
           },
           "bgcolor": "#E5ECF6",
           "caxis": {
            "gridcolor": "white",
            "linecolor": "white",
            "ticks": ""
           }
          },
          "title": {
           "x": 0.05
          },
          "xaxis": {
           "automargin": true,
           "gridcolor": "white",
           "linecolor": "white",
           "ticks": "",
           "title": {
            "standoff": 15
           },
           "zerolinecolor": "white",
           "zerolinewidth": 2
          },
          "yaxis": {
           "automargin": true,
           "gridcolor": "white",
           "linecolor": "white",
           "ticks": "",
           "title": {
            "standoff": 15
           },
           "zerolinecolor": "white",
           "zerolinewidth": 2
          }
         }
        }
       }
      },
      "image/png": "[encoded data removed]",
      "text/html": [
       "<div>                            <div id=\"becdf9e6-d25d-4324-94ce-eb1c840f7931\" class=\"plotly-graph-div\" style=\"height:525px; width:100%;\"></div>            <script type=\"text/javascript\">                require([\"plotly\"], function(Plotly) {                    window.PLOTLYENV=window.PLOTLYENV || {};                                    if (document.getElementById(\"becdf9e6-d25d-4324-94ce-eb1c840f7931\")) {                    Plotly.newPlot(                        \"becdf9e6-d25d-4324-94ce-eb1c840f7931\",                        [{\"hovertemplate\":\"x=%{x}\\u003cbr\\u003ey=%{y}\\u003cbr\\u003ez=%{z}\\u003cextra\\u003e\\u003c\\u002fextra\\u003e\",\"legendgroup\":\"\",\"marker\":{\"color\":\"#636efa\",\"symbol\":\"circle\"},\"mode\":\"markers\",\"name\":\"\",\"scene\":\"scene\",\"showlegend\":false,\"x\":[1.7759838478524799,-0.6643070644523568,-0.8943889404629672,-1.3244650159014386,-1.1982345875692322,0.40512970814047433,-0.5901012638862797,-1.1128306916021415,-0.8826561077218846,-0.8930202128537306,2.575581994345862,3.3108451229572173,1.5725542364772291,2.7131021545822174,3.825796355559138,-0.5950398360102227,0.14441655944650345,1.8088987126498912,3.4437509195864946,-2.414736652841502,1.3052701565711367,0.3278908792619215,1.566295285939213,2.1566778287154857,2.240367882287539,-1.1698534842039932,2.9313065631734867,-0.7075804810369384,-2.7810812379847683,0.23657436140349386,-0.6975537027034395,-1.0756536151428147,-0.25993805142913873,3.875257652756458,-1.7233592973043237,-0.1713029556914627,-0.8227895262014795,1.1459802268526462,3.4869992411390145,3.6210923416664746,-1.5580909255230369,-0.24659506388480645,1.6525786530758326,2.5069994896461028,3.24224901769655,-1.7784840859473494,3.992375753057946,-0.06062488085611539,-2.497464598252084,0.133910551783202,1.0873014352545827,-2.663891760851049,-1.3136216764929025,-0.04990198646727917,1.7949321750564406,-1.2614677412132145,3.037168808863389,3.7912159915952452,-0.1648223163757323,0.19280755373494562,-1.8590552762646366,-1.0527124760720794,0.3227245448454843,2.26748288103572,-2.3191745124326526,-0.43884898969731356,2.296042304408134,2.7390850878976725,1.1944186547676479,3.1436717997556505,-0.5612784860271729,-0.8995987139012822,2.7611944873027783,1.1741412978667443,-2.023498963605344,-2.4802285212159734,-0.4158736471280764,-1.2187628368210797,3.9318823898862147,0.5002974831704199,-2.4296186157574273,2.2589715344694854,1.3703994988274726,0.11022221356419504,1.5596372306276614,3.486211171213518,0.202833211930721,2.304821751923555,-2.467945190713505,1.6763380328075295,-1.7310192121755634,-0.5450642737824518,2.48121499004324,2.493197007257926,2.9647617073498633,2.8666906760344517,-0.5228319265370724,2.253161094276127,2.6365525956515112,-2.4339762529265108],\"y\":[0.0011903276545517372,4.041124319040626,2.9931685038091507,-1.1604722668447354,1.7067546739820054,-0.19419623154499943,0.34581350402831923,3.008101891621803,0.5455198728677368,2.3063382314610674,4.190331411751092,-0.17741330672497524,-0.95660756386089,-1.9870896739075308,0.5096140714037065,0.1570908301184346,-0.21004608151676152,-0.8089916452139732,-1.8682919724650962,2.047684589443252,4.155024798431035,0.6374997131713567,0.09185414370085887,-0.7441617090414265,-0.029768180379406317,-0.5948102753116595,3.956558705495212,-2.490601577529289,-1.0942985356686594,3.828501996102384,-0.9617762029934114,1.2426078985463578,2.9137694016060705,1.2437892176177145,-2.6789749623446872,2.074544946073936,4.029953574148798,3.7960738911448555,-2.6823604963656087,-2.407131898703912,3.294662345552088,-1.446462848203781,-1.4771040889409028,3.9157788551902417,2.9745618681127315,-1.7667153851200696,0.6172243783346536,1.3832699816281755,-1.0281981248267416,0.7985266353736367,-0.9444861085942748,2.5025693395480095,3.353100351004068,-0.49414410200901404,0.14594053635764803,0.7340259712743724,-0.6469660370349577,-0.28110099623807017,-1.597623993452715,-0.5702485393536865,-1.6143063462602372,0.9519137030919111,-1.3119716716748973,2.4103874564798904,1.8013880075935305,2.6694064356416884,4.005794937991742,-1.4307927708533938,4.014109089997649,0.6429420398506709,-1.05837633633086,-2.0872151793963525,-2.1062687270264258,3.825090424150998,3.1550213325781726,0.23886040110619078,2.090816216994015,3.259494145301842,2.099715356570349,3.8045961821928866,4.0921419895288755,1.6628491817534368,-0.0070147035865213425,-1.6694644608688014,2.055644324621891,0.2039567724260678,2.9106277397430915,2.179301760019925,-1.2311244844161537,-0.3053319040045066,0.29328401310629015,-0.6181886870389741,0.5472532621777892,-1.9522381285492978,0.5792201801180332,-1.969628214659358,0.8931834817256776,-0.09313157230293223,1.7242825057520266,-0.7205277973173523],\"z\":[5.717251792581864,19.400423866610666,12.212891330859847,7.17022014721168,5.901083161519973,2.194541626562697,2.581934527367179,11.593601196839654,2.0945962916070777,9.233240322151614,28.919723258327668,13.691349824910159,7.518199460210649,12.76495327012748,15.822611709819132,1.1284450778485935,2.9845397591072214,4.695022699636496,16.836530011898514,10.559566817378947,22.230811849959323,2.3548105770110346,5.53032165537476,5.720132355402473,7.054056029287075,3.334267789874726,29.59845779146631,7.534807267088996,12.219885627871923,17.686250259017424,2.010211772745796,4.0947628098944815,12.837214889543446,17.65505139747013,11.614514556511677,8.017604012039717,18.302674128735262,19.37877170706709,22.209257325204117,19.759896893145037,15.674944063218527,3.3850704774395375,5.847460978168039,24.523797511989823,22.866358613362447,6.659288551077487,19.73988516417921,3.7687087425360075,7.31365261814317,4.177684528675654,4.553442265003619,15.764654587558406,14.561138764092606,3.052222084339814,5.455443326481783,2.0253510172945264,11.116843692800373,16.235326653196033,5.683352224515344,1.6230333400414867,7.3827743517101405,2.2887295159699317,4.372890688100612,14.158005006099671,9.458667493155644,9.483891844837629,25.45732522390841,11.42419917946045,21.025125939211776,12.666764244985867,3.037222003762817,6.420064939538927,14.87527497668556,19.586621061422285,15.553804547254373,6.729546093423986,6.0763115635726805,16.193926738446837,23.4158551479496,18.44556495871694,24.470348124630842,9.82078160476554,3.2739627622745413,4.895600776656105,9.867694243696596,13.739966974217303,12.689356188712166,13.152230402011467,9.294805712495577,5.757516813566844,5.026856060119637,2.2030622710344323,8.697671220075595,11.972523254330076,11.307264661142211,14.474899918405427,1.2330513214556025,9.593087671415331,12.297301643648906,6.7532971933176364],\"type\":\"scatter3d\"},{\"x\":[-2.7810812379847683,-2.028474905646689,-1.2758685733086095,-0.5232622409705301,0.2293440913675493,0.9819504237056287,1.734556756043708,2.487163088381788,3.239769420719867,3.992375753057946],\"y\":[-2.6823604963656087,-1.9187280621304197,-1.1550956278952307,-0.3914631936600417,0.37216924057514733,1.1358016748103363,1.8994341090455253,2.663066543280714,3.4266989775159034,4.190331411751092],\"z\":[[12.575577137533418,12.23252652062906,11.889475903724703,11.546425286820345,11.203374669915988,10.860324053011631,10.517273436107272,10.174222819202916,9.831172202298557,9.4881215853942],[12.523646662113082,12.180596045208723,11.837545428304367,11.49449481140001,11.151444194495651,10.808393577591294,10.465342960686938,10.12229234378258,9.779241726878222,9.436191109973866],[12.471716186692746,12.128665569788389,11.785614952884032,11.442564335979673,11.099513719075317,10.756463102170958,10.413412485266601,10.070361868362244,9.727311251457886,9.384260634553529],[12.41978571127241,12.076735094368052,11.733684477463695,11.390633860559339,11.04758324365498,10.704532626750623,10.361482009846267,10.018431392941908,9.675380776037551,9.332330159133194],[12.367855235852074,12.024804618947718,11.681754002043359,11.338703385139002,10.995652768234645,10.652602151330287,10.30955153442593,9.966500917521572,9.623450300617215,9.280399683712858],[12.31592476043174,11.972874143527381,11.629823526623024,11.286772909718668,10.943722292814309,10.600671675909952,10.257621059005594,9.914570442101237,9.57151982519688,9.228469208292523],[12.263994285011403,11.920943668107046,11.577893051202688,11.234842434298331,10.891791817393974,10.548741200489616,10.205690583585259,9.8626399666809,9.519589349776544,9.176538732872187],[12.212063809591069,11.86901319268671,11.525962575782353,11.182911958877996,10.839861341973638,10.496810725069281,10.153760108164922,9.810709491260566,9.467658874356209,9.12460825745185],[12.160133334170732,11.817082717266375,11.474032100362017,11.13098148345766,10.787930866553303,10.444880249648945,10.101829632744588,9.75877901584023,9.415728398935872,9.072677782031516],[12.108202858750397,11.765152241846039,11.422101624941682,11.079051008037323,10.736000391132967,10.39294977422861,10.049899157324251,9.706848540419895,9.363797923515538,9.02074730661118]],\"type\":\"surface\"}],                        {\"template\":{\"data\":{\"histogram2dcontour\":[{\"type\":\"histogram2dcontour\",\"colorbar\":{\"outlinewidth\":0,\"ticks\":\"\"},\"colorscale\":[[0.0,\"#0d0887\"],[0.1111111111111111,\"#46039f\"],[0.2222222222222222,\"#7201a8\"],[0.3333333333333333,\"#9c179e\"],[0.4444444444444444,\"#bd3786\"],[0.5555555555555556,\"#d8576b\"],[0.6666666666666666,\"#ed7953\"],[0.7777777777777778,\"#fb9f3a\"],[0.8888888888888888,\"#fdca26\"],[1.0,\"#f0f921\"]]}],\"choropleth\":[{\"type\":\"choropleth\",\"colorbar\":{\"outlinewidth\":0,\"ticks\":\"\"}}],\"histogram2d\":[{\"type\":\"histogram2d\",\"colorbar\":{\"outlinewidth\":0,\"ticks\":\"\"},\"colorscale\":[[0.0,\"#0d0887\"],[0.1111111111111111,\"#46039f\"],[0.2222222222222222,\"#7201a8\"],[0.3333333333333333,\"#9c179e\"],[0.4444444444444444,\"#bd3786\"],[0.5555555555555556,\"#d8576b\"],[0.6666666666666666,\"#ed7953\"],[0.7777777777777778,\"#fb9f3a\"],[0.8888888888888888,\"#fdca26\"],[1.0,\"#f0f921\"]]}],\"heatmap\":[{\"type\":\"heatmap\",\"colorbar\":{\"outlinewidth\":0,\"ticks\":\"\"},\"colorscale\":[[0.0,\"#0d0887\"],[0.1111111111111111,\"#46039f\"],[0.2222222222222222,\"#7201a8\"],[0.3333333333333333,\"#9c179e\"],[0.4444444444444444,\"#bd3786\"],[0.5555555555555556,\"#d8576b\"],[0.6666666666666666,\"#ed7953\"],[0.7777777777777778,\"#fb9f3a\"],[0.8888888888888888,\"#fdca26\"],[1.0,\"#f0f921\"]]}],\"heatmapgl\":[{\"type\":\"heatmapgl\",\"colorbar\":{\"outlinewidth\":0,\"ticks\":\"\"},\"colorscale\":[[0.0,\"#0d0887\"],[0.1111111111111111,\"#46039f\"],[0.2222222222222222,\"#7201a8\"],[0.3333333333333333,\"#9c179e\"],[0.4444444444444444,\"#bd3786\"],[0.5555555555555556,\"#d8576b\"],[0.6666666666666666,\"#ed7953\"],[0.7777777777777778,\"#fb9f3a\"],[0.8888888888888888,\"#fdca26\"],[1.0,\"#f0f921\"]]}],\"contourcarpet\":[{\"type\":\"contourcarpet\",\"colorbar\":{\"outlinewidth\":0,\"ticks\":\"\"}}],\"contour\":[{\"type\":\"contour\",\"colorbar\":{\"outlinewidth\":0,\"ticks\":\"\"},\"colorscale\":[[0.0,\"#0d0887\"],[0.1111111111111111,\"#46039f\"],[0.2222222222222222,\"#7201a8\"],[0.3333333333333333,\"#9c179e\"],[0.4444444444444444,\"#bd3786\"],[0.5555555555555556,\"#d8576b\"],[0.6666666666666666,\"#ed7953\"],[0.7777777777777778,\"#fb9f3a\"],[0.8888888888888888,\"#fdca26\"],[1.0,\"#f0f921\"]]}],\"surface\":[{\"type\":\"surface\",\"colorbar\":{\"outlinewidth\":0,\"ticks\":\"\"},\"colorscale\":[[0.0,\"#0d0887\"],[0.1111111111111111,\"#46039f\"],[0.2222222222222222,\"#7201a8\"],[0.3333333333333333,\"#9c179e\"],[0.4444444444444444,\"#bd3786\"],[0.5555555555555556,\"#d8576b\"],[0.6666666666666666,\"#ed7953\"],[0.7777777777777778,\"#fb9f3a\"],[0.8888888888888888,\"#fdca26\"],[1.0,\"#f0f921\"]]}],\"mesh3d\":[{\"type\":\"mesh3d\",\"colorbar\":{\"outlinewidth\":0,\"ticks\":\"\"}}],\"scatter\":[{\"fillpattern\":{\"fillmode\":\"overlay\",\"size\":10,\"solidity\":0.2},\"type\":\"scatter\"}],\"parcoords\":[{\"type\":\"parcoords\",\"line\":{\"colorbar\":{\"outlinewidth\":0,\"ticks\":\"\"}}}],\"scatterpolargl\":[{\"type\":\"scatterpolargl\",\"marker\":{\"colorbar\":{\"outlinewidth\":0,\"ticks\":\"\"}}}],\"bar\":[{\"error_x\":{\"color\":\"#2a3f5f\"},\"error_y\":{\"color\":\"#2a3f5f\"},\"marker\":{\"line\":{\"color\":\"#E5ECF6\",\"width\":0.5},\"pattern\":{\"fillmode\":\"overlay\",\"size\":10,\"solidity\":0.2}},\"type\":\"bar\"}],\"scattergeo\":[{\"type\":\"scattergeo\",\"marker\":{\"colorbar\":{\"outlinewidth\":0,\"ticks\":\"\"}}}],\"scatterpolar\":[{\"type\":\"scatterpolar\",\"marker\":{\"colorbar\":{\"outlinewidth\":0,\"ticks\":\"\"}}}],\"histogram\":[{\"marker\":{\"pattern\":{\"fillmode\":\"overlay\",\"size\":10,\"solidity\":0.2}},\"type\":\"histogram\"}],\"scattergl\":[{\"type\":\"scattergl\",\"marker\":{\"colorbar\":{\"outlinewidth\":0,\"ticks\":\"\"}}}],\"scatter3d\":[{\"type\":\"scatter3d\",\"line\":{\"colorbar\":{\"outlinewidth\":0,\"ticks\":\"\"}},\"marker\":{\"colorbar\":{\"outlinewidth\":0,\"ticks\":\"\"}}}],\"scattermapbox\":[{\"type\":\"scattermapbox\",\"marker\":{\"colorbar\":{\"outlinewidth\":0,\"ticks\":\"\"}}}],\"scatterternary\":[{\"type\":\"scatterternary\",\"marker\":{\"colorbar\":{\"outlinewidth\":0,\"ticks\":\"\"}}}],\"scattercarpet\":[{\"type\":\"scattercarpet\",\"marker\":{\"colorbar\":{\"outlinewidth\":0,\"ticks\":\"\"}}}],\"carpet\":[{\"aaxis\":{\"endlinecolor\":\"#2a3f5f\",\"gridcolor\":\"white\",\"linecolor\":\"white\",\"minorgridcolor\":\"white\",\"startlinecolor\":\"#2a3f5f\"},\"baxis\":{\"endlinecolor\":\"#2a3f5f\",\"gridcolor\":\"white\",\"linecolor\":\"white\",\"minorgridcolor\":\"white\",\"startlinecolor\":\"#2a3f5f\"},\"type\":\"carpet\"}],\"table\":[{\"cells\":{\"fill\":{\"color\":\"#EBF0F8\"},\"line\":{\"color\":\"white\"}},\"header\":{\"fill\":{\"color\":\"#C8D4E3\"},\"line\":{\"color\":\"white\"}},\"type\":\"table\"}],\"barpolar\":[{\"marker\":{\"line\":{\"color\":\"#E5ECF6\",\"width\":0.5},\"pattern\":{\"fillmode\":\"overlay\",\"size\":10,\"solidity\":0.2}},\"type\":\"barpolar\"}],\"pie\":[{\"automargin\":true,\"type\":\"pie\"}]},\"layout\":{\"autotypenumbers\":\"strict\",\"colorway\":[\"#636efa\",\"#EF553B\",\"#00cc96\",\"#ab63fa\",\"#FFA15A\",\"#19d3f3\",\"#FF6692\",\"#B6E880\",\"#FF97FF\",\"#FECB52\"],\"font\":{\"color\":\"#2a3f5f\"},\"hovermode\":\"closest\",\"hoverlabel\":{\"align\":\"left\"},\"paper_bgcolor\":\"white\",\"plot_bgcolor\":\"#E5ECF6\",\"polar\":{\"bgcolor\":\"#E5ECF6\",\"angularaxis\":{\"gridcolor\":\"white\",\"linecolor\":\"white\",\"ticks\":\"\"},\"radialaxis\":{\"gridcolor\":\"white\",\"linecolor\":\"white\",\"ticks\":\"\"}},\"ternary\":{\"bgcolor\":\"#E5ECF6\",\"aaxis\":{\"gridcolor\":\"white\",\"linecolor\":\"white\",\"ticks\":\"\"},\"baxis\":{\"gridcolor\":\"white\",\"linecolor\":\"white\",\"ticks\":\"\"},\"caxis\":{\"gridcolor\":\"white\",\"linecolor\":\"white\",\"ticks\":\"\"}},\"coloraxis\":{\"colorbar\":{\"outlinewidth\":0,\"ticks\":\"\"}},\"colorscale\":{\"sequential\":[[0.0,\"#0d0887\"],[0.1111111111111111,\"#46039f\"],[0.2222222222222222,\"#7201a8\"],[0.3333333333333333,\"#9c179e\"],[0.4444444444444444,\"#bd3786\"],[0.5555555555555556,\"#d8576b\"],[0.6666666666666666,\"#ed7953\"],[0.7777777777777778,\"#fb9f3a\"],[0.8888888888888888,\"#fdca26\"],[1.0,\"#f0f921\"]],\"sequentialminus\":[[0.0,\"#0d0887\"],[0.1111111111111111,\"#46039f\"],[0.2222222222222222,\"#7201a8\"],[0.3333333333333333,\"#9c179e\"],[0.4444444444444444,\"#bd3786\"],[0.5555555555555556,\"#d8576b\"],[0.6666666666666666,\"#ed7953\"],[0.7777777777777778,\"#fb9f3a\"],[0.8888888888888888,\"#fdca26\"],[1.0,\"#f0f921\"]],\"diverging\":[[0,\"#8e0152\"],[0.1,\"#c51b7d\"],[0.2,\"#de77ae\"],[0.3,\"#f1b6da\"],[0.4,\"#fde0ef\"],[0.5,\"#f7f7f7\"],[0.6,\"#e6f5d0\"],[0.7,\"#b8e186\"],[0.8,\"#7fbc41\"],[0.9,\"#4d9221\"],[1,\"#276419\"]]},\"xaxis\":{\"gridcolor\":\"white\",\"linecolor\":\"white\",\"ticks\":\"\",\"title\":{\"standoff\":15},\"zerolinecolor\":\"white\",\"automargin\":true,\"zerolinewidth\":2},\"yaxis\":{\"gridcolor\":\"white\",\"linecolor\":\"white\",\"ticks\":\"\",\"title\":{\"standoff\":15},\"zerolinecolor\":\"white\",\"automargin\":true,\"zerolinewidth\":2},\"scene\":{\"xaxis\":{\"backgroundcolor\":\"#E5ECF6\",\"gridcolor\":\"white\",\"linecolor\":\"white\",\"showbackground\":true,\"ticks\":\"\",\"zerolinecolor\":\"white\",\"gridwidth\":2},\"yaxis\":{\"backgroundcolor\":\"#E5ECF6\",\"gridcolor\":\"white\",\"linecolor\":\"white\",\"showbackground\":true,\"ticks\":\"\",\"zerolinecolor\":\"white\",\"gridwidth\":2},\"zaxis\":{\"backgroundcolor\":\"#E5ECF6\",\"gridcolor\":\"white\",\"linecolor\":\"white\",\"showbackground\":true,\"ticks\":\"\",\"zerolinecolor\":\"white\",\"gridwidth\":2}},\"shapedefaults\":{\"line\":{\"color\":\"#2a3f5f\"}},\"annotationdefaults\":{\"arrowcolor\":\"#2a3f5f\",\"arrowhead\":0,\"arrowwidth\":1},\"geo\":{\"bgcolor\":\"white\",\"landcolor\":\"#E5ECF6\",\"subunitcolor\":\"white\",\"showland\":true,\"showlakes\":true,\"lakecolor\":\"white\"},\"title\":{\"x\":0.05},\"mapbox\":{\"style\":\"light\"}}},\"scene\":{\"domain\":{\"x\":[0.0,1.0],\"y\":[0.0,1.0]},\"xaxis\":{\"title\":{\"text\":\"x\"}},\"yaxis\":{\"title\":{\"text\":\"y\"}},\"zaxis\":{\"title\":{\"text\":\"z\"}}},\"legend\":{\"tracegroupgap\":0},\"margin\":{\"t\":60}},                        {\"responsive\": true}                    ).then(function(){\n",
       "                            \n",
       "var gd = document.getElementById('becdf9e6-d25d-4324-94ce-eb1c840f7931');\n",
       "var x = new MutationObserver(function (mutations, observer) {{\n",
       "        var display = window.getComputedStyle(gd).display;\n",
       "        if (!display || display === 'none') {{\n",
       "            console.log([gd, 'removed!']);\n",
       "            Plotly.purge(gd);\n",
       "            observer.disconnect();\n",
       "        }}\n",
       "}});\n",
       "\n",
       "// Listen for the removal of the full notebook cells\n",
       "var notebookContainer = gd.closest('#notebook-container');\n",
       "if (notebookContainer) {{\n",
       "    x.observe(notebookContainer, {childList: true});\n",
       "}}\n",
       "\n",
       "// Listen for the clearing of the current output cell\n",
       "var outputEl = gd.closest('.output');\n",
       "if (outputEl) {{\n",
       "    x.observe(outputEl, {childList: true});\n",
       "}}\n",
       "\n",
       "                        })                };                });            </script>        </div>"
      ]
     },
     "metadata": {},
     "output_type": "display_data"
    }
   ],
   "source": [
    "import plotly.graph_objects as go\n",
    "\n",
    "fig = px.scatter_3d(x=x.ravel() , y=y.ravel() , z=z.ravel())\n",
    "\n",
    "fig.add_trace(go.Surface(x=x_input , y=y_input , z = z_final))\n",
    "\n",
    "fig.show()"
   ]
  },
  {
   "cell_type": "code",
   "execution_count": 119,
   "id": "8dbe6f41-18f0-4d9e-a60f-b115f7edad84",
   "metadata": {},
   "outputs": [
    {
     "data": {
      "text/plain": [
       "(100, 2)"
      ]
     },
     "execution_count": 119,
     "metadata": {},
     "output_type": "execute_result"
    }
   ],
   "source": [
    "\n",
    "X_multi = np.array([x,y]).reshape(100,2)\n",
    "X_multi.shape"
   ]
  },
  {
   "cell_type": "code",
   "execution_count": 144,
   "id": "5006906a-3e95-45c3-887c-7755bacaf76e",
   "metadata": {},
   "outputs": [],
   "source": [
    "\n",
    "poly = PolynomialFeatures(degree=2)\n",
    "X_multi_trans = poly.fit_transform(X_multi)"
   ]
  },
  {
   "cell_type": "code",
   "execution_count": 145,
   "id": "76a9fd9e-b748-4f77-9523-b9ce6463c88a",
   "metadata": {},
   "outputs": [
    {
     "name": "stdout",
     "output_type": "stream",
     "text": [
      "Input 2\n",
      "Ouput 6\n",
      "Powers\n",
      " [[0 0]\n",
      " [1 0]\n",
      " [0 1]\n",
      " [2 0]\n",
      " [1 1]\n",
      " [0 2]]\n"
     ]
    }
   ],
   "source": [
    "print(\"Input\",poly.n_features_in_)\n",
    "print(\"Ouput\",poly.n_output_features_)\n",
    "print(\"Powers\\n\",poly.powers_)"
   ]
  },
  {
   "cell_type": "code",
   "execution_count": 146,
   "id": "3cb30a0c-3ead-48e8-8a85-3df2fca3d6b0",
   "metadata": {},
   "outputs": [
    {
     "data": {
      "text/plain": [
       "(100, 6)"
      ]
     },
     "execution_count": 146,
     "metadata": {},
     "output_type": "execute_result"
    }
   ],
   "source": [
    "X_multi_trans.shape\n"
   ]
  },
  {
   "cell_type": "code",
   "execution_count": 147,
   "id": "f4328183-b87e-4966-b7f7-40a31ba9add7",
   "metadata": {},
   "outputs": [
    {
     "data": {
      "text/html": [
       "<style>#sk-container-id-4 {\n",
       "  /* Definition of color scheme common for light and dark mode */\n",
       "  --sklearn-color-text: black;\n",
       "  --sklearn-color-line: gray;\n",
       "  /* Definition of color scheme for unfitted estimators */\n",
       "  --sklearn-color-unfitted-level-0: #fff5e6;\n",
       "  --sklearn-color-unfitted-level-1: #f6e4d2;\n",
       "  --sklearn-color-unfitted-level-2: #ffe0b3;\n",
       "  --sklearn-color-unfitted-level-3: chocolate;\n",
       "  /* Definition of color scheme for fitted estimators */\n",
       "  --sklearn-color-fitted-level-0: #f0f8ff;\n",
       "  --sklearn-color-fitted-level-1: #d4ebff;\n",
       "  --sklearn-color-fitted-level-2: #b3dbfd;\n",
       "  --sklearn-color-fitted-level-3: cornflowerblue;\n",
       "\n",
       "  /* Specific color for light theme */\n",
       "  --sklearn-color-text-on-default-background: var(--sg-text-color, var(--theme-code-foreground, var(--jp-content-font-color1, black)));\n",
       "  --sklearn-color-background: var(--sg-background-color, var(--theme-background, var(--jp-layout-color0, white)));\n",
       "  --sklearn-color-border-box: var(--sg-text-color, var(--theme-code-foreground, var(--jp-content-font-color1, black)));\n",
       "  --sklearn-color-icon: #696969;\n",
       "\n",
       "  @media (prefers-color-scheme: dark) {\n",
       "    /* Redefinition of color scheme for dark theme */\n",
       "    --sklearn-color-text-on-default-background: var(--sg-text-color, var(--theme-code-foreground, var(--jp-content-font-color1, white)));\n",
       "    --sklearn-color-background: var(--sg-background-color, var(--theme-background, var(--jp-layout-color0, #111)));\n",
       "    --sklearn-color-border-box: var(--sg-text-color, var(--theme-code-foreground, var(--jp-content-font-color1, white)));\n",
       "    --sklearn-color-icon: #878787;\n",
       "  }\n",
       "}\n",
       "\n",
       "#sk-container-id-4 {\n",
       "  color: var(--sklearn-color-text);\n",
       "}\n",
       "\n",
       "#sk-container-id-4 pre {\n",
       "  padding: 0;\n",
       "}\n",
       "\n",
       "#sk-container-id-4 input.sk-hidden--visually {\n",
       "  border: 0;\n",
       "  clip: rect(1px 1px 1px 1px);\n",
       "  clip: rect(1px, 1px, 1px, 1px);\n",
       "  height: 1px;\n",
       "  margin: -1px;\n",
       "  overflow: hidden;\n",
       "  padding: 0;\n",
       "  position: absolute;\n",
       "  width: 1px;\n",
       "}\n",
       "\n",
       "#sk-container-id-4 div.sk-dashed-wrapped {\n",
       "  border: 1px dashed var(--sklearn-color-line);\n",
       "  margin: 0 0.4em 0.5em 0.4em;\n",
       "  box-sizing: border-box;\n",
       "  padding-bottom: 0.4em;\n",
       "  background-color: var(--sklearn-color-background);\n",
       "}\n",
       "\n",
       "#sk-container-id-4 div.sk-container {\n",
       "  /* jupyter's `normalize.less` sets `[hidden] { display: none; }`\n",
       "     but bootstrap.min.css set `[hidden] { display: none !important; }`\n",
       "     so we also need the `!important` here to be able to override the\n",
       "     default hidden behavior on the sphinx rendered scikit-learn.org.\n",
       "     See: https://github.com/scikit-learn/scikit-learn/issues/21755 */\n",
       "  display: inline-block !important;\n",
       "  position: relative;\n",
       "}\n",
       "\n",
       "#sk-container-id-4 div.sk-text-repr-fallback {\n",
       "  display: none;\n",
       "}\n",
       "\n",
       "div.sk-parallel-item,\n",
       "div.sk-serial,\n",
       "div.sk-item {\n",
       "  /* draw centered vertical line to link estimators */\n",
       "  background-image: linear-gradient(var(--sklearn-color-text-on-default-background), var(--sklearn-color-text-on-default-background));\n",
       "  background-size: 2px 100%;\n",
       "  background-repeat: no-repeat;\n",
       "  background-position: center center;\n",
       "}\n",
       "\n",
       "/* Parallel-specific style estimator block */\n",
       "\n",
       "#sk-container-id-4 div.sk-parallel-item::after {\n",
       "  content: \"\";\n",
       "  width: 100%;\n",
       "  border-bottom: 2px solid var(--sklearn-color-text-on-default-background);\n",
       "  flex-grow: 1;\n",
       "}\n",
       "\n",
       "#sk-container-id-4 div.sk-parallel {\n",
       "  display: flex;\n",
       "  align-items: stretch;\n",
       "  justify-content: center;\n",
       "  background-color: var(--sklearn-color-background);\n",
       "  position: relative;\n",
       "}\n",
       "\n",
       "#sk-container-id-4 div.sk-parallel-item {\n",
       "  display: flex;\n",
       "  flex-direction: column;\n",
       "}\n",
       "\n",
       "#sk-container-id-4 div.sk-parallel-item:first-child::after {\n",
       "  align-self: flex-end;\n",
       "  width: 50%;\n",
       "}\n",
       "\n",
       "#sk-container-id-4 div.sk-parallel-item:last-child::after {\n",
       "  align-self: flex-start;\n",
       "  width: 50%;\n",
       "}\n",
       "\n",
       "#sk-container-id-4 div.sk-parallel-item:only-child::after {\n",
       "  width: 0;\n",
       "}\n",
       "\n",
       "/* Serial-specific style estimator block */\n",
       "\n",
       "#sk-container-id-4 div.sk-serial {\n",
       "  display: flex;\n",
       "  flex-direction: column;\n",
       "  align-items: center;\n",
       "  background-color: var(--sklearn-color-background);\n",
       "  padding-right: 1em;\n",
       "  padding-left: 1em;\n",
       "}\n",
       "\n",
       "\n",
       "/* Toggleable style: style used for estimator/Pipeline/ColumnTransformer box that is\n",
       "clickable and can be expanded/collapsed.\n",
       "- Pipeline and ColumnTransformer use this feature and define the default style\n",
       "- Estimators will overwrite some part of the style using the `sk-estimator` class\n",
       "*/\n",
       "\n",
       "/* Pipeline and ColumnTransformer style (default) */\n",
       "\n",
       "#sk-container-id-4 div.sk-toggleable {\n",
       "  /* Default theme specific background. It is overwritten whether we have a\n",
       "  specific estimator or a Pipeline/ColumnTransformer */\n",
       "  background-color: var(--sklearn-color-background);\n",
       "}\n",
       "\n",
       "/* Toggleable label */\n",
       "#sk-container-id-4 label.sk-toggleable__label {\n",
       "  cursor: pointer;\n",
       "  display: block;\n",
       "  width: 100%;\n",
       "  margin-bottom: 0;\n",
       "  padding: 0.5em;\n",
       "  box-sizing: border-box;\n",
       "  text-align: center;\n",
       "}\n",
       "\n",
       "#sk-container-id-4 label.sk-toggleable__label-arrow:before {\n",
       "  /* Arrow on the left of the label */\n",
       "  content: \"▸\";\n",
       "  float: left;\n",
       "  margin-right: 0.25em;\n",
       "  color: var(--sklearn-color-icon);\n",
       "}\n",
       "\n",
       "#sk-container-id-4 label.sk-toggleable__label-arrow:hover:before {\n",
       "  color: var(--sklearn-color-text);\n",
       "}\n",
       "\n",
       "/* Toggleable content - dropdown */\n",
       "\n",
       "#sk-container-id-4 div.sk-toggleable__content {\n",
       "  max-height: 0;\n",
       "  max-width: 0;\n",
       "  overflow: hidden;\n",
       "  text-align: left;\n",
       "  /* unfitted */\n",
       "  background-color: var(--sklearn-color-unfitted-level-0);\n",
       "}\n",
       "\n",
       "#sk-container-id-4 div.sk-toggleable__content.fitted {\n",
       "  /* fitted */\n",
       "  background-color: var(--sklearn-color-fitted-level-0);\n",
       "}\n",
       "\n",
       "#sk-container-id-4 div.sk-toggleable__content pre {\n",
       "  margin: 0.2em;\n",
       "  border-radius: 0.25em;\n",
       "  color: var(--sklearn-color-text);\n",
       "  /* unfitted */\n",
       "  background-color: var(--sklearn-color-unfitted-level-0);\n",
       "}\n",
       "\n",
       "#sk-container-id-4 div.sk-toggleable__content.fitted pre {\n",
       "  /* unfitted */\n",
       "  background-color: var(--sklearn-color-fitted-level-0);\n",
       "}\n",
       "\n",
       "#sk-container-id-4 input.sk-toggleable__control:checked~div.sk-toggleable__content {\n",
       "  /* Expand drop-down */\n",
       "  max-height: 200px;\n",
       "  max-width: 100%;\n",
       "  overflow: auto;\n",
       "}\n",
       "\n",
       "#sk-container-id-4 input.sk-toggleable__control:checked~label.sk-toggleable__label-arrow:before {\n",
       "  content: \"▾\";\n",
       "}\n",
       "\n",
       "/* Pipeline/ColumnTransformer-specific style */\n",
       "\n",
       "#sk-container-id-4 div.sk-label input.sk-toggleable__control:checked~label.sk-toggleable__label {\n",
       "  color: var(--sklearn-color-text);\n",
       "  background-color: var(--sklearn-color-unfitted-level-2);\n",
       "}\n",
       "\n",
       "#sk-container-id-4 div.sk-label.fitted input.sk-toggleable__control:checked~label.sk-toggleable__label {\n",
       "  background-color: var(--sklearn-color-fitted-level-2);\n",
       "}\n",
       "\n",
       "/* Estimator-specific style */\n",
       "\n",
       "/* Colorize estimator box */\n",
       "#sk-container-id-4 div.sk-estimator input.sk-toggleable__control:checked~label.sk-toggleable__label {\n",
       "  /* unfitted */\n",
       "  background-color: var(--sklearn-color-unfitted-level-2);\n",
       "}\n",
       "\n",
       "#sk-container-id-4 div.sk-estimator.fitted input.sk-toggleable__control:checked~label.sk-toggleable__label {\n",
       "  /* fitted */\n",
       "  background-color: var(--sklearn-color-fitted-level-2);\n",
       "}\n",
       "\n",
       "#sk-container-id-4 div.sk-label label.sk-toggleable__label,\n",
       "#sk-container-id-4 div.sk-label label {\n",
       "  /* The background is the default theme color */\n",
       "  color: var(--sklearn-color-text-on-default-background);\n",
       "}\n",
       "\n",
       "/* On hover, darken the color of the background */\n",
       "#sk-container-id-4 div.sk-label:hover label.sk-toggleable__label {\n",
       "  color: var(--sklearn-color-text);\n",
       "  background-color: var(--sklearn-color-unfitted-level-2);\n",
       "}\n",
       "\n",
       "/* Label box, darken color on hover, fitted */\n",
       "#sk-container-id-4 div.sk-label.fitted:hover label.sk-toggleable__label.fitted {\n",
       "  color: var(--sklearn-color-text);\n",
       "  background-color: var(--sklearn-color-fitted-level-2);\n",
       "}\n",
       "\n",
       "/* Estimator label */\n",
       "\n",
       "#sk-container-id-4 div.sk-label label {\n",
       "  font-family: monospace;\n",
       "  font-weight: bold;\n",
       "  display: inline-block;\n",
       "  line-height: 1.2em;\n",
       "}\n",
       "\n",
       "#sk-container-id-4 div.sk-label-container {\n",
       "  text-align: center;\n",
       "}\n",
       "\n",
       "/* Estimator-specific */\n",
       "#sk-container-id-4 div.sk-estimator {\n",
       "  font-family: monospace;\n",
       "  border: 1px dotted var(--sklearn-color-border-box);\n",
       "  border-radius: 0.25em;\n",
       "  box-sizing: border-box;\n",
       "  margin-bottom: 0.5em;\n",
       "  /* unfitted */\n",
       "  background-color: var(--sklearn-color-unfitted-level-0);\n",
       "}\n",
       "\n",
       "#sk-container-id-4 div.sk-estimator.fitted {\n",
       "  /* fitted */\n",
       "  background-color: var(--sklearn-color-fitted-level-0);\n",
       "}\n",
       "\n",
       "/* on hover */\n",
       "#sk-container-id-4 div.sk-estimator:hover {\n",
       "  /* unfitted */\n",
       "  background-color: var(--sklearn-color-unfitted-level-2);\n",
       "}\n",
       "\n",
       "#sk-container-id-4 div.sk-estimator.fitted:hover {\n",
       "  /* fitted */\n",
       "  background-color: var(--sklearn-color-fitted-level-2);\n",
       "}\n",
       "\n",
       "/* Specification for estimator info (e.g. \"i\" and \"?\") */\n",
       "\n",
       "/* Common style for \"i\" and \"?\" */\n",
       "\n",
       ".sk-estimator-doc-link,\n",
       "a:link.sk-estimator-doc-link,\n",
       "a:visited.sk-estimator-doc-link {\n",
       "  float: right;\n",
       "  font-size: smaller;\n",
       "  line-height: 1em;\n",
       "  font-family: monospace;\n",
       "  background-color: var(--sklearn-color-background);\n",
       "  border-radius: 1em;\n",
       "  height: 1em;\n",
       "  width: 1em;\n",
       "  text-decoration: none !important;\n",
       "  margin-left: 1ex;\n",
       "  /* unfitted */\n",
       "  border: var(--sklearn-color-unfitted-level-1) 1pt solid;\n",
       "  color: var(--sklearn-color-unfitted-level-1);\n",
       "}\n",
       "\n",
       ".sk-estimator-doc-link.fitted,\n",
       "a:link.sk-estimator-doc-link.fitted,\n",
       "a:visited.sk-estimator-doc-link.fitted {\n",
       "  /* fitted */\n",
       "  border: var(--sklearn-color-fitted-level-1) 1pt solid;\n",
       "  color: var(--sklearn-color-fitted-level-1);\n",
       "}\n",
       "\n",
       "/* On hover */\n",
       "div.sk-estimator:hover .sk-estimator-doc-link:hover,\n",
       ".sk-estimator-doc-link:hover,\n",
       "div.sk-label-container:hover .sk-estimator-doc-link:hover,\n",
       ".sk-estimator-doc-link:hover {\n",
       "  /* unfitted */\n",
       "  background-color: var(--sklearn-color-unfitted-level-3);\n",
       "  color: var(--sklearn-color-background);\n",
       "  text-decoration: none;\n",
       "}\n",
       "\n",
       "div.sk-estimator.fitted:hover .sk-estimator-doc-link.fitted:hover,\n",
       ".sk-estimator-doc-link.fitted:hover,\n",
       "div.sk-label-container:hover .sk-estimator-doc-link.fitted:hover,\n",
       ".sk-estimator-doc-link.fitted:hover {\n",
       "  /* fitted */\n",
       "  background-color: var(--sklearn-color-fitted-level-3);\n",
       "  color: var(--sklearn-color-background);\n",
       "  text-decoration: none;\n",
       "}\n",
       "\n",
       "/* Span, style for the box shown on hovering the info icon */\n",
       ".sk-estimator-doc-link span {\n",
       "  display: none;\n",
       "  z-index: 9999;\n",
       "  position: relative;\n",
       "  font-weight: normal;\n",
       "  right: .2ex;\n",
       "  padding: .5ex;\n",
       "  margin: .5ex;\n",
       "  width: min-content;\n",
       "  min-width: 20ex;\n",
       "  max-width: 50ex;\n",
       "  color: var(--sklearn-color-text);\n",
       "  box-shadow: 2pt 2pt 4pt #999;\n",
       "  /* unfitted */\n",
       "  background: var(--sklearn-color-unfitted-level-0);\n",
       "  border: .5pt solid var(--sklearn-color-unfitted-level-3);\n",
       "}\n",
       "\n",
       ".sk-estimator-doc-link.fitted span {\n",
       "  /* fitted */\n",
       "  background: var(--sklearn-color-fitted-level-0);\n",
       "  border: var(--sklearn-color-fitted-level-3);\n",
       "}\n",
       "\n",
       ".sk-estimator-doc-link:hover span {\n",
       "  display: block;\n",
       "}\n",
       "\n",
       "/* \"?\"-specific style due to the `<a>` HTML tag */\n",
       "\n",
       "#sk-container-id-4 a.estimator_doc_link {\n",
       "  float: right;\n",
       "  font-size: 1rem;\n",
       "  line-height: 1em;\n",
       "  font-family: monospace;\n",
       "  background-color: var(--sklearn-color-background);\n",
       "  border-radius: 1rem;\n",
       "  height: 1rem;\n",
       "  width: 1rem;\n",
       "  text-decoration: none;\n",
       "  /* unfitted */\n",
       "  color: var(--sklearn-color-unfitted-level-1);\n",
       "  border: var(--sklearn-color-unfitted-level-1) 1pt solid;\n",
       "}\n",
       "\n",
       "#sk-container-id-4 a.estimator_doc_link.fitted {\n",
       "  /* fitted */\n",
       "  border: var(--sklearn-color-fitted-level-1) 1pt solid;\n",
       "  color: var(--sklearn-color-fitted-level-1);\n",
       "}\n",
       "\n",
       "/* On hover */\n",
       "#sk-container-id-4 a.estimator_doc_link:hover {\n",
       "  /* unfitted */\n",
       "  background-color: var(--sklearn-color-unfitted-level-3);\n",
       "  color: var(--sklearn-color-background);\n",
       "  text-decoration: none;\n",
       "}\n",
       "\n",
       "#sk-container-id-4 a.estimator_doc_link.fitted:hover {\n",
       "  /* fitted */\n",
       "  background-color: var(--sklearn-color-fitted-level-3);\n",
       "}\n",
       "</style><div id=\"sk-container-id-4\" class=\"sk-top-container\"><div class=\"sk-text-repr-fallback\"><pre>LinearRegression()</pre><b>In a Jupyter environment, please rerun this cell to show the HTML representation or trust the notebook. <br />On GitHub, the HTML representation is unable to render, please try loading this page with nbviewer.org.</b></div><div class=\"sk-container\" hidden><div class=\"sk-item\"><div class=\"sk-estimator fitted sk-toggleable\"><input class=\"sk-toggleable__control sk-hidden--visually\" id=\"sk-estimator-id-4\" type=\"checkbox\" checked><label for=\"sk-estimator-id-4\" class=\"sk-toggleable__label fitted sk-toggleable__label-arrow fitted\">&nbsp;&nbsp;LinearRegression<a class=\"sk-estimator-doc-link fitted\" rel=\"noreferrer\" target=\"_blank\" href=\"https://scikit-learn.org/1.5/modules/generated/sklearn.linear_model.LinearRegression.html\">?<span>Documentation for LinearRegression</span></a><span class=\"sk-estimator-doc-link fitted\">i<span>Fitted</span></span></label><div class=\"sk-toggleable__content fitted\"><pre>LinearRegression()</pre></div> </div></div></div></div>"
      ],
      "text/plain": [
       "LinearRegression()"
      ]
     },
     "execution_count": 147,
     "metadata": {},
     "output_type": "execute_result"
    }
   ],
   "source": [
    "\n",
    "lr = LinearRegression()\n",
    "lr.fit(X_multi_trans,z)"
   ]
  },
  {
   "cell_type": "code",
   "execution_count": 148,
   "id": "01be956c-3e62-44bc-9bd3-ca21d6aa42e0",
   "metadata": {},
   "outputs": [],
   "source": [
    "\n",
    "X_test_multi = poly.transform(final)"
   ]
  },
  {
   "cell_type": "code",
   "execution_count": 149,
   "id": "08b8e188-34ec-4015-854b-be485bec6d2c",
   "metadata": {},
   "outputs": [],
   "source": [
    "z_final = lr.predict(X_multi_trans).reshape(10,10)\n"
   ]
  },
  {
   "cell_type": "code",
   "execution_count": 150,
   "id": "86cef244-70ba-42f5-b611-680ca5a9bd4b",
   "metadata": {},
   "outputs": [
    {
     "data": {
      "application/vnd.plotly.v1+json": {
       "config": {
        "plotlyServerURL": "https://plot.ly"
       },
       "data": [
        {
         "hovertemplate": "x=%{x}<br>y=%{y}<br>z=%{z}<extra></extra>",
         "legendgroup": "",
         "marker": {
          "color": "#636efa",
          "symbol": "circle"
         },
         "mode": "markers",
         "name": "",
         "scene": "scene",
         "showlegend": false,
         "type": "scatter3d",
         "x": [
          1.7759838478524799,
          -0.6643070644523568,
          -0.8943889404629672,
          -1.3244650159014386,
          -1.1982345875692322,
          0.40512970814047433,
          -0.5901012638862797,
          -1.1128306916021415,
          -0.8826561077218846,
          -0.8930202128537306,
          2.575581994345862,
          3.3108451229572173,
          1.5725542364772291,
          2.7131021545822174,
          3.825796355559138,
          -0.5950398360102227,
          0.14441655944650345,
          1.8088987126498912,
          3.4437509195864946,
          -2.414736652841502,
          1.3052701565711367,
          0.3278908792619215,
          1.566295285939213,
          2.1566778287154857,
          2.240367882287539,
          -1.1698534842039932,
          2.9313065631734867,
          -0.7075804810369384,
          -2.7810812379847683,
          0.23657436140349386,
          -0.6975537027034395,
          -1.0756536151428147,
          -0.25993805142913873,
          3.875257652756458,
          -1.7233592973043237,
          -0.1713029556914627,
          -0.8227895262014795,
          1.1459802268526462,
          3.4869992411390145,
          3.6210923416664746,
          -1.5580909255230369,
          -0.24659506388480645,
          1.6525786530758326,
          2.5069994896461028,
          3.24224901769655,
          -1.7784840859473494,
          3.992375753057946,
          -0.06062488085611539,
          -2.497464598252084,
          0.133910551783202,
          1.0873014352545827,
          -2.663891760851049,
          -1.3136216764929025,
          -0.04990198646727917,
          1.7949321750564406,
          -1.2614677412132145,
          3.037168808863389,
          3.7912159915952452,
          -0.1648223163757323,
          0.19280755373494562,
          -1.8590552762646366,
          -1.0527124760720794,
          0.3227245448454843,
          2.26748288103572,
          -2.3191745124326526,
          -0.43884898969731356,
          2.296042304408134,
          2.7390850878976725,
          1.1944186547676479,
          3.1436717997556505,
          -0.5612784860271729,
          -0.8995987139012822,
          2.7611944873027783,
          1.1741412978667443,
          -2.023498963605344,
          -2.4802285212159734,
          -0.4158736471280764,
          -1.2187628368210797,
          3.9318823898862147,
          0.5002974831704199,
          -2.4296186157574273,
          2.2589715344694854,
          1.3703994988274726,
          0.11022221356419504,
          1.5596372306276614,
          3.486211171213518,
          0.202833211930721,
          2.304821751923555,
          -2.467945190713505,
          1.6763380328075295,
          -1.7310192121755634,
          -0.5450642737824518,
          2.48121499004324,
          2.493197007257926,
          2.9647617073498633,
          2.8666906760344517,
          -0.5228319265370724,
          2.253161094276127,
          2.6365525956515112,
          -2.4339762529265108
         ],
         "y": [
          0.0011903276545517372,
          4.041124319040626,
          2.9931685038091507,
          -1.1604722668447354,
          1.7067546739820054,
          -0.19419623154499943,
          0.34581350402831923,
          3.008101891621803,
          0.5455198728677368,
          2.3063382314610674,
          4.190331411751092,
          -0.17741330672497524,
          -0.95660756386089,
          -1.9870896739075308,
          0.5096140714037065,
          0.1570908301184346,
          -0.21004608151676152,
          -0.8089916452139732,
          -1.8682919724650962,
          2.047684589443252,
          4.155024798431035,
          0.6374997131713567,
          0.09185414370085887,
          -0.7441617090414265,
          -0.029768180379406317,
          -0.5948102753116595,
          3.956558705495212,
          -2.490601577529289,
          -1.0942985356686594,
          3.828501996102384,
          -0.9617762029934114,
          1.2426078985463578,
          2.9137694016060705,
          1.2437892176177145,
          -2.6789749623446872,
          2.074544946073936,
          4.029953574148798,
          3.7960738911448555,
          -2.6823604963656087,
          -2.407131898703912,
          3.294662345552088,
          -1.446462848203781,
          -1.4771040889409028,
          3.9157788551902417,
          2.9745618681127315,
          -1.7667153851200696,
          0.6172243783346536,
          1.3832699816281755,
          -1.0281981248267416,
          0.7985266353736367,
          -0.9444861085942748,
          2.5025693395480095,
          3.353100351004068,
          -0.49414410200901404,
          0.14594053635764803,
          0.7340259712743724,
          -0.6469660370349577,
          -0.28110099623807017,
          -1.597623993452715,
          -0.5702485393536865,
          -1.6143063462602372,
          0.9519137030919111,
          -1.3119716716748973,
          2.4103874564798904,
          1.8013880075935305,
          2.6694064356416884,
          4.005794937991742,
          -1.4307927708533938,
          4.014109089997649,
          0.6429420398506709,
          -1.05837633633086,
          -2.0872151793963525,
          -2.1062687270264258,
          3.825090424150998,
          3.1550213325781726,
          0.23886040110619078,
          2.090816216994015,
          3.259494145301842,
          2.099715356570349,
          3.8045961821928866,
          4.0921419895288755,
          1.6628491817534368,
          -0.0070147035865213425,
          -1.6694644608688014,
          2.055644324621891,
          0.2039567724260678,
          2.9106277397430915,
          2.179301760019925,
          -1.2311244844161537,
          -0.3053319040045066,
          0.29328401310629015,
          -0.6181886870389741,
          0.5472532621777892,
          -1.9522381285492978,
          0.5792201801180332,
          -1.969628214659358,
          0.8931834817256776,
          -0.09313157230293223,
          1.7242825057520266,
          -0.7205277973173523
         ],
         "z": [
          5.717251792581864,
          19.400423866610666,
          12.212891330859847,
          7.17022014721168,
          5.901083161519973,
          2.194541626562697,
          2.581934527367179,
          11.593601196839654,
          2.0945962916070777,
          9.233240322151614,
          28.919723258327668,
          13.691349824910159,
          7.518199460210649,
          12.76495327012748,
          15.822611709819132,
          1.1284450778485935,
          2.9845397591072214,
          4.695022699636496,
          16.836530011898514,
          10.559566817378947,
          22.230811849959323,
          2.3548105770110346,
          5.53032165537476,
          5.720132355402473,
          7.054056029287075,
          3.334267789874726,
          29.59845779146631,
          7.534807267088996,
          12.219885627871923,
          17.686250259017424,
          2.010211772745796,
          4.0947628098944815,
          12.837214889543446,
          17.65505139747013,
          11.614514556511677,
          8.017604012039717,
          18.302674128735262,
          19.37877170706709,
          22.209257325204117,
          19.759896893145037,
          15.674944063218527,
          3.3850704774395375,
          5.847460978168039,
          24.523797511989823,
          22.866358613362447,
          6.659288551077487,
          19.73988516417921,
          3.7687087425360075,
          7.31365261814317,
          4.177684528675654,
          4.553442265003619,
          15.764654587558406,
          14.561138764092606,
          3.052222084339814,
          5.455443326481783,
          2.0253510172945264,
          11.116843692800373,
          16.235326653196033,
          5.683352224515344,
          1.6230333400414867,
          7.3827743517101405,
          2.2887295159699317,
          4.372890688100612,
          14.158005006099671,
          9.458667493155644,
          9.483891844837629,
          25.45732522390841,
          11.42419917946045,
          21.025125939211776,
          12.666764244985867,
          3.037222003762817,
          6.420064939538927,
          14.87527497668556,
          19.586621061422285,
          15.553804547254373,
          6.729546093423986,
          6.0763115635726805,
          16.193926738446837,
          23.4158551479496,
          18.44556495871694,
          24.470348124630842,
          9.82078160476554,
          3.2739627622745413,
          4.895600776656105,
          9.867694243696596,
          13.739966974217303,
          12.689356188712166,
          13.152230402011467,
          9.294805712495577,
          5.757516813566844,
          5.026856060119637,
          2.2030622710344323,
          8.697671220075595,
          11.972523254330076,
          11.307264661142211,
          14.474899918405427,
          1.2330513214556025,
          9.593087671415331,
          12.297301643648906,
          6.7532971933176364
         ]
        },
        {
         "type": "surface",
         "x": [
          -2.7810812379847683,
          -2.028474905646689,
          -1.2758685733086095,
          -0.5232622409705301,
          0.2293440913675493,
          0.9819504237056287,
          1.734556756043708,
          2.487163088381788,
          3.239769420719867,
          3.992375753057946
         ],
         "y": [
          -2.6823604963656087,
          -1.9187280621304197,
          -1.1550956278952307,
          -0.3914631936600417,
          0.37216924057514733,
          1.1358016748103363,
          1.8994341090455253,
          2.663066543280714,
          3.4266989775159034,
          4.190331411751092
         ],
         "z": [
          [
           10.083946304131736,
           11.487097077416673,
           13.153668841800684,
           11.34266920135374,
           12.052910872755744,
           9.463051652272524,
           9.802542683249635,
           10.769103966097205,
           11.050433024000842,
           5.558221599513744
          ],
          [
           11.194832789151809,
           10.597647302124873,
           9.080709952407517,
           10.072612167835473,
           15.950246373109337,
           11.549023271317752,
           6.626461145000414,
           13.926054512987621,
           12.372889454414889,
           10.025204927078846
          ],
          [
           13.620408694541204,
           10.16727533958333,
           7.593224374644382,
           11.829688240217221,
           15.38991166154513,
           5.675801979972564,
           13.294710929944916,
           8.98629252284069,
           8.974790688711403,
           11.965657315166982
          ],
          [
           13.582129604487733,
           10.36933286028588,
           14.96789083012771,
           10.22426872974245,
           8.803059804781775,
           11.586026730213826,
           11.760341656433312,
           11.467793363626985,
           10.942328399609933,
           12.44742949050736
          ],
          [
           12.746428788114276,
           11.048478605045451,
           8.200486904331335,
           10.33851401127966,
           13.921840286857519,
           13.770905742124414,
           10.725969452970325,
           10.685641490198279,
           10.743090953778843,
           5.511143167444332
          ],
          [
           6.075132236757987,
           9.151506494241243,
           10.713923766191398,
           8.952730290812767,
           10.273543494748187,
           11.84421238359182,
           10.358528097689378,
           11.435634262242793,
           11.254098995529358,
           12.390943604733085
          ],
          [
           12.822816947744554,
           11.004200960094781,
           11.300550052342219,
           5.4208085546069125,
           7.045454026253175,
           12.436038749684375,
           11.87048516026043,
           13.532476796118667,
           10.583849153765854,
           13.310504327599594
          ],
          [
           8.53161623636094,
           6.9730411626407545,
           7.58549978026633,
           11.277189242653325,
           12.814095096615882,
           10.554967511528517,
           10.642439391064253,
           11.759115878004202,
           12.27211575896796,
           13.515644434978118
          ],
          [
           13.481381162101993,
           11.057828313082538,
           9.993124899848814,
           8.919324512181216,
           12.663214070233018,
           10.323362587572563,
           7.820348267595744,
           11.532248981791144,
           9.105742052649196,
           7.832538543381252
          ],
          [
           13.117969354837006,
           9.581139791989857,
           11.083879990995632,
           11.454942282921344,
           13.070955882856776,
           10.963157098560405,
           8.283731743326438,
           8.206064957314114,
           11.063908245413085,
           10.007775063696572
          ]
         ]
        }
       ],
       "layout": {
        "legend": {
         "tracegroupgap": 0
        },
        "margin": {
         "t": 60
        },
        "scene": {
         "domain": {
          "x": [
           0,
           1
          ],
          "y": [
           0,
           1
          ]
         },
         "xaxis": {
          "title": {
           "text": "x"
          }
         },
         "yaxis": {
          "title": {
           "text": "y"
          }
         },
         "zaxis": {
          "range": [
           0,
           35
          ],
          "title": {
           "text": "z"
          }
         }
        },
        "template": {
         "data": {
          "bar": [
           {
            "error_x": {
             "color": "#2a3f5f"
            },
            "error_y": {
             "color": "#2a3f5f"
            },
            "marker": {
             "line": {
              "color": "#E5ECF6",
              "width": 0.5
             },
             "pattern": {
              "fillmode": "overlay",
              "size": 10,
              "solidity": 0.2
             }
            },
            "type": "bar"
           }
          ],
          "barpolar": [
           {
            "marker": {
             "line": {
              "color": "#E5ECF6",
              "width": 0.5
             },
             "pattern": {
              "fillmode": "overlay",
              "size": 10,
              "solidity": 0.2
             }
            },
            "type": "barpolar"
           }
          ],
          "carpet": [
           {
            "aaxis": {
             "endlinecolor": "#2a3f5f",
             "gridcolor": "white",
             "linecolor": "white",
             "minorgridcolor": "white",
             "startlinecolor": "#2a3f5f"
            },
            "baxis": {
             "endlinecolor": "#2a3f5f",
             "gridcolor": "white",
             "linecolor": "white",
             "minorgridcolor": "white",
             "startlinecolor": "#2a3f5f"
            },
            "type": "carpet"
           }
          ],
          "choropleth": [
           {
            "colorbar": {
             "outlinewidth": 0,
             "ticks": ""
            },
            "type": "choropleth"
           }
          ],
          "contour": [
           {
            "colorbar": {
             "outlinewidth": 0,
             "ticks": ""
            },
            "colorscale": [
             [
              0,
              "#0d0887"
             ],
             [
              0.1111111111111111,
              "#46039f"
             ],
             [
              0.2222222222222222,
              "#7201a8"
             ],
             [
              0.3333333333333333,
              "#9c179e"
             ],
             [
              0.4444444444444444,
              "#bd3786"
             ],
             [
              0.5555555555555556,
              "#d8576b"
             ],
             [
              0.6666666666666666,
              "#ed7953"
             ],
             [
              0.7777777777777778,
              "#fb9f3a"
             ],
             [
              0.8888888888888888,
              "#fdca26"
             ],
             [
              1,
              "#f0f921"
             ]
            ],
            "type": "contour"
           }
          ],
          "contourcarpet": [
           {
            "colorbar": {
             "outlinewidth": 0,
             "ticks": ""
            },
            "type": "contourcarpet"
           }
          ],
          "heatmap": [
           {
            "colorbar": {
             "outlinewidth": 0,
             "ticks": ""
            },
            "colorscale": [
             [
              0,
              "#0d0887"
             ],
             [
              0.1111111111111111,
              "#46039f"
             ],
             [
              0.2222222222222222,
              "#7201a8"
             ],
             [
              0.3333333333333333,
              "#9c179e"
             ],
             [
              0.4444444444444444,
              "#bd3786"
             ],
             [
              0.5555555555555556,
              "#d8576b"
             ],
             [
              0.6666666666666666,
              "#ed7953"
             ],
             [
              0.7777777777777778,
              "#fb9f3a"
             ],
             [
              0.8888888888888888,
              "#fdca26"
             ],
             [
              1,
              "#f0f921"
             ]
            ],
            "type": "heatmap"
           }
          ],
          "heatmapgl": [
           {
            "colorbar": {
             "outlinewidth": 0,
             "ticks": ""
            },
            "colorscale": [
             [
              0,
              "#0d0887"
             ],
             [
              0.1111111111111111,
              "#46039f"
             ],
             [
              0.2222222222222222,
              "#7201a8"
             ],
             [
              0.3333333333333333,
              "#9c179e"
             ],
             [
              0.4444444444444444,
              "#bd3786"
             ],
             [
              0.5555555555555556,
              "#d8576b"
             ],
             [
              0.6666666666666666,
              "#ed7953"
             ],
             [
              0.7777777777777778,
              "#fb9f3a"
             ],
             [
              0.8888888888888888,
              "#fdca26"
             ],
             [
              1,
              "#f0f921"
             ]
            ],
            "type": "heatmapgl"
           }
          ],
          "histogram": [
           {
            "marker": {
             "pattern": {
              "fillmode": "overlay",
              "size": 10,
              "solidity": 0.2
             }
            },
            "type": "histogram"
           }
          ],
          "histogram2d": [
           {
            "colorbar": {
             "outlinewidth": 0,
             "ticks": ""
            },
            "colorscale": [
             [
              0,
              "#0d0887"
             ],
             [
              0.1111111111111111,
              "#46039f"
             ],
             [
              0.2222222222222222,
              "#7201a8"
             ],
             [
              0.3333333333333333,
              "#9c179e"
             ],
             [
              0.4444444444444444,
              "#bd3786"
             ],
             [
              0.5555555555555556,
              "#d8576b"
             ],
             [
              0.6666666666666666,
              "#ed7953"
             ],
             [
              0.7777777777777778,
              "#fb9f3a"
             ],
             [
              0.8888888888888888,
              "#fdca26"
             ],
             [
              1,
              "#f0f921"
             ]
            ],
            "type": "histogram2d"
           }
          ],
          "histogram2dcontour": [
           {
            "colorbar": {
             "outlinewidth": 0,
             "ticks": ""
            },
            "colorscale": [
             [
              0,
              "#0d0887"
             ],
             [
              0.1111111111111111,
              "#46039f"
             ],
             [
              0.2222222222222222,
              "#7201a8"
             ],
             [
              0.3333333333333333,
              "#9c179e"
             ],
             [
              0.4444444444444444,
              "#bd3786"
             ],
             [
              0.5555555555555556,
              "#d8576b"
             ],
             [
              0.6666666666666666,
              "#ed7953"
             ],
             [
              0.7777777777777778,
              "#fb9f3a"
             ],
             [
              0.8888888888888888,
              "#fdca26"
             ],
             [
              1,
              "#f0f921"
             ]
            ],
            "type": "histogram2dcontour"
           }
          ],
          "mesh3d": [
           {
            "colorbar": {
             "outlinewidth": 0,
             "ticks": ""
            },
            "type": "mesh3d"
           }
          ],
          "parcoords": [
           {
            "line": {
             "colorbar": {
              "outlinewidth": 0,
              "ticks": ""
             }
            },
            "type": "parcoords"
           }
          ],
          "pie": [
           {
            "automargin": true,
            "type": "pie"
           }
          ],
          "scatter": [
           {
            "fillpattern": {
             "fillmode": "overlay",
             "size": 10,
             "solidity": 0.2
            },
            "type": "scatter"
           }
          ],
          "scatter3d": [
           {
            "line": {
             "colorbar": {
              "outlinewidth": 0,
              "ticks": ""
             }
            },
            "marker": {
             "colorbar": {
              "outlinewidth": 0,
              "ticks": ""
             }
            },
            "type": "scatter3d"
           }
          ],
          "scattercarpet": [
           {
            "marker": {
             "colorbar": {
              "outlinewidth": 0,
              "ticks": ""
             }
            },
            "type": "scattercarpet"
           }
          ],
          "scattergeo": [
           {
            "marker": {
             "colorbar": {
              "outlinewidth": 0,
              "ticks": ""
             }
            },
            "type": "scattergeo"
           }
          ],
          "scattergl": [
           {
            "marker": {
             "colorbar": {
              "outlinewidth": 0,
              "ticks": ""
             }
            },
            "type": "scattergl"
           }
          ],
          "scattermapbox": [
           {
            "marker": {
             "colorbar": {
              "outlinewidth": 0,
              "ticks": ""
             }
            },
            "type": "scattermapbox"
           }
          ],
          "scatterpolar": [
           {
            "marker": {
             "colorbar": {
              "outlinewidth": 0,
              "ticks": ""
             }
            },
            "type": "scatterpolar"
           }
          ],
          "scatterpolargl": [
           {
            "marker": {
             "colorbar": {
              "outlinewidth": 0,
              "ticks": ""
             }
            },
            "type": "scatterpolargl"
           }
          ],
          "scatterternary": [
           {
            "marker": {
             "colorbar": {
              "outlinewidth": 0,
              "ticks": ""
             }
            },
            "type": "scatterternary"
           }
          ],
          "surface": [
           {
            "colorbar": {
             "outlinewidth": 0,
             "ticks": ""
            },
            "colorscale": [
             [
              0,
              "#0d0887"
             ],
             [
              0.1111111111111111,
              "#46039f"
             ],
             [
              0.2222222222222222,
              "#7201a8"
             ],
             [
              0.3333333333333333,
              "#9c179e"
             ],
             [
              0.4444444444444444,
              "#bd3786"
             ],
             [
              0.5555555555555556,
              "#d8576b"
             ],
             [
              0.6666666666666666,
              "#ed7953"
             ],
             [
              0.7777777777777778,
              "#fb9f3a"
             ],
             [
              0.8888888888888888,
              "#fdca26"
             ],
             [
              1,
              "#f0f921"
             ]
            ],
            "type": "surface"
           }
          ],
          "table": [
           {
            "cells": {
             "fill": {
              "color": "#EBF0F8"
             },
             "line": {
              "color": "white"
             }
            },
            "header": {
             "fill": {
              "color": "#C8D4E3"
             },
             "line": {
              "color": "white"
             }
            },
            "type": "table"
           }
          ]
         },
         "layout": {
          "annotationdefaults": {
           "arrowcolor": "#2a3f5f",
           "arrowhead": 0,
           "arrowwidth": 1
          },
          "autotypenumbers": "strict",
          "coloraxis": {
           "colorbar": {
            "outlinewidth": 0,
            "ticks": ""
           }
          },
          "colorscale": {
           "diverging": [
            [
             0,
             "#8e0152"
            ],
            [
             0.1,
             "#c51b7d"
            ],
            [
             0.2,
             "#de77ae"
            ],
            [
             0.3,
             "#f1b6da"
            ],
            [
             0.4,
             "#fde0ef"
            ],
            [
             0.5,
             "#f7f7f7"
            ],
            [
             0.6,
             "#e6f5d0"
            ],
            [
             0.7,
             "#b8e186"
            ],
            [
             0.8,
             "#7fbc41"
            ],
            [
             0.9,
             "#4d9221"
            ],
            [
             1,
             "#276419"
            ]
           ],
           "sequential": [
            [
             0,
             "#0d0887"
            ],
            [
             0.1111111111111111,
             "#46039f"
            ],
            [
             0.2222222222222222,
             "#7201a8"
            ],
            [
             0.3333333333333333,
             "#9c179e"
            ],
            [
             0.4444444444444444,
             "#bd3786"
            ],
            [
             0.5555555555555556,
             "#d8576b"
            ],
            [
             0.6666666666666666,
             "#ed7953"
            ],
            [
             0.7777777777777778,
             "#fb9f3a"
            ],
            [
             0.8888888888888888,
             "#fdca26"
            ],
            [
             1,
             "#f0f921"
            ]
           ],
           "sequentialminus": [
            [
             0,
             "#0d0887"
            ],
            [
             0.1111111111111111,
             "#46039f"
            ],
            [
             0.2222222222222222,
             "#7201a8"
            ],
            [
             0.3333333333333333,
             "#9c179e"
            ],
            [
             0.4444444444444444,
             "#bd3786"
            ],
            [
             0.5555555555555556,
             "#d8576b"
            ],
            [
             0.6666666666666666,
             "#ed7953"
            ],
            [
             0.7777777777777778,
             "#fb9f3a"
            ],
            [
             0.8888888888888888,
             "#fdca26"
            ],
            [
             1,
             "#f0f921"
            ]
           ]
          },
          "colorway": [
           "#636efa",
           "#EF553B",
           "#00cc96",
           "#ab63fa",
           "#FFA15A",
           "#19d3f3",
           "#FF6692",
           "#B6E880",
           "#FF97FF",
           "#FECB52"
          ],
          "font": {
           "color": "#2a3f5f"
          },
          "geo": {
           "bgcolor": "white",
           "lakecolor": "white",
           "landcolor": "#E5ECF6",
           "showlakes": true,
           "showland": true,
           "subunitcolor": "white"
          },
          "hoverlabel": {
           "align": "left"
          },
          "hovermode": "closest",
          "mapbox": {
           "style": "light"
          },
          "paper_bgcolor": "white",
          "plot_bgcolor": "#E5ECF6",
          "polar": {
           "angularaxis": {
            "gridcolor": "white",
            "linecolor": "white",
            "ticks": ""
           },
           "bgcolor": "#E5ECF6",
           "radialaxis": {
            "gridcolor": "white",
            "linecolor": "white",
            "ticks": ""
           }
          },
          "scene": {
           "xaxis": {
            "backgroundcolor": "#E5ECF6",
            "gridcolor": "white",
            "gridwidth": 2,
            "linecolor": "white",
            "showbackground": true,
            "ticks": "",
            "zerolinecolor": "white"
           },
           "yaxis": {
            "backgroundcolor": "#E5ECF6",
            "gridcolor": "white",
            "gridwidth": 2,
            "linecolor": "white",
            "showbackground": true,
            "ticks": "",
            "zerolinecolor": "white"
           },
           "zaxis": {
            "backgroundcolor": "#E5ECF6",
            "gridcolor": "white",
            "gridwidth": 2,
            "linecolor": "white",
            "showbackground": true,
            "ticks": "",
            "zerolinecolor": "white"
           }
          },
          "shapedefaults": {
           "line": {
            "color": "#2a3f5f"
           }
          },
          "ternary": {
           "aaxis": {
            "gridcolor": "white",
            "linecolor": "white",
            "ticks": ""
           },
           "baxis": {
            "gridcolor": "white",
            "linecolor": "white",
            "ticks": ""
           },
           "bgcolor": "#E5ECF6",
           "caxis": {
            "gridcolor": "white",
            "linecolor": "white",
            "ticks": ""
           }
          },
          "title": {
           "x": 0.05
          },
          "xaxis": {
           "automargin": true,
           "gridcolor": "white",
           "linecolor": "white",
           "ticks": "",
           "title": {
            "standoff": 15
           },
           "zerolinecolor": "white",
           "zerolinewidth": 2
          },
          "yaxis": {
           "automargin": true,
           "gridcolor": "white",
           "linecolor": "white",
           "ticks": "",
           "title": {
            "standoff": 15
           },
           "zerolinecolor": "white",
           "zerolinewidth": 2
          }
         }
        }
       }
      },
      "image/png": "[encoded data removed]",
      "text/html": [
       "<div>                            <div id=\"cd23db28-23f7-446f-b8fb-8b0e287f17e4\" class=\"plotly-graph-div\" style=\"height:525px; width:100%;\"></div>            <script type=\"text/javascript\">                require([\"plotly\"], function(Plotly) {                    window.PLOTLYENV=window.PLOTLYENV || {};                                    if (document.getElementById(\"cd23db28-23f7-446f-b8fb-8b0e287f17e4\")) {                    Plotly.newPlot(                        \"cd23db28-23f7-446f-b8fb-8b0e287f17e4\",                        [{\"hovertemplate\":\"x=%{x}\\u003cbr\\u003ey=%{y}\\u003cbr\\u003ez=%{z}\\u003cextra\\u003e\\u003c\\u002fextra\\u003e\",\"legendgroup\":\"\",\"marker\":{\"color\":\"#636efa\",\"symbol\":\"circle\"},\"mode\":\"markers\",\"name\":\"\",\"scene\":\"scene\",\"showlegend\":false,\"x\":[1.7759838478524799,-0.6643070644523568,-0.8943889404629672,-1.3244650159014386,-1.1982345875692322,0.40512970814047433,-0.5901012638862797,-1.1128306916021415,-0.8826561077218846,-0.8930202128537306,2.575581994345862,3.3108451229572173,1.5725542364772291,2.7131021545822174,3.825796355559138,-0.5950398360102227,0.14441655944650345,1.8088987126498912,3.4437509195864946,-2.414736652841502,1.3052701565711367,0.3278908792619215,1.566295285939213,2.1566778287154857,2.240367882287539,-1.1698534842039932,2.9313065631734867,-0.7075804810369384,-2.7810812379847683,0.23657436140349386,-0.6975537027034395,-1.0756536151428147,-0.25993805142913873,3.875257652756458,-1.7233592973043237,-0.1713029556914627,-0.8227895262014795,1.1459802268526462,3.4869992411390145,3.6210923416664746,-1.5580909255230369,-0.24659506388480645,1.6525786530758326,2.5069994896461028,3.24224901769655,-1.7784840859473494,3.992375753057946,-0.06062488085611539,-2.497464598252084,0.133910551783202,1.0873014352545827,-2.663891760851049,-1.3136216764929025,-0.04990198646727917,1.7949321750564406,-1.2614677412132145,3.037168808863389,3.7912159915952452,-0.1648223163757323,0.19280755373494562,-1.8590552762646366,-1.0527124760720794,0.3227245448454843,2.26748288103572,-2.3191745124326526,-0.43884898969731356,2.296042304408134,2.7390850878976725,1.1944186547676479,3.1436717997556505,-0.5612784860271729,-0.8995987139012822,2.7611944873027783,1.1741412978667443,-2.023498963605344,-2.4802285212159734,-0.4158736471280764,-1.2187628368210797,3.9318823898862147,0.5002974831704199,-2.4296186157574273,2.2589715344694854,1.3703994988274726,0.11022221356419504,1.5596372306276614,3.486211171213518,0.202833211930721,2.304821751923555,-2.467945190713505,1.6763380328075295,-1.7310192121755634,-0.5450642737824518,2.48121499004324,2.493197007257926,2.9647617073498633,2.8666906760344517,-0.5228319265370724,2.253161094276127,2.6365525956515112,-2.4339762529265108],\"y\":[0.0011903276545517372,4.041124319040626,2.9931685038091507,-1.1604722668447354,1.7067546739820054,-0.19419623154499943,0.34581350402831923,3.008101891621803,0.5455198728677368,2.3063382314610674,4.190331411751092,-0.17741330672497524,-0.95660756386089,-1.9870896739075308,0.5096140714037065,0.1570908301184346,-0.21004608151676152,-0.8089916452139732,-1.8682919724650962,2.047684589443252,4.155024798431035,0.6374997131713567,0.09185414370085887,-0.7441617090414265,-0.029768180379406317,-0.5948102753116595,3.956558705495212,-2.490601577529289,-1.0942985356686594,3.828501996102384,-0.9617762029934114,1.2426078985463578,2.9137694016060705,1.2437892176177145,-2.6789749623446872,2.074544946073936,4.029953574148798,3.7960738911448555,-2.6823604963656087,-2.407131898703912,3.294662345552088,-1.446462848203781,-1.4771040889409028,3.9157788551902417,2.9745618681127315,-1.7667153851200696,0.6172243783346536,1.3832699816281755,-1.0281981248267416,0.7985266353736367,-0.9444861085942748,2.5025693395480095,3.353100351004068,-0.49414410200901404,0.14594053635764803,0.7340259712743724,-0.6469660370349577,-0.28110099623807017,-1.597623993452715,-0.5702485393536865,-1.6143063462602372,0.9519137030919111,-1.3119716716748973,2.4103874564798904,1.8013880075935305,2.6694064356416884,4.005794937991742,-1.4307927708533938,4.014109089997649,0.6429420398506709,-1.05837633633086,-2.0872151793963525,-2.1062687270264258,3.825090424150998,3.1550213325781726,0.23886040110619078,2.090816216994015,3.259494145301842,2.099715356570349,3.8045961821928866,4.0921419895288755,1.6628491817534368,-0.0070147035865213425,-1.6694644608688014,2.055644324621891,0.2039567724260678,2.9106277397430915,2.179301760019925,-1.2311244844161537,-0.3053319040045066,0.29328401310629015,-0.6181886870389741,0.5472532621777892,-1.9522381285492978,0.5792201801180332,-1.969628214659358,0.8931834817256776,-0.09313157230293223,1.7242825057520266,-0.7205277973173523],\"z\":[5.717251792581864,19.400423866610666,12.212891330859847,7.17022014721168,5.901083161519973,2.194541626562697,2.581934527367179,11.593601196839654,2.0945962916070777,9.233240322151614,28.919723258327668,13.691349824910159,7.518199460210649,12.76495327012748,15.822611709819132,1.1284450778485935,2.9845397591072214,4.695022699636496,16.836530011898514,10.559566817378947,22.230811849959323,2.3548105770110346,5.53032165537476,5.720132355402473,7.054056029287075,3.334267789874726,29.59845779146631,7.534807267088996,12.219885627871923,17.686250259017424,2.010211772745796,4.0947628098944815,12.837214889543446,17.65505139747013,11.614514556511677,8.017604012039717,18.302674128735262,19.37877170706709,22.209257325204117,19.759896893145037,15.674944063218527,3.3850704774395375,5.847460978168039,24.523797511989823,22.866358613362447,6.659288551077487,19.73988516417921,3.7687087425360075,7.31365261814317,4.177684528675654,4.553442265003619,15.764654587558406,14.561138764092606,3.052222084339814,5.455443326481783,2.0253510172945264,11.116843692800373,16.235326653196033,5.683352224515344,1.6230333400414867,7.3827743517101405,2.2887295159699317,4.372890688100612,14.158005006099671,9.458667493155644,9.483891844837629,25.45732522390841,11.42419917946045,21.025125939211776,12.666764244985867,3.037222003762817,6.420064939538927,14.87527497668556,19.586621061422285,15.553804547254373,6.729546093423986,6.0763115635726805,16.193926738446837,23.4158551479496,18.44556495871694,24.470348124630842,9.82078160476554,3.2739627622745413,4.895600776656105,9.867694243696596,13.739966974217303,12.689356188712166,13.152230402011467,9.294805712495577,5.757516813566844,5.026856060119637,2.2030622710344323,8.697671220075595,11.972523254330076,11.307264661142211,14.474899918405427,1.2330513214556025,9.593087671415331,12.297301643648906,6.7532971933176364],\"type\":\"scatter3d\"},{\"x\":[-2.7810812379847683,-2.028474905646689,-1.2758685733086095,-0.5232622409705301,0.2293440913675493,0.9819504237056287,1.734556756043708,2.487163088381788,3.239769420719867,3.992375753057946],\"y\":[-2.6823604963656087,-1.9187280621304197,-1.1550956278952307,-0.3914631936600417,0.37216924057514733,1.1358016748103363,1.8994341090455253,2.663066543280714,3.4266989775159034,4.190331411751092],\"z\":[[10.083946304131736,11.487097077416673,13.153668841800684,11.34266920135374,12.052910872755744,9.463051652272524,9.802542683249635,10.769103966097205,11.050433024000842,5.558221599513744],[11.194832789151809,10.597647302124873,9.080709952407517,10.072612167835473,15.950246373109337,11.549023271317752,6.626461145000414,13.926054512987621,12.372889454414889,10.025204927078846],[13.620408694541204,10.16727533958333,7.593224374644382,11.829688240217221,15.38991166154513,5.675801979972564,13.294710929944916,8.98629252284069,8.974790688711403,11.965657315166982],[13.582129604487733,10.36933286028588,14.96789083012771,10.22426872974245,8.803059804781775,11.586026730213826,11.760341656433312,11.467793363626985,10.942328399609933,12.44742949050736],[12.746428788114276,11.048478605045451,8.200486904331335,10.33851401127966,13.921840286857519,13.770905742124414,10.725969452970325,10.685641490198279,10.743090953778843,5.511143167444332],[6.075132236757987,9.151506494241243,10.713923766191398,8.952730290812767,10.273543494748187,11.84421238359182,10.358528097689378,11.435634262242793,11.254098995529358,12.390943604733085],[12.822816947744554,11.004200960094781,11.300550052342219,5.4208085546069125,7.045454026253175,12.436038749684375,11.87048516026043,13.532476796118667,10.583849153765854,13.310504327599594],[8.53161623636094,6.9730411626407545,7.58549978026633,11.277189242653325,12.814095096615882,10.554967511528517,10.642439391064253,11.759115878004202,12.27211575896796,13.515644434978118],[13.481381162101993,11.057828313082538,9.993124899848814,8.919324512181216,12.663214070233018,10.323362587572563,7.820348267595744,11.532248981791144,9.105742052649196,7.832538543381252],[13.117969354837006,9.581139791989857,11.083879990995632,11.454942282921344,13.070955882856776,10.963157098560405,8.283731743326438,8.206064957314114,11.063908245413085,10.007775063696572]],\"type\":\"surface\"}],                        {\"template\":{\"data\":{\"histogram2dcontour\":[{\"type\":\"histogram2dcontour\",\"colorbar\":{\"outlinewidth\":0,\"ticks\":\"\"},\"colorscale\":[[0.0,\"#0d0887\"],[0.1111111111111111,\"#46039f\"],[0.2222222222222222,\"#7201a8\"],[0.3333333333333333,\"#9c179e\"],[0.4444444444444444,\"#bd3786\"],[0.5555555555555556,\"#d8576b\"],[0.6666666666666666,\"#ed7953\"],[0.7777777777777778,\"#fb9f3a\"],[0.8888888888888888,\"#fdca26\"],[1.0,\"#f0f921\"]]}],\"choropleth\":[{\"type\":\"choropleth\",\"colorbar\":{\"outlinewidth\":0,\"ticks\":\"\"}}],\"histogram2d\":[{\"type\":\"histogram2d\",\"colorbar\":{\"outlinewidth\":0,\"ticks\":\"\"},\"colorscale\":[[0.0,\"#0d0887\"],[0.1111111111111111,\"#46039f\"],[0.2222222222222222,\"#7201a8\"],[0.3333333333333333,\"#9c179e\"],[0.4444444444444444,\"#bd3786\"],[0.5555555555555556,\"#d8576b\"],[0.6666666666666666,\"#ed7953\"],[0.7777777777777778,\"#fb9f3a\"],[0.8888888888888888,\"#fdca26\"],[1.0,\"#f0f921\"]]}],\"heatmap\":[{\"type\":\"heatmap\",\"colorbar\":{\"outlinewidth\":0,\"ticks\":\"\"},\"colorscale\":[[0.0,\"#0d0887\"],[0.1111111111111111,\"#46039f\"],[0.2222222222222222,\"#7201a8\"],[0.3333333333333333,\"#9c179e\"],[0.4444444444444444,\"#bd3786\"],[0.5555555555555556,\"#d8576b\"],[0.6666666666666666,\"#ed7953\"],[0.7777777777777778,\"#fb9f3a\"],[0.8888888888888888,\"#fdca26\"],[1.0,\"#f0f921\"]]}],\"heatmapgl\":[{\"type\":\"heatmapgl\",\"colorbar\":{\"outlinewidth\":0,\"ticks\":\"\"},\"colorscale\":[[0.0,\"#0d0887\"],[0.1111111111111111,\"#46039f\"],[0.2222222222222222,\"#7201a8\"],[0.3333333333333333,\"#9c179e\"],[0.4444444444444444,\"#bd3786\"],[0.5555555555555556,\"#d8576b\"],[0.6666666666666666,\"#ed7953\"],[0.7777777777777778,\"#fb9f3a\"],[0.8888888888888888,\"#fdca26\"],[1.0,\"#f0f921\"]]}],\"contourcarpet\":[{\"type\":\"contourcarpet\",\"colorbar\":{\"outlinewidth\":0,\"ticks\":\"\"}}],\"contour\":[{\"type\":\"contour\",\"colorbar\":{\"outlinewidth\":0,\"ticks\":\"\"},\"colorscale\":[[0.0,\"#0d0887\"],[0.1111111111111111,\"#46039f\"],[0.2222222222222222,\"#7201a8\"],[0.3333333333333333,\"#9c179e\"],[0.4444444444444444,\"#bd3786\"],[0.5555555555555556,\"#d8576b\"],[0.6666666666666666,\"#ed7953\"],[0.7777777777777778,\"#fb9f3a\"],[0.8888888888888888,\"#fdca26\"],[1.0,\"#f0f921\"]]}],\"surface\":[{\"type\":\"surface\",\"colorbar\":{\"outlinewidth\":0,\"ticks\":\"\"},\"colorscale\":[[0.0,\"#0d0887\"],[0.1111111111111111,\"#46039f\"],[0.2222222222222222,\"#7201a8\"],[0.3333333333333333,\"#9c179e\"],[0.4444444444444444,\"#bd3786\"],[0.5555555555555556,\"#d8576b\"],[0.6666666666666666,\"#ed7953\"],[0.7777777777777778,\"#fb9f3a\"],[0.8888888888888888,\"#fdca26\"],[1.0,\"#f0f921\"]]}],\"mesh3d\":[{\"type\":\"mesh3d\",\"colorbar\":{\"outlinewidth\":0,\"ticks\":\"\"}}],\"scatter\":[{\"fillpattern\":{\"fillmode\":\"overlay\",\"size\":10,\"solidity\":0.2},\"type\":\"scatter\"}],\"parcoords\":[{\"type\":\"parcoords\",\"line\":{\"colorbar\":{\"outlinewidth\":0,\"ticks\":\"\"}}}],\"scatterpolargl\":[{\"type\":\"scatterpolargl\",\"marker\":{\"colorbar\":{\"outlinewidth\":0,\"ticks\":\"\"}}}],\"bar\":[{\"error_x\":{\"color\":\"#2a3f5f\"},\"error_y\":{\"color\":\"#2a3f5f\"},\"marker\":{\"line\":{\"color\":\"#E5ECF6\",\"width\":0.5},\"pattern\":{\"fillmode\":\"overlay\",\"size\":10,\"solidity\":0.2}},\"type\":\"bar\"}],\"scattergeo\":[{\"type\":\"scattergeo\",\"marker\":{\"colorbar\":{\"outlinewidth\":0,\"ticks\":\"\"}}}],\"scatterpolar\":[{\"type\":\"scatterpolar\",\"marker\":{\"colorbar\":{\"outlinewidth\":0,\"ticks\":\"\"}}}],\"histogram\":[{\"marker\":{\"pattern\":{\"fillmode\":\"overlay\",\"size\":10,\"solidity\":0.2}},\"type\":\"histogram\"}],\"scattergl\":[{\"type\":\"scattergl\",\"marker\":{\"colorbar\":{\"outlinewidth\":0,\"ticks\":\"\"}}}],\"scatter3d\":[{\"type\":\"scatter3d\",\"line\":{\"colorbar\":{\"outlinewidth\":0,\"ticks\":\"\"}},\"marker\":{\"colorbar\":{\"outlinewidth\":0,\"ticks\":\"\"}}}],\"scattermapbox\":[{\"type\":\"scattermapbox\",\"marker\":{\"colorbar\":{\"outlinewidth\":0,\"ticks\":\"\"}}}],\"scatterternary\":[{\"type\":\"scatterternary\",\"marker\":{\"colorbar\":{\"outlinewidth\":0,\"ticks\":\"\"}}}],\"scattercarpet\":[{\"type\":\"scattercarpet\",\"marker\":{\"colorbar\":{\"outlinewidth\":0,\"ticks\":\"\"}}}],\"carpet\":[{\"aaxis\":{\"endlinecolor\":\"#2a3f5f\",\"gridcolor\":\"white\",\"linecolor\":\"white\",\"minorgridcolor\":\"white\",\"startlinecolor\":\"#2a3f5f\"},\"baxis\":{\"endlinecolor\":\"#2a3f5f\",\"gridcolor\":\"white\",\"linecolor\":\"white\",\"minorgridcolor\":\"white\",\"startlinecolor\":\"#2a3f5f\"},\"type\":\"carpet\"}],\"table\":[{\"cells\":{\"fill\":{\"color\":\"#EBF0F8\"},\"line\":{\"color\":\"white\"}},\"header\":{\"fill\":{\"color\":\"#C8D4E3\"},\"line\":{\"color\":\"white\"}},\"type\":\"table\"}],\"barpolar\":[{\"marker\":{\"line\":{\"color\":\"#E5ECF6\",\"width\":0.5},\"pattern\":{\"fillmode\":\"overlay\",\"size\":10,\"solidity\":0.2}},\"type\":\"barpolar\"}],\"pie\":[{\"automargin\":true,\"type\":\"pie\"}]},\"layout\":{\"autotypenumbers\":\"strict\",\"colorway\":[\"#636efa\",\"#EF553B\",\"#00cc96\",\"#ab63fa\",\"#FFA15A\",\"#19d3f3\",\"#FF6692\",\"#B6E880\",\"#FF97FF\",\"#FECB52\"],\"font\":{\"color\":\"#2a3f5f\"},\"hovermode\":\"closest\",\"hoverlabel\":{\"align\":\"left\"},\"paper_bgcolor\":\"white\",\"plot_bgcolor\":\"#E5ECF6\",\"polar\":{\"bgcolor\":\"#E5ECF6\",\"angularaxis\":{\"gridcolor\":\"white\",\"linecolor\":\"white\",\"ticks\":\"\"},\"radialaxis\":{\"gridcolor\":\"white\",\"linecolor\":\"white\",\"ticks\":\"\"}},\"ternary\":{\"bgcolor\":\"#E5ECF6\",\"aaxis\":{\"gridcolor\":\"white\",\"linecolor\":\"white\",\"ticks\":\"\"},\"baxis\":{\"gridcolor\":\"white\",\"linecolor\":\"white\",\"ticks\":\"\"},\"caxis\":{\"gridcolor\":\"white\",\"linecolor\":\"white\",\"ticks\":\"\"}},\"coloraxis\":{\"colorbar\":{\"outlinewidth\":0,\"ticks\":\"\"}},\"colorscale\":{\"sequential\":[[0.0,\"#0d0887\"],[0.1111111111111111,\"#46039f\"],[0.2222222222222222,\"#7201a8\"],[0.3333333333333333,\"#9c179e\"],[0.4444444444444444,\"#bd3786\"],[0.5555555555555556,\"#d8576b\"],[0.6666666666666666,\"#ed7953\"],[0.7777777777777778,\"#fb9f3a\"],[0.8888888888888888,\"#fdca26\"],[1.0,\"#f0f921\"]],\"sequentialminus\":[[0.0,\"#0d0887\"],[0.1111111111111111,\"#46039f\"],[0.2222222222222222,\"#7201a8\"],[0.3333333333333333,\"#9c179e\"],[0.4444444444444444,\"#bd3786\"],[0.5555555555555556,\"#d8576b\"],[0.6666666666666666,\"#ed7953\"],[0.7777777777777778,\"#fb9f3a\"],[0.8888888888888888,\"#fdca26\"],[1.0,\"#f0f921\"]],\"diverging\":[[0,\"#8e0152\"],[0.1,\"#c51b7d\"],[0.2,\"#de77ae\"],[0.3,\"#f1b6da\"],[0.4,\"#fde0ef\"],[0.5,\"#f7f7f7\"],[0.6,\"#e6f5d0\"],[0.7,\"#b8e186\"],[0.8,\"#7fbc41\"],[0.9,\"#4d9221\"],[1,\"#276419\"]]},\"xaxis\":{\"gridcolor\":\"white\",\"linecolor\":\"white\",\"ticks\":\"\",\"title\":{\"standoff\":15},\"zerolinecolor\":\"white\",\"automargin\":true,\"zerolinewidth\":2},\"yaxis\":{\"gridcolor\":\"white\",\"linecolor\":\"white\",\"ticks\":\"\",\"title\":{\"standoff\":15},\"zerolinecolor\":\"white\",\"automargin\":true,\"zerolinewidth\":2},\"scene\":{\"xaxis\":{\"backgroundcolor\":\"#E5ECF6\",\"gridcolor\":\"white\",\"linecolor\":\"white\",\"showbackground\":true,\"ticks\":\"\",\"zerolinecolor\":\"white\",\"gridwidth\":2},\"yaxis\":{\"backgroundcolor\":\"#E5ECF6\",\"gridcolor\":\"white\",\"linecolor\":\"white\",\"showbackground\":true,\"ticks\":\"\",\"zerolinecolor\":\"white\",\"gridwidth\":2},\"zaxis\":{\"backgroundcolor\":\"#E5ECF6\",\"gridcolor\":\"white\",\"linecolor\":\"white\",\"showbackground\":true,\"ticks\":\"\",\"zerolinecolor\":\"white\",\"gridwidth\":2}},\"shapedefaults\":{\"line\":{\"color\":\"#2a3f5f\"}},\"annotationdefaults\":{\"arrowcolor\":\"#2a3f5f\",\"arrowhead\":0,\"arrowwidth\":1},\"geo\":{\"bgcolor\":\"white\",\"landcolor\":\"#E5ECF6\",\"subunitcolor\":\"white\",\"showland\":true,\"showlakes\":true,\"lakecolor\":\"white\"},\"title\":{\"x\":0.05},\"mapbox\":{\"style\":\"light\"}}},\"scene\":{\"domain\":{\"x\":[0.0,1.0],\"y\":[0.0,1.0]},\"xaxis\":{\"title\":{\"text\":\"x\"}},\"yaxis\":{\"title\":{\"text\":\"y\"}},\"zaxis\":{\"title\":{\"text\":\"z\"},\"range\":[0,35]}},\"legend\":{\"tracegroupgap\":0},\"margin\":{\"t\":60}},                        {\"responsive\": true}                    ).then(function(){\n",
       "                            \n",
       "var gd = document.getElementById('cd23db28-23f7-446f-b8fb-8b0e287f17e4');\n",
       "var x = new MutationObserver(function (mutations, observer) {{\n",
       "        var display = window.getComputedStyle(gd).display;\n",
       "        if (!display || display === 'none') {{\n",
       "            console.log([gd, 'removed!']);\n",
       "            Plotly.purge(gd);\n",
       "            observer.disconnect();\n",
       "        }}\n",
       "}});\n",
       "\n",
       "// Listen for the removal of the full notebook cells\n",
       "var notebookContainer = gd.closest('#notebook-container');\n",
       "if (notebookContainer) {{\n",
       "    x.observe(notebookContainer, {childList: true});\n",
       "}}\n",
       "\n",
       "// Listen for the clearing of the current output cell\n",
       "var outputEl = gd.closest('.output');\n",
       "if (outputEl) {{\n",
       "    x.observe(outputEl, {childList: true});\n",
       "}}\n",
       "\n",
       "                        })                };                });            </script>        </div>"
      ]
     },
     "metadata": {},
     "output_type": "display_data"
    }
   ],
   "source": [
    "\n",
    "fig = px.scatter_3d(x=x.ravel(), y=y.ravel(), z=z.ravel())\n",
    "\n",
    "fig.add_trace(go.Surface(x = x_input, y = y_input, z =z_final))\n",
    "\n",
    "fig.update_layout(scene = dict(zaxis = dict(range=[0,35])))\n",
    "\n",
    "fig.show()"
   ]
  },
  {
   "cell_type": "code",
   "execution_count": null,
   "id": "73a90c1c-1a9c-4077-8529-4a3324162fdb",
   "metadata": {},
   "outputs": [],
   "source": []
  }
 ],
 "metadata": {
  "kernelspec": {
   "display_name": "Python [conda env:base] *",
   "language": "python",
   "name": "conda-base-py"
  },
  "language_info": {
   "codemirror_mode": {
    "name": "ipython",
    "version": 3
   },
   "file_extension": ".py",
   "mimetype": "text/x-python",
   "name": "python",
   "nbconvert_exporter": "python",
   "pygments_lexer": "ipython3",
   "version": "3.12.7"
  }
 },
 "nbformat": 4,
 "nbformat_minor": 5
}
