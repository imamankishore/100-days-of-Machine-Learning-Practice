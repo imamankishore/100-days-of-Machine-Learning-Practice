{
 "cells": [
  {
   "cell_type": "code",
   "execution_count": 1,
   "id": "1899e181-14d2-400a-9aa1-c8aaa8637df9",
   "metadata": {},
   "outputs": [],
   "source": [
    "from sklearn.datasets import load_diabetes\n",
    "from sklearn.metrics import r2_score\n",
    "import numpy as np"
   ]
  },
  {
   "cell_type": "code",
   "execution_count": null,
   "id": "fd4d5c4c-dc7a-4984-bf24-ca9a4af0b37c",
   "metadata": {},
   "outputs": [],
   "source": [
    "X,y = load_diabetes(return_X_y=True)"
   ]
  },
  {
   "cell_type": "code",
   "execution_count": null,
   "id": "a1172834-d564-49d5-a1ff-522862af012b",
   "metadata": {},
   "outputs": [],
   "source": [
    "from sklearn.model_selection import train_test_split"
   ]
  },
  {
   "cell_type": "code",
   "execution_count": null,
   "id": "643d7cd0-addb-4073-9775-b6a39183c2c2",
   "metadata": {},
   "outputs": [],
   "source": [
    "X_train , X_test , y_train , y_test = train_test_split(X,y,\n",
    "                                                      test_size = 0.2,\n",
    "                                                      random_state=4)"
   ]
  },
  {
   "cell_type": "code",
   "execution_count": null,
   "id": "935c35bf-776f-4c90-b791-70674ff4b253",
   "metadata": {},
   "outputs": [],
   "source": [
    "from sklearn.linear_model import SGDRegressor"
   ]
  },
  {
   "cell_type": "code",
   "execution_count": null,
   "id": "8bdb53c0-5f5d-40e0-9548-4ace9f55c6d3",
   "metadata": {},
   "outputs": [],
   "source": [
    "reg = SGDRegressor(penalty='l2',max_iter=500,eta0=0.1, learning_rate='constant',alpha=0.001)"
   ]
  },
  {
   "cell_type": "code",
   "execution_count": null,
   "id": "037b2be6-9cfe-4f61-8c4b-f2db75a4fe8a",
   "metadata": {},
   "outputs": [],
   "source": [
    "reg.fit(X_train , y_train)"
   ]
  },
  {
   "cell_type": "code",
   "execution_count": null,
   "id": "e3714fd4-4598-44c0-9e47-e1d2f4b59985",
   "metadata": {},
   "outputs": [],
   "source": [
    "y_pred =reg.predict(X_test)"
   ]
  },
  {
   "cell_type": "code",
   "execution_count": null,
   "id": "02edc828-0979-4e2b-87f5-6a97a8efa13e",
   "metadata": {},
   "outputs": [],
   "source": [
    "r2_score(y_test,y_pred)"
   ]
  },
  {
   "cell_type": "code",
   "execution_count": null,
   "id": "8468e274-3594-41b1-8ea6-1e47bb4b3746",
   "metadata": {},
   "outputs": [],
   "source": [
    "reg.coef_"
   ]
  },
  {
   "cell_type": "code",
   "execution_count": null,
   "id": "abd89171-965c-45ea-b8af-a2f99be12e6b",
   "metadata": {},
   "outputs": [],
   "source": [
    "reg.intercept_"
   ]
  },
  {
   "cell_type": "code",
   "execution_count": null,
   "id": "91c5d137-582e-490b-86f5-a115c579f8ed",
   "metadata": {},
   "outputs": [],
   "source": [
    "from sklearn.linear_model import Ridge"
   ]
  },
  {
   "cell_type": "code",
   "execution_count": null,
   "id": "81a65bd3-32fa-41bb-a294-e9a06a60668e",
   "metadata": {},
   "outputs": [],
   "source": [
    "rr = Ridge(alpha=0.001 , max_iter=500,solver='sparse_cg')"
   ]
  },
  {
   "cell_type": "code",
   "execution_count": null,
   "id": "4a234ea2-f720-4113-b693-db05769b5eb5",
   "metadata": {},
   "outputs": [],
   "source": [
    "rr = rr.fit(X_train , y_train)"
   ]
  },
  {
   "cell_type": "code",
   "execution_count": null,
   "id": "fb5bef31-2027-48ff-80e5-b3df47b74118",
   "metadata": {},
   "outputs": [],
   "source": [
    "y_pred = rr.predict(X_test)"
   ]
  },
  {
   "cell_type": "code",
   "execution_count": null,
   "id": "230a251a-a12e-4e81-9a12-5c77690ab689",
   "metadata": {},
   "outputs": [],
   "source": [
    "r2_score(y_test,y_pred)"
   ]
  },
  {
   "cell_type": "code",
   "execution_count": null,
   "id": "cc1b139b-b001-4a32-8d4f-9762fcfc7ff3",
   "metadata": {},
   "outputs": [],
   "source": [
    "class myRidge:\n",
    "\n",
    "    def __init__(self,epochs,learning_rate,alpha):\n",
    "        self.lr = learning_rate\n",
    "        self.epochs = alpha\n",
    "        self.alpha = alpha\n",
    "        self.coef_ = None\n",
    "        self.intercept_ = None\n",
    "\n",
    "\n",
    "    def fit(self , X_train , y_train):\n",
    "\n",
    "        self.coef_ = np.ones(X_train.shape[1])\n",
    "        self.intercept_ = 0\n",
    "        theta = np.insert(self.coef_ , 0,self.intercept_)\n",
    "\n",
    "\n",
    "        X_train = np.insert(X_train,0,1,axis=1)\n",
    "\n",
    "\n",
    "        for i in range(int(self.epochs)):\n",
    "            theta_der = np.dot(X_train.T , X_train).dot(theta) - np.dot(X_train.T , y_train) + self.alpha*theta\n",
    "            theta = theta - self.lr * theta_der\n",
    "\n",
    "    \n",
    "        self.coef_ = theta[1:]\n",
    "        self.intercept_ = theta[0]\n",
    "\n",
    "\n",
    "    def predict(self, X_test):\n",
    "            return np.dot(X_test , self.coef_) + self.lr"
   ]
  },
  {
   "cell_type": "code",
   "execution_count": null,
   "id": "07b8c58a-7683-4251-8490-eddf6312f69c",
   "metadata": {},
   "outputs": [],
   "source": [
    "reg = myRidge(epochs=500 , learning_rate=0.005 , alpha=0.001 )"
   ]
  },
  {
   "cell_type": "code",
   "execution_count": null,
   "id": "b9fc16c8-ab58-4faf-af0a-f1d978db273c",
   "metadata": {},
   "outputs": [],
   "source": [
    "reg.fit(X_train , y_train)"
   ]
  },
  {
   "cell_type": "code",
   "execution_count": null,
   "id": "0d0da889-d9fd-49af-9751-a878bd169bbe",
   "metadata": {},
   "outputs": [],
   "source": [
    "y_pred = reg.predict(X_test)"
   ]
  },
  {
   "cell_type": "code",
   "execution_count": null,
   "id": "3c5c93d8-cae9-4f7c-83f7-fa9b36cf15a0",
   "metadata": {},
   "outputs": [],
   "source": [
    "r2_score(y_test,y_pred)"
   ]
  },
  {
   "cell_type": "code",
   "execution_count": null,
   "id": "e3833709-7948-4f7e-93d5-133f8c0778c8",
   "metadata": {},
   "outputs": [],
   "source": [
    "class MyRidgeGD:\n",
    "    \n",
    "    def __init__(self,epochs,learning_rate,alpha):\n",
    "        \n",
    "        self.learning_rate = learning_rate\n",
    "        self.epochs = epochs\n",
    "        self.alpha = alpha\n",
    "        self.coef_ = None\n",
    "        self.intercept_ = None\n",
    "        \n",
    "    def fit(self,X_train,y_train):\n",
    "        \n",
    "        self.coef_ = np.ones(X_train.shape[1])\n",
    "        self.intercept_ = 0\n",
    "        thetha = np.insert(self.coef_,0,self.intercept_)\n",
    "        \n",
    "        X_train = np.insert(X_train,0,1,axis=1)\n",
    "        \n",
    "        for i in range(self.epochs):\n",
    "            thetha_der = np.dot(X_train.T,X_train).dot(thetha) - np.dot(X_train.T,y_train) + self.alpha*thetha\n",
    "            thetha = thetha - self.learning_rate*thetha_der\n",
    "        \n",
    "        self.coef_ = thetha[1:]\n",
    "        self.intercept_ = thetha[0]\n",
    "    \n",
    "    def predict(self,X_test):\n",
    "        \n",
    "        return np.dot(X_test,self.coef_) + self.intercept_"
   ]
  },
  {
   "cell_type": "code",
   "execution_count": null,
   "id": "08120d00-0162-4826-a1d4-ffb7f5d9cfad",
   "metadata": {},
   "outputs": [],
   "source": [
    "reg = MyRidgeGD(epochs=500,alpha=0.001,learning_rate=0.005)\n"
   ]
  },
  {
   "cell_type": "code",
   "execution_count": null,
   "id": "612d1d2e-5708-4d11-b7c2-d0bee8521d18",
   "metadata": {},
   "outputs": [],
   "source": [
    "reg.fit(X_train,y_train)\n",
    "\n",
    "y_pred = reg.predict(X_test)\n",
    "print(\"R2 score\",r2_score(y_test,y_pred))\n",
    "print(reg.coef_)\n",
    "print(reg.intercept_)"
   ]
  },
  {
   "cell_type": "code",
   "execution_count": null,
   "id": "8adb73e8-fdf7-4ab1-b06b-36060f05b4c7",
   "metadata": {},
   "outputs": [],
   "source": []
  }
 ],
 "metadata": {
  "kernelspec": {
   "display_name": "Python [conda env:base] *",
   "language": "python",
   "name": "conda-base-py"
  },
  "language_info": {
   "codemirror_mode": {
    "name": "ipython",
    "version": 3
   },
   "file_extension": ".py",
   "mimetype": "text/x-python",
   "name": "python",
   "nbconvert_exporter": "python",
   "pygments_lexer": "ipython3",
   "version": "3.12.7"
  }
 },
 "nbformat": 4,
 "nbformat_minor": 5
}
