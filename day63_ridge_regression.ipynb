{
 "cells": [
  {
   "cell_type": "code",
   "execution_count": 4,
   "id": "77911998-7311-4628-85f5-4952848c899f",
   "metadata": {},
   "outputs": [],
   "source": [
    "from sklearn.datasets import load_diabetes\n",
    "from sklearn.metrics import r2_score\n",
    "import numpy as np"
   ]
  },
  {
   "cell_type": "code",
   "execution_count": 5,
   "id": "230bf651-e891-4b5c-a98c-970b84475154",
   "metadata": {},
   "outputs": [],
   "source": [
    "X,y = load_diabetes(return_X_y=True)"
   ]
  },
  {
   "cell_type": "code",
   "execution_count": 6,
   "id": "dded40fb-2376-442d-8758-035818e913f8",
   "metadata": {},
   "outputs": [],
   "source": [
    "from sklearn.model_selection import train_test_split"
   ]
  },
  {
   "cell_type": "code",
   "execution_count": 7,
   "id": "3790700a-4225-4a79-94e5-8026854de19b",
   "metadata": {},
   "outputs": [],
   "source": [
    "X_train , X_test , y_train , y_test = train_test_split(X,y,\n",
    "                                                      test_size=0.2,\n",
    "                                                      random_state=42)"
   ]
  },
  {
   "cell_type": "code",
   "execution_count": 8,
   "id": "94218320-8a8d-47dc-9184-73e1565474cf",
   "metadata": {},
   "outputs": [],
   "source": [
    "from sklearn.linear_model import LinearRegression"
   ]
  },
  {
   "cell_type": "code",
   "execution_count": 9,
   "id": "b22f4097-6144-4c2d-ab8f-550863520af6",
   "metadata": {},
   "outputs": [],
   "source": [
    "lr = LinearRegression()"
   ]
  },
  {
   "cell_type": "code",
   "execution_count": 10,
   "id": "1a3c7968-93d9-4246-855c-f496ec25ea43",
   "metadata": {},
   "outputs": [],
   "source": [
    "lr = lr.fit(X_train , y_train)"
   ]
  },
  {
   "cell_type": "code",
   "execution_count": 11,
   "id": "03646dd1-9d07-4657-93d5-862dca27e20c",
   "metadata": {},
   "outputs": [],
   "source": [
    "y_pred = lr.predict(X_test)"
   ]
  },
  {
   "cell_type": "code",
   "execution_count": 12,
   "id": "674888ba-ccf4-4dbf-9730-187ef3c41640",
   "metadata": {},
   "outputs": [
    {
     "data": {
      "text/plain": [
       "0.4526027629719196"
      ]
     },
     "execution_count": 12,
     "metadata": {},
     "output_type": "execute_result"
    }
   ],
   "source": [
    "r2_score(y_test,y_pred)"
   ]
  },
  {
   "cell_type": "code",
   "execution_count": 14,
   "id": "f84a7419-8df4-44d0-8adc-c3208173313d",
   "metadata": {},
   "outputs": [
    {
     "data": {
      "text/plain": [
       "array([  37.90402135, -241.96436231,  542.42875852,  347.70384391,\n",
       "       -931.48884588,  518.06227698,  163.41998299,  275.31790158,\n",
       "        736.1988589 ,   48.67065743])"
      ]
     },
     "execution_count": 14,
     "metadata": {},
     "output_type": "execute_result"
    }
   ],
   "source": [
    "lr.coef_"
   ]
  },
  {
   "cell_type": "code",
   "execution_count": 15,
   "id": "7a0034f6-40ca-49df-bc79-0e43ee73ecb1",
   "metadata": {},
   "outputs": [
    {
     "data": {
      "text/plain": [
       "151.34560453985995"
      ]
     },
     "execution_count": 15,
     "metadata": {},
     "output_type": "execute_result"
    }
   ],
   "source": [
    "lr.intercept_"
   ]
  },
  {
   "cell_type": "code",
   "execution_count": 17,
   "id": "6a4cc3e7-2a8b-4b47-96e3-8e7d7be596f6",
   "metadata": {},
   "outputs": [],
   "source": [
    "from sklearn.linear_model import Ridge"
   ]
  },
  {
   "cell_type": "code",
   "execution_count": 18,
   "id": "a87aa721-8b61-4a83-9579-e492ec484c50",
   "metadata": {},
   "outputs": [],
   "source": [
    "r = Ridge(alpha=0.1 , solver='cholesky')"
   ]
  },
  {
   "cell_type": "code",
   "execution_count": 19,
   "id": "a0bea6ad-d206-4ce6-b633-63961f475ae0",
   "metadata": {},
   "outputs": [],
   "source": [
    "r = r.fit(X_train , y_train)"
   ]
  },
  {
   "cell_type": "code",
   "execution_count": 20,
   "id": "56102893-4d75-4336-84dd-35b0ccd9a3da",
   "metadata": {},
   "outputs": [],
   "source": [
    "y_pred = r.predict(X_test)"
   ]
  },
  {
   "cell_type": "code",
   "execution_count": 22,
   "id": "46ced6ff-ed7a-4d56-b1c7-1d93aa68b3bb",
   "metadata": {},
   "outputs": [
    {
     "data": {
      "text/plain": [
       "0.4608521946411924"
      ]
     },
     "execution_count": 22,
     "metadata": {},
     "output_type": "execute_result"
    }
   ],
   "source": [
    "r2_score(y_test ,y_pred)"
   ]
  },
  {
   "cell_type": "code",
   "execution_count": 23,
   "id": "9c0c4ebd-d141-4d8d-a0f4-09a16a001d2a",
   "metadata": {},
   "outputs": [
    {
     "data": {
      "text/plain": [
       "array([  42.85566976, -205.49431899,  505.08903304,  317.0932049 ,\n",
       "       -108.50026183,  -86.23673333, -190.36318008,  151.70708637,\n",
       "        392.28931896,   79.9081772 ])"
      ]
     },
     "execution_count": 23,
     "metadata": {},
     "output_type": "execute_result"
    }
   ],
   "source": [
    "r.coef_"
   ]
  },
  {
   "cell_type": "code",
   "execution_count": 24,
   "id": "6d77f314-5564-4214-a469-92ba30e44e71",
   "metadata": {},
   "outputs": [
    {
     "data": {
      "text/plain": [
       "151.45857456679613"
      ]
     },
     "execution_count": 24,
     "metadata": {},
     "output_type": "execute_result"
    }
   ],
   "source": [
    "r.intercept_"
   ]
  },
  {
   "cell_type": "code",
   "execution_count": 26,
   "id": "fb155124-3dcb-4ae5-86b0-138eccf2d26d",
   "metadata": {},
   "outputs": [],
   "source": [
    "class myRidge:\n",
    "    def __init__ (self , alpha=0.1):\n",
    "        self.alpha = alpha\n",
    "        self.coef_ = None\n",
    "        self.intercept_ = None\n",
    "\n",
    "    def fit(self , X_train ,y_train):\n",
    "        X_train =np.insert(X_train, 0,1,axis=1)\n",
    "        I = np.identity(X_train.shape[1])\n",
    "\n",
    "        result = np.linalg.inv(np.dot(X_train.T , X_train) + self.alpha*I).dot(X_train.T).dot(y_train)\n",
    "\n",
    "\n",
    "        self.intercept_ = result[0]\n",
    "        self.coef_ = result[1:]\n",
    "\n",
    "    def predict(self ,X_test):\n",
    "        return np.dot(X_test , self.coef_) + self.intercept_\n",
    "\n",
    "\n",
    "    "
   ]
  },
  {
   "cell_type": "code",
   "execution_count": 29,
   "id": "aa65515d-37e8-4306-9c2e-e4a589905c24",
   "metadata": {},
   "outputs": [],
   "source": [
    "reg = myRidge()"
   ]
  },
  {
   "cell_type": "code",
   "execution_count": 30,
   "id": "c2104d29-e323-4706-9810-d15cea141835",
   "metadata": {},
   "outputs": [],
   "source": [
    "reg = reg.fit(X_train ,y_train)"
   ]
  },
  {
   "cell_type": "code",
   "execution_count": 32,
   "id": "d710500d-2085-45fd-a67f-5bc22d1f23f7",
   "metadata": {},
   "outputs": [
    {
     "ename": "AttributeError",
     "evalue": "'NoneType' object has no attribute 'predict'",
     "output_type": "error",
     "traceback": [
      "\u001b[1;31m---------------------------------------------------------------------------\u001b[0m",
      "\u001b[1;31mAttributeError\u001b[0m                            Traceback (most recent call last)",
      "Cell \u001b[1;32mIn[32], line 1\u001b[0m\n\u001b[1;32m----> 1\u001b[0m y_pred \u001b[38;5;241m=\u001b[39m reg\u001b[38;5;241m.\u001b[39mpredict(X_test)\n",
      "\u001b[1;31mAttributeError\u001b[0m: 'NoneType' object has no attribute 'predict'"
     ]
    }
   ],
   "source": []
  },
  {
   "cell_type": "code",
   "execution_count": null,
   "id": "e7ebcc2f-3399-4b30-b781-eab0ff9eb27c",
   "metadata": {},
   "outputs": [],
   "source": []
  }
 ],
 "metadata": {
  "kernelspec": {
   "display_name": "Python [conda env:base] *",
   "language": "python",
   "name": "conda-base-py"
  },
  "language_info": {
   "codemirror_mode": {
    "name": "ipython",
    "version": 3
   },
   "file_extension": ".py",
   "mimetype": "text/x-python",
   "name": "python",
   "nbconvert_exporter": "python",
   "pygments_lexer": "ipython3",
   "version": "3.12.7"
  }
 },
 "nbformat": 4,
 "nbformat_minor": 5
}
